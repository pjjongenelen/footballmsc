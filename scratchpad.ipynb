{
 "cells": [
  {
   "cell_type": "markdown",
   "metadata": {
    "collapsed": true,
    "pycharm": {
     "name": "#%% md\n"
    }
   },
   "source": [
    "# snscrape experimentation"
   ],
   "outputs": [],
   "execution_count": 2
  },
  {
   "cell_type": "code",
   "execution_count": 119,
   "outputs": [],
   "source": [
    "import matplotlib.pyplot as plt\n",
    "import pandas as pd"
   ],
   "metadata": {
    "collapsed": false,
    "pycharm": {
     "name": "#%%\n"
    }
   }
  },
  {
   "cell_type": "code",
   "execution_count": 8,
   "outputs": [],
   "source": [
    "tweets_df = pd.read_json('nedtsj.json', lines = True)"
   ],
   "metadata": {
    "collapsed": false,
    "pycharm": {
     "name": "#%%\n"
    }
   }
  },
  {
   "cell_type": "code",
   "execution_count": 9,
   "outputs": [
    {
     "data": {
      "text/plain": "                               _type  \\\n0     snscrape.modules.twitter.Tweet   \n1     snscrape.modules.twitter.Tweet   \n2     snscrape.modules.twitter.Tweet   \n3     snscrape.modules.twitter.Tweet   \n4     snscrape.modules.twitter.Tweet   \n...                              ...   \n2187  snscrape.modules.twitter.Tweet   \n2188  snscrape.modules.twitter.Tweet   \n2189  snscrape.modules.twitter.Tweet   \n2190  snscrape.modules.twitter.Tweet   \n2191  snscrape.modules.twitter.Tweet   \n\n                                                    url  \\\n0     https://twitter.com/KrisVanD2/status/141001663...   \n1     https://twitter.com/GlobalNewsXL/status/141001...   \n2     https://twitter.com/ewocram/status/14099921286...   \n3     https://twitter.com/BasvanWoesik76/status/1409...   \n4     https://twitter.com/robbert_vissers/status/140...   \n...                                                 ...   \n2187  https://twitter.com/Eggie19711/status/14090571...   \n2188  https://twitter.com/PieterZandvliet/status/140...   \n2189  https://twitter.com/YohannaVermeer/status/1409...   \n2190  https://twitter.com/marian070249/status/140902...   \n2191  https://twitter.com/manfredadema/status/140900...   \n\n                          date  \\\n0    2021-06-29 23:25:37+00:00   \n1    2021-06-29 23:19:07+00:00   \n2    2021-06-29 21:48:14+00:00   \n3    2021-06-29 21:45:23+00:00   \n4    2021-06-29 21:39:23+00:00   \n...                        ...   \n2187 2021-06-27 07:52:47+00:00   \n2188 2021-06-27 07:33:32+00:00   \n2189 2021-06-27 06:40:33+00:00   \n2190 2021-06-27 05:39:38+00:00   \n2191 2021-06-27 04:10:18+00:00   \n\n                                                content  \\\n0     #nederlandselftal #FRASUI #Portugalvsbelgium #...   \n1     #derksen spreekt #louisvangaal toe ‼️🏆 #nederl...   \n2     Nieuwe bondscoach kiezen:\\n#oranje #oranjezome...   \n3     Oekraïne door naar de kwartfinales van #EURO20...   \n4     Oekraïne is door naar de kwartfinale….. en daa...   \n...                                                 ...   \n2187  Even inkomen voor vanavond...\\n\\n#nederlandsel...   \n2188  Succes Oranje!!! #oranje #Oranjezomer #OrangeA...   \n2189  Zullen we de buitenlandse politie niet meer ve...   \n2190  Goedemorgen @IreneParren @TribbleSlayer_1 @Bep...   \n2191  #goedemorgen! Zondag en D-day voor het #nederl...   \n\n                                        renderedContent                   id  \\\n0     #nederlandselftal #FRASUI #Portugalvsbelgium #...  1410016635696697347   \n1     #derksen spreekt #louisvangaal toe ‼️🏆 #nederl...  1410015000543039489   \n2     Nieuwe bondscoach kiezen:\\n#oranje #oranjezome...  1409992128659345410   \n3     Oekraïne door naar de kwartfinales van #EURO20...  1409991411886346240   \n4     Oekraïne is door naar de kwartfinale….. en daa...  1409989900464803843   \n...                                                 ...                  ...   \n2187  Even inkomen voor vanavond...\\n\\n#nederlandsel...  1409057106263691267   \n2188  Succes Oranje!!! #oranje #Oranjezomer #OrangeA...  1409052262329114624   \n2189  Zullen we de buitenlandse politie niet meer ve...  1409038925784563712   \n2190  Goedemorgen @IreneParren @TribbleSlayer_1 @Bep...  1409023598191390722   \n2191  #goedemorgen! Zondag en D-day voor het #nederl...  1409001115518111749   \n\n                                                   user  replyCount  \\\n0     {'_type': 'snscrape.modules.twitter.User', 'us...           0   \n1     {'_type': 'snscrape.modules.twitter.User', 'us...           0   \n2     {'_type': 'snscrape.modules.twitter.User', 'us...           3   \n3     {'_type': 'snscrape.modules.twitter.User', 'us...           0   \n4     {'_type': 'snscrape.modules.twitter.User', 'us...           0   \n...                                                 ...         ...   \n2187  {'_type': 'snscrape.modules.twitter.User', 'us...           0   \n2188  {'_type': 'snscrape.modules.twitter.User', 'us...           0   \n2189  {'_type': 'snscrape.modules.twitter.User', 'us...           0   \n2190  {'_type': 'snscrape.modules.twitter.User', 'us...           5   \n2191  {'_type': 'snscrape.modules.twitter.User', 'us...           0   \n\n      retweetCount  likeCount  ...  \\\n0                1          3  ...   \n1                0          0  ...   \n2                0          1  ...   \n3                0          1  ...   \n4                0          1  ...   \n...            ...        ...  ...   \n2187             0          0  ...   \n2188             0          2  ...   \n2189             1          0  ...   \n2190             1          8  ...   \n2191             0          0  ...   \n\n                                                  media  retweetedTweet  \\\n0                                                  None             NaN   \n1     [{'_type': 'snscrape.modules.twitter.Video', '...             NaN   \n2                                                  None             NaN   \n3     [{'_type': 'snscrape.modules.twitter.Photo', '...             NaN   \n4                                                  None             NaN   \n...                                                 ...             ...   \n2187                                               None             NaN   \n2188  [{'_type': 'snscrape.modules.twitter.Photo', '...             NaN   \n2189                                               None             NaN   \n2190  [{'_type': 'snscrape.modules.twitter.Photo', '...             NaN   \n2191                                               None             NaN   \n\n                                            quotedTweet inReplyToTweetId  \\\n0     {'_type': 'snscrape.modules.twitter.Tweet', 'u...              NaN   \n1                                                  None              NaN   \n2                                                  None              NaN   \n3                                                  None              NaN   \n4                                                  None              NaN   \n...                                                 ...              ...   \n2187                                               None              NaN   \n2188                                               None              NaN   \n2189  {'_type': 'snscrape.modules.twitter.Tweet', 'u...              NaN   \n2190                                               None              NaN   \n2191                                               None              NaN   \n\n     inReplyToUser                                     mentionedUsers  \\\n0             None                                               None   \n1             None                                               None   \n2             None                                               None   \n3             None                                               None   \n4             None                                               None   \n...            ...                                                ...   \n2187          None                                               None   \n2188          None                                               None   \n2189          None                                               None   \n2190          None  [{'_type': 'snscrape.modules.twitter.User', 'u...   \n2191          None  [{'_type': 'snscrape.modules.twitter.User', 'u...   \n\n                                            coordinates  \\\n0                                                  None   \n1                                                  None   \n2                                                  None   \n3                                                  None   \n4                                                  None   \n...                                                 ...   \n2187                                               None   \n2188                                               None   \n2189                                               None   \n2190  {'_type': 'snscrape.modules.twitter.Coordinate...   \n2191                                               None   \n\n                                                  place  \\\n0                                                  None   \n1                                                  None   \n2                                                  None   \n3                                                  None   \n4                                                  None   \n...                                                 ...   \n2187                                               None   \n2188                                               None   \n2189                                               None   \n2190  {'_type': 'snscrape.modules.twitter.Place', 'f...   \n2191                                               None   \n\n                                               hashtags  cashtags  \n0     [nederlandselftal, FRASUI, Portugalvsbelgium, ...       NaN  \n1     [derksen, louisvangaal, nederlandselftal, Nede...       NaN  \n2     [oranje, oranjezomer, nederlandselftal, knvb, ...       NaN  \n3                          [EURO2020, nederlandselftal]       NaN  \n4                 [knvb, nederlandselftal, FrankdeBoer]       NaN  \n...                                                 ...       ...  \n2187                         [nederlandselftal, NEDTSJ]       NaN  \n2188  [oranje, Oranjezomer, OrangeArmy, OnsOranje, e...       NaN  \n2189  [pride, police, Turkey, humanrights, dutch, Po...       NaN  \n2190                         [nederlandselftal, Helena]       NaN  \n2191  [goedemorgen, nederlandselftal, tsjechie, NEDC...       NaN  \n\n[2192 rows x 28 columns]",
      "text/html": "<div>\n<style scoped>\n    .dataframe tbody tr th:only-of-type {\n        vertical-align: middle;\n    }\n\n    .dataframe tbody tr th {\n        vertical-align: top;\n    }\n\n    .dataframe thead th {\n        text-align: right;\n    }\n</style>\n<table border=\"1\" class=\"dataframe\">\n  <thead>\n    <tr style=\"text-align: right;\">\n      <th></th>\n      <th>_type</th>\n      <th>url</th>\n      <th>date</th>\n      <th>content</th>\n      <th>renderedContent</th>\n      <th>id</th>\n      <th>user</th>\n      <th>replyCount</th>\n      <th>retweetCount</th>\n      <th>likeCount</th>\n      <th>...</th>\n      <th>media</th>\n      <th>retweetedTweet</th>\n      <th>quotedTweet</th>\n      <th>inReplyToTweetId</th>\n      <th>inReplyToUser</th>\n      <th>mentionedUsers</th>\n      <th>coordinates</th>\n      <th>place</th>\n      <th>hashtags</th>\n      <th>cashtags</th>\n    </tr>\n  </thead>\n  <tbody>\n    <tr>\n      <th>0</th>\n      <td>snscrape.modules.twitter.Tweet</td>\n      <td>https://twitter.com/KrisVanD2/status/141001663...</td>\n      <td>2021-06-29 23:25:37+00:00</td>\n      <td>#nederlandselftal #FRASUI #Portugalvsbelgium #...</td>\n      <td>#nederlandselftal #FRASUI #Portugalvsbelgium #...</td>\n      <td>1410016635696697347</td>\n      <td>{'_type': 'snscrape.modules.twitter.User', 'us...</td>\n      <td>0</td>\n      <td>1</td>\n      <td>3</td>\n      <td>...</td>\n      <td>None</td>\n      <td>NaN</td>\n      <td>{'_type': 'snscrape.modules.twitter.Tweet', 'u...</td>\n      <td>NaN</td>\n      <td>None</td>\n      <td>None</td>\n      <td>None</td>\n      <td>None</td>\n      <td>[nederlandselftal, FRASUI, Portugalvsbelgium, ...</td>\n      <td>NaN</td>\n    </tr>\n    <tr>\n      <th>1</th>\n      <td>snscrape.modules.twitter.Tweet</td>\n      <td>https://twitter.com/GlobalNewsXL/status/141001...</td>\n      <td>2021-06-29 23:19:07+00:00</td>\n      <td>#derksen spreekt #louisvangaal toe ‼️🏆 #nederl...</td>\n      <td>#derksen spreekt #louisvangaal toe ‼️🏆 #nederl...</td>\n      <td>1410015000543039489</td>\n      <td>{'_type': 'snscrape.modules.twitter.User', 'us...</td>\n      <td>0</td>\n      <td>0</td>\n      <td>0</td>\n      <td>...</td>\n      <td>[{'_type': 'snscrape.modules.twitter.Video', '...</td>\n      <td>NaN</td>\n      <td>None</td>\n      <td>NaN</td>\n      <td>None</td>\n      <td>None</td>\n      <td>None</td>\n      <td>None</td>\n      <td>[derksen, louisvangaal, nederlandselftal, Nede...</td>\n      <td>NaN</td>\n    </tr>\n    <tr>\n      <th>2</th>\n      <td>snscrape.modules.twitter.Tweet</td>\n      <td>https://twitter.com/ewocram/status/14099921286...</td>\n      <td>2021-06-29 21:48:14+00:00</td>\n      <td>Nieuwe bondscoach kiezen:\\n#oranje #oranjezome...</td>\n      <td>Nieuwe bondscoach kiezen:\\n#oranje #oranjezome...</td>\n      <td>1409992128659345410</td>\n      <td>{'_type': 'snscrape.modules.twitter.User', 'us...</td>\n      <td>3</td>\n      <td>0</td>\n      <td>1</td>\n      <td>...</td>\n      <td>None</td>\n      <td>NaN</td>\n      <td>None</td>\n      <td>NaN</td>\n      <td>None</td>\n      <td>None</td>\n      <td>None</td>\n      <td>None</td>\n      <td>[oranje, oranjezomer, nederlandselftal, knvb, ...</td>\n      <td>NaN</td>\n    </tr>\n    <tr>\n      <th>3</th>\n      <td>snscrape.modules.twitter.Tweet</td>\n      <td>https://twitter.com/BasvanWoesik76/status/1409...</td>\n      <td>2021-06-29 21:45:23+00:00</td>\n      <td>Oekraïne door naar de kwartfinales van #EURO20...</td>\n      <td>Oekraïne door naar de kwartfinales van #EURO20...</td>\n      <td>1409991411886346240</td>\n      <td>{'_type': 'snscrape.modules.twitter.User', 'us...</td>\n      <td>0</td>\n      <td>0</td>\n      <td>1</td>\n      <td>...</td>\n      <td>[{'_type': 'snscrape.modules.twitter.Photo', '...</td>\n      <td>NaN</td>\n      <td>None</td>\n      <td>NaN</td>\n      <td>None</td>\n      <td>None</td>\n      <td>None</td>\n      <td>None</td>\n      <td>[EURO2020, nederlandselftal]</td>\n      <td>NaN</td>\n    </tr>\n    <tr>\n      <th>4</th>\n      <td>snscrape.modules.twitter.Tweet</td>\n      <td>https://twitter.com/robbert_vissers/status/140...</td>\n      <td>2021-06-29 21:39:23+00:00</td>\n      <td>Oekraïne is door naar de kwartfinale….. en daa...</td>\n      <td>Oekraïne is door naar de kwartfinale….. en daa...</td>\n      <td>1409989900464803843</td>\n      <td>{'_type': 'snscrape.modules.twitter.User', 'us...</td>\n      <td>0</td>\n      <td>0</td>\n      <td>1</td>\n      <td>...</td>\n      <td>None</td>\n      <td>NaN</td>\n      <td>None</td>\n      <td>NaN</td>\n      <td>None</td>\n      <td>None</td>\n      <td>None</td>\n      <td>None</td>\n      <td>[knvb, nederlandselftal, FrankdeBoer]</td>\n      <td>NaN</td>\n    </tr>\n    <tr>\n      <th>...</th>\n      <td>...</td>\n      <td>...</td>\n      <td>...</td>\n      <td>...</td>\n      <td>...</td>\n      <td>...</td>\n      <td>...</td>\n      <td>...</td>\n      <td>...</td>\n      <td>...</td>\n      <td>...</td>\n      <td>...</td>\n      <td>...</td>\n      <td>...</td>\n      <td>...</td>\n      <td>...</td>\n      <td>...</td>\n      <td>...</td>\n      <td>...</td>\n      <td>...</td>\n      <td>...</td>\n    </tr>\n    <tr>\n      <th>2187</th>\n      <td>snscrape.modules.twitter.Tweet</td>\n      <td>https://twitter.com/Eggie19711/status/14090571...</td>\n      <td>2021-06-27 07:52:47+00:00</td>\n      <td>Even inkomen voor vanavond...\\n\\n#nederlandsel...</td>\n      <td>Even inkomen voor vanavond...\\n\\n#nederlandsel...</td>\n      <td>1409057106263691267</td>\n      <td>{'_type': 'snscrape.modules.twitter.User', 'us...</td>\n      <td>0</td>\n      <td>0</td>\n      <td>0</td>\n      <td>...</td>\n      <td>None</td>\n      <td>NaN</td>\n      <td>None</td>\n      <td>NaN</td>\n      <td>None</td>\n      <td>None</td>\n      <td>None</td>\n      <td>None</td>\n      <td>[nederlandselftal, NEDTSJ]</td>\n      <td>NaN</td>\n    </tr>\n    <tr>\n      <th>2188</th>\n      <td>snscrape.modules.twitter.Tweet</td>\n      <td>https://twitter.com/PieterZandvliet/status/140...</td>\n      <td>2021-06-27 07:33:32+00:00</td>\n      <td>Succes Oranje!!! #oranje #Oranjezomer #OrangeA...</td>\n      <td>Succes Oranje!!! #oranje #Oranjezomer #OrangeA...</td>\n      <td>1409052262329114624</td>\n      <td>{'_type': 'snscrape.modules.twitter.User', 'us...</td>\n      <td>0</td>\n      <td>0</td>\n      <td>2</td>\n      <td>...</td>\n      <td>[{'_type': 'snscrape.modules.twitter.Photo', '...</td>\n      <td>NaN</td>\n      <td>None</td>\n      <td>NaN</td>\n      <td>None</td>\n      <td>None</td>\n      <td>None</td>\n      <td>None</td>\n      <td>[oranje, Oranjezomer, OrangeArmy, OnsOranje, e...</td>\n      <td>NaN</td>\n    </tr>\n    <tr>\n      <th>2189</th>\n      <td>snscrape.modules.twitter.Tweet</td>\n      <td>https://twitter.com/YohannaVermeer/status/1409...</td>\n      <td>2021-06-27 06:40:33+00:00</td>\n      <td>Zullen we de buitenlandse politie niet meer ve...</td>\n      <td>Zullen we de buitenlandse politie niet meer ve...</td>\n      <td>1409038925784563712</td>\n      <td>{'_type': 'snscrape.modules.twitter.User', 'us...</td>\n      <td>0</td>\n      <td>1</td>\n      <td>0</td>\n      <td>...</td>\n      <td>None</td>\n      <td>NaN</td>\n      <td>{'_type': 'snscrape.modules.twitter.Tweet', 'u...</td>\n      <td>NaN</td>\n      <td>None</td>\n      <td>None</td>\n      <td>None</td>\n      <td>None</td>\n      <td>[pride, police, Turkey, humanrights, dutch, Po...</td>\n      <td>NaN</td>\n    </tr>\n    <tr>\n      <th>2190</th>\n      <td>snscrape.modules.twitter.Tweet</td>\n      <td>https://twitter.com/marian070249/status/140902...</td>\n      <td>2021-06-27 05:39:38+00:00</td>\n      <td>Goedemorgen @IreneParren @TribbleSlayer_1 @Bep...</td>\n      <td>Goedemorgen @IreneParren @TribbleSlayer_1 @Bep...</td>\n      <td>1409023598191390722</td>\n      <td>{'_type': 'snscrape.modules.twitter.User', 'us...</td>\n      <td>5</td>\n      <td>1</td>\n      <td>8</td>\n      <td>...</td>\n      <td>[{'_type': 'snscrape.modules.twitter.Photo', '...</td>\n      <td>NaN</td>\n      <td>None</td>\n      <td>NaN</td>\n      <td>None</td>\n      <td>[{'_type': 'snscrape.modules.twitter.User', 'u...</td>\n      <td>{'_type': 'snscrape.modules.twitter.Coordinate...</td>\n      <td>{'_type': 'snscrape.modules.twitter.Place', 'f...</td>\n      <td>[nederlandselftal, Helena]</td>\n      <td>NaN</td>\n    </tr>\n    <tr>\n      <th>2191</th>\n      <td>snscrape.modules.twitter.Tweet</td>\n      <td>https://twitter.com/manfredadema/status/140900...</td>\n      <td>2021-06-27 04:10:18+00:00</td>\n      <td>#goedemorgen! Zondag en D-day voor het #nederl...</td>\n      <td>#goedemorgen! Zondag en D-day voor het #nederl...</td>\n      <td>1409001115518111749</td>\n      <td>{'_type': 'snscrape.modules.twitter.User', 'us...</td>\n      <td>0</td>\n      <td>0</td>\n      <td>0</td>\n      <td>...</td>\n      <td>None</td>\n      <td>NaN</td>\n      <td>None</td>\n      <td>NaN</td>\n      <td>None</td>\n      <td>[{'_type': 'snscrape.modules.twitter.User', 'u...</td>\n      <td>None</td>\n      <td>None</td>\n      <td>[goedemorgen, nederlandselftal, tsjechie, NEDC...</td>\n      <td>NaN</td>\n    </tr>\n  </tbody>\n</table>\n<p>2192 rows × 28 columns</p>\n</div>"
     },
     "execution_count": 9,
     "metadata": {},
     "output_type": "execute_result"
    }
   ],
   "source": [
    "tweets_df"
   ],
   "metadata": {
    "collapsed": false,
    "pycharm": {
     "name": "#%%\n"
    }
   }
  },
  {
   "cell_type": "markdown",
   "source": [
    "Works like a charm!\n",
    "Now, let's see if that ball was in or out..."
   ],
   "metadata": {
    "collapsed": false,
    "pycharm": {
     "name": "#%% md\n"
    }
   }
  },
  {
   "cell_type": "code",
   "execution_count": 67,
   "outputs": [],
   "source": [
    "psvaja = pd.read_json('psvaja.json', lines = True)\n",
    "psvaja = psvaja[psvaja['lang'] == 'nl'].reset_index()"
   ],
   "metadata": {
    "collapsed": false,
    "pycharm": {
     "name": "#%%\n"
    }
   }
  },
  {
   "cell_type": "code",
   "execution_count": 28,
   "outputs": [
    {
     "data": {
      "text/plain": "   index                           _type  \\\n0      1  snscrape.modules.twitter.Tweet   \n1      2  snscrape.modules.twitter.Tweet   \n2      3  snscrape.modules.twitter.Tweet   \n3      5  snscrape.modules.twitter.Tweet   \n4      7  snscrape.modules.twitter.Tweet   \n\n                                                 url  \\\n0  https://twitter.com/HeelergAnoniem/status/1485...   \n1  https://twitter.com/VictorAfca33/status/148539...   \n2  https://twitter.com/ajaxsupnl/status/148539104...   \n3  https://twitter.com/BirkeUden/status/148538714...   \n4  https://twitter.com/DObservator/status/1485386...   \n\n                       date  \\\n0 2022-01-23 23:25:54+00:00   \n1 2022-01-23 23:22:29+00:00   \n2 2022-01-23 23:16:36+00:00   \n3 2022-01-23 23:01:07+00:00   \n4 2022-01-23 22:58:19+00:00   \n\n                                             content  \\\n0  @Maikelvanlanen Welke drugs gebruik je? Die mo...   \n1                 Aaaaajaaaaax Aaaaaaajaaaax #psvaja   \n2  [video] Highlights PSV - Ajax https://t.co/Uq7...   \n3  VAR #psvaja bekend gemaakt https://t.co/yMqeIl...   \n4  Bal en lijn ongewijzigd. Alleen camerastandpun...   \n\n                                     renderedContent                   id  \\\n0  @Maikelvanlanen Welke drugs gebruik je? Die mo...  1485393383782821893   \n1                 Aaaaajaaaaax Aaaaaaajaaaax #psvaja  1485392521782087688   \n2  [video] Highlights PSV - Ajax supporters.nl/aw...  1485391043390578697   \n3  VAR #psvaja bekend gemaakt https://t.co/yMqeIl...  1485387144935915524   \n4  Bal en lijn ongewijzigd. Alleen camerastandpun...  1485386443153453056   \n\n                                                user  replyCount  \\\n0  {'_type': 'snscrape.modules.twitter.User', 'us...           0   \n1  {'_type': 'snscrape.modules.twitter.User', 'us...           0   \n2  {'_type': 'snscrape.modules.twitter.User', 'us...           2   \n3  {'_type': 'snscrape.modules.twitter.User', 'us...           0   \n4  {'_type': 'snscrape.modules.twitter.User', 'us...           0   \n\n   retweetCount  ...                                              media  \\\n0             0  ...                                               None   \n1             0  ...                                               None   \n2             0  ...                                               None   \n3             0  ...  [{'_type': 'snscrape.modules.twitter.Photo', '...   \n4             0  ...  [{'_type': 'snscrape.modules.twitter.Photo', '...   \n\n   retweetedTweet  quotedTweet inReplyToTweetId  \\\n0             NaN         None     1.485325e+18   \n1             NaN         None              NaN   \n2             NaN         None              NaN   \n3             NaN         None              NaN   \n4             NaN         None              NaN   \n\n                                       inReplyToUser  \\\n0  {'_type': 'snscrape.modules.twitter.User', 'us...   \n1                                               None   \n2                                               None   \n3                                               None   \n4                                               None   \n\n                                      mentionedUsers coordinates place  \\\n0  [{'_type': 'snscrape.modules.twitter.User', 'u...        None  None   \n1                                               None        None  None   \n2                                               None        None  None   \n3                                               None        None  None   \n4                                               None        None  None   \n\n         hashtags cashtags  \n0  [psvAJA, Ajax]      NaN  \n1        [psvaja]      NaN  \n2        [psvaja]      NaN  \n3        [psvaja]      NaN  \n4        [psvaja]      NaN  \n\n[5 rows x 29 columns]",
      "text/html": "<div>\n<style scoped>\n    .dataframe tbody tr th:only-of-type {\n        vertical-align: middle;\n    }\n\n    .dataframe tbody tr th {\n        vertical-align: top;\n    }\n\n    .dataframe thead th {\n        text-align: right;\n    }\n</style>\n<table border=\"1\" class=\"dataframe\">\n  <thead>\n    <tr style=\"text-align: right;\">\n      <th></th>\n      <th>index</th>\n      <th>_type</th>\n      <th>url</th>\n      <th>date</th>\n      <th>content</th>\n      <th>renderedContent</th>\n      <th>id</th>\n      <th>user</th>\n      <th>replyCount</th>\n      <th>retweetCount</th>\n      <th>...</th>\n      <th>media</th>\n      <th>retweetedTweet</th>\n      <th>quotedTweet</th>\n      <th>inReplyToTweetId</th>\n      <th>inReplyToUser</th>\n      <th>mentionedUsers</th>\n      <th>coordinates</th>\n      <th>place</th>\n      <th>hashtags</th>\n      <th>cashtags</th>\n    </tr>\n  </thead>\n  <tbody>\n    <tr>\n      <th>0</th>\n      <td>1</td>\n      <td>snscrape.modules.twitter.Tweet</td>\n      <td>https://twitter.com/HeelergAnoniem/status/1485...</td>\n      <td>2022-01-23 23:25:54+00:00</td>\n      <td>@Maikelvanlanen Welke drugs gebruik je? Die mo...</td>\n      <td>@Maikelvanlanen Welke drugs gebruik je? Die mo...</td>\n      <td>1485393383782821893</td>\n      <td>{'_type': 'snscrape.modules.twitter.User', 'us...</td>\n      <td>0</td>\n      <td>0</td>\n      <td>...</td>\n      <td>None</td>\n      <td>NaN</td>\n      <td>None</td>\n      <td>1.485325e+18</td>\n      <td>{'_type': 'snscrape.modules.twitter.User', 'us...</td>\n      <td>[{'_type': 'snscrape.modules.twitter.User', 'u...</td>\n      <td>None</td>\n      <td>None</td>\n      <td>[psvAJA, Ajax]</td>\n      <td>NaN</td>\n    </tr>\n    <tr>\n      <th>1</th>\n      <td>2</td>\n      <td>snscrape.modules.twitter.Tweet</td>\n      <td>https://twitter.com/VictorAfca33/status/148539...</td>\n      <td>2022-01-23 23:22:29+00:00</td>\n      <td>Aaaaajaaaaax Aaaaaaajaaaax #psvaja</td>\n      <td>Aaaaajaaaaax Aaaaaaajaaaax #psvaja</td>\n      <td>1485392521782087688</td>\n      <td>{'_type': 'snscrape.modules.twitter.User', 'us...</td>\n      <td>0</td>\n      <td>0</td>\n      <td>...</td>\n      <td>None</td>\n      <td>NaN</td>\n      <td>None</td>\n      <td>NaN</td>\n      <td>None</td>\n      <td>None</td>\n      <td>None</td>\n      <td>None</td>\n      <td>[psvaja]</td>\n      <td>NaN</td>\n    </tr>\n    <tr>\n      <th>2</th>\n      <td>3</td>\n      <td>snscrape.modules.twitter.Tweet</td>\n      <td>https://twitter.com/ajaxsupnl/status/148539104...</td>\n      <td>2022-01-23 23:16:36+00:00</td>\n      <td>[video] Highlights PSV - Ajax https://t.co/Uq7...</td>\n      <td>[video] Highlights PSV - Ajax supporters.nl/aw...</td>\n      <td>1485391043390578697</td>\n      <td>{'_type': 'snscrape.modules.twitter.User', 'us...</td>\n      <td>2</td>\n      <td>0</td>\n      <td>...</td>\n      <td>None</td>\n      <td>NaN</td>\n      <td>None</td>\n      <td>NaN</td>\n      <td>None</td>\n      <td>None</td>\n      <td>None</td>\n      <td>None</td>\n      <td>[psvaja]</td>\n      <td>NaN</td>\n    </tr>\n    <tr>\n      <th>3</th>\n      <td>5</td>\n      <td>snscrape.modules.twitter.Tweet</td>\n      <td>https://twitter.com/BirkeUden/status/148538714...</td>\n      <td>2022-01-23 23:01:07+00:00</td>\n      <td>VAR #psvaja bekend gemaakt https://t.co/yMqeIl...</td>\n      <td>VAR #psvaja bekend gemaakt https://t.co/yMqeIl...</td>\n      <td>1485387144935915524</td>\n      <td>{'_type': 'snscrape.modules.twitter.User', 'us...</td>\n      <td>0</td>\n      <td>0</td>\n      <td>...</td>\n      <td>[{'_type': 'snscrape.modules.twitter.Photo', '...</td>\n      <td>NaN</td>\n      <td>None</td>\n      <td>NaN</td>\n      <td>None</td>\n      <td>None</td>\n      <td>None</td>\n      <td>None</td>\n      <td>[psvaja]</td>\n      <td>NaN</td>\n    </tr>\n    <tr>\n      <th>4</th>\n      <td>7</td>\n      <td>snscrape.modules.twitter.Tweet</td>\n      <td>https://twitter.com/DObservator/status/1485386...</td>\n      <td>2022-01-23 22:58:19+00:00</td>\n      <td>Bal en lijn ongewijzigd. Alleen camerastandpun...</td>\n      <td>Bal en lijn ongewijzigd. Alleen camerastandpun...</td>\n      <td>1485386443153453056</td>\n      <td>{'_type': 'snscrape.modules.twitter.User', 'us...</td>\n      <td>0</td>\n      <td>0</td>\n      <td>...</td>\n      <td>[{'_type': 'snscrape.modules.twitter.Photo', '...</td>\n      <td>NaN</td>\n      <td>None</td>\n      <td>NaN</td>\n      <td>None</td>\n      <td>None</td>\n      <td>None</td>\n      <td>None</td>\n      <td>[psvaja]</td>\n      <td>NaN</td>\n    </tr>\n  </tbody>\n</table>\n<p>5 rows × 29 columns</p>\n</div>"
     },
     "execution_count": 28,
     "metadata": {},
     "output_type": "execute_result"
    }
   ],
   "source": [
    "psvaja.head()"
   ],
   "metadata": {
    "collapsed": false,
    "pycharm": {
     "name": "#%%\n"
    }
   }
  },
  {
   "cell_type": "code",
   "execution_count": 71,
   "outputs": [],
   "source": [
    "df = psvaja[:4970]"
   ],
   "metadata": {
    "collapsed": false,
    "pycharm": {
     "name": "#%%\n"
    }
   }
  },
  {
   "cell_type": "code",
   "execution_count": 106,
   "outputs": [],
   "source": [
    "in_count = 0\n",
    "uit_count = 0\n",
    "op_count = 0\n",
    "binnen_count = 0\n",
    "buiten_count = 0\n",
    "over_count = 0\n",
    "for i, row in df.iterrows():\n",
    "    if ' in ' in row.content:\n",
    "        in_count += 1\n",
    "    if ' uit ' in row.content:\n",
    "        uit_count += 1\n",
    "    if ' op ' in row.content:\n",
    "        op_count += 1\n",
    "    if ' binnen ' in row.content:\n",
    "        binnen_count += 1\n",
    "    if ' buiten ' in row.content:\n",
    "        buiten_count += 1\n",
    "    if ' over ' in row.content:\n",
    "        over_count += 1"
   ],
   "metadata": {
    "collapsed": false,
    "pycharm": {
     "name": "#%%\n"
    }
   }
  },
  {
   "cell_type": "code",
   "execution_count": 107,
   "outputs": [
    {
     "data": {
      "text/plain": "<Figure size 1080x432 with 1 Axes>",
      "image/png": "[encoded data removed]"
     },
     "metadata": {
      "needs_background": "light"
     },
     "output_type": "display_data"
    }
   ],
   "source": [
    "keys = ['in', 'binnen', 'op', 'uit', 'buiten', 'over']\n",
    "values = [in_count, binnen_count, op_count, uit_count, buiten_count, over_count]\n",
    "fig = plt.figure(figsize=(15, 6))\n",
    "plt.bar(keys, values)\n",
    "plt.show()"
   ],
   "metadata": {
    "collapsed": false,
    "pycharm": {
     "name": "#%%\n"
    }
   }
  }
 ],
 "metadata": {
  "kernelspec": {
   "name": "pycharm-7cc92b2f",
   "language": "python",
   "display_name": "PyCharm (SoccermaticsForPython)"
  },
  "language_info": {
   "codemirror_mode": {
    "name": "ipython",
    "version": 2
   },
   "file_extension": ".py",
   "mimetype": "text/x-python",
   "name": "python",
   "nbconvert_exporter": "python",
   "pygments_lexer": "ipython2",
   "version": "2.7.6"
  }
 },
 "nbformat": 4,
 "nbformat_minor": 0
}