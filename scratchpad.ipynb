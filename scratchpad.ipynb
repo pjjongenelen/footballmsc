{
 "cells": [
  {
   "cell_type": "code",
   "execution_count": 1,
   "metadata": {},
   "outputs": [],
   "source": [
    "from bs4 import BeautifulSoup\n",
    "import pandas as pd\n",
    "import re\n",
    "import requests"
   ]
  },
  {
   "cell_type": "code",
   "execution_count": 2,
   "metadata": {},
   "outputs": [],
   "source": [
    "def convert_num_nam(string):\n",
    "    \"Given a string that is a concatenation of a jersey number and the name, return the two substring seperate\"\n",
    "\n",
    "    num = [letter for letter in string if letter.isdigit()]\n",
    "    num = \"\".join(map(str, num))\n",
    "    nam = [letter for letter in string if not letter.isdigit()]\n",
    "    nam = \"\".join(map(str, nam))\n",
    "\n",
    "    return num, nam\n",
    "    \n",
    "def get_field_df(soup):\n",
    "    field_ratings = []\n",
    "    field_players = []\n",
    "    field_numbers = []\n",
    "    for field_player in soup.find_all(class_=re.compile(\"LineupPlayerContainer\")):\n",
    "        rating_element = field_player.find_all(class_=re.compile(\"PlayerRatingStyled\"))\n",
    "        if len(rating_element) == 0:\n",
    "            field_ratings.append(\"nan\")\n",
    "        else:\n",
    "            field_ratings.append(rating_element[0].find_all(\"span\")[0].get_text())\n",
    "        \n",
    "        player_text = field_player.find(class_=re.compile(\"LineupPlayerText\"))\n",
    "        num, name = convert_num_nam(player_text.get_text())\n",
    "        field_players.append(name)\n",
    "        field_numbers.append(num)\n",
    "\n",
    "    return pd.DataFrame({\"number\": field_numbers, \"name\": field_players, \"rating\": field_ratings})\n",
    "    \n",
    "def get_bench_df(soup):\n",
    "    bench_ratings = []\n",
    "    bench_players = []\n",
    "    bench_numbers = []\n",
    "    for subsoup in soup.find_all(class_=re.compile(\"LeftBenchItem \")):  # the space is very important in the regex\n",
    "        if 'PlayerRating' in str(subsoup):\n",
    "            # extract name and number\n",
    "            num, name = convert_num_nam((subsoup.find_all('span')[-2].get_text()))\n",
    "            bench_players.append(name)\n",
    "            bench_numbers.append(num)\n",
    "\n",
    "            # get rating\n",
    "            rating_element = subsoup.find(class_=re.compile(\"PlayerRatingStyled\"))\n",
    "            bench_ratings.append(rating_element.find('span').get_text())\n",
    "\n",
    "    return pd.DataFrame({\"number\": bench_numbers, \"name\": bench_players, \"rating\": bench_ratings})"
   ]
  },
  {
   "cell_type": "code",
   "execution_count": 28,
   "metadata": {},
   "outputs": [],
   "source": [
    "page = requests.get(\"https://www.fotmob.com/match/3602683/matchfacts/fc-utrecht-vs-go-ahead-eagles\")\n",
    "soup = BeautifulSoup(page.content, 'html.parser')\n",
    "\n",
    "bench_matchcard_urls = []\n",
    "\n",
    "for bench_item in soup.find_all(class_=re.compile(\"LeftBenchItemOuter\")):\n",
    "    if 'PlayerRating' in str(bench_item):\n",
    "        bench_matchcard_urls.append(f\"https://www.fotmob.com{bench_item.find('a')['href']}\")"
   ]
  },
  {
   "cell_type": "code",
   "execution_count": 33,
   "metadata": {},
   "outputs": [
    {
     "data": {
      "text/plain": [
       "['https://www.fotmob.com/match/3602683/matchfacts/player-match-card/594983',\n",
       " 'https://www.fotmob.com/match/3602683/matchfacts/player-match-card/304668',\n",
       " 'https://www.fotmob.com/match/3602683/matchfacts/player-match-card/562846',\n",
       " 'https://www.fotmob.com/match/3602683/matchfacts/player-match-card/902105',\n",
       " 'https://www.fotmob.com/match/3602683/matchfacts/player-match-card/17761',\n",
       " 'https://www.fotmob.com/match/3602683/matchfacts/player-match-card/957556',\n",
       " 'https://www.fotmob.com/match/3602683/matchfacts/player-match-card/467480']"
      ]
     },
     "execution_count": 33,
     "metadata": {},
     "output_type": "execute_result"
    }
   ],
   "source": [
    "bench_matchcard_urls"
   ]
  },
  {
   "cell_type": "code",
   "execution_count": 30,
   "metadata": {},
   "outputs": [],
   "source": [
    "matchcard = requests.get(bench_matchcard_urls[0])\n",
    "mc_soup = BeautifulSoup(matchcard.content, 'html.parser')"
   ]
  },
  {
   "cell_type": "code",
   "execution_count": 51,
   "metadata": {},
   "outputs": [
    {
     "data": {
      "text/plain": [
       "[<li class=\"css-6pfmj0-RowContainer e1fnykti7\"><span>Minutes played</span><span>30</span></li>,\n",
       " <li class=\"css-6pfmj0-RowContainer e1fnykti7\"><span>Goals</span><span>0</span></li>,\n",
       " <li class=\"css-6pfmj0-RowContainer e1fnykti7\"><span>Assists</span><span>0</span></li>,\n",
       " <li class=\"css-6pfmj0-RowContainer e1fnykti7\"><span>Total shots</span><span>2</span></li>,\n",
       " <li class=\"css-6pfmj0-RowContainer e1fnykti7\"><span>Accurate passes</span><span>6/7 (86%)</span></li>,\n",
       " <li class=\"css-6pfmj0-RowContainer e1fnykti7\"><span>Key passes</span><span>2</span></li>,\n",
       " <li class=\"css-6pfmj0-RowContainer e1fnykti7\"><span>Expected goals (xG)</span><span>0.25</span></li>,\n",
       " <li class=\"css-6pfmj0-RowContainer e1fnykti7\"><span>Expected assists (xA)</span><span>0.05</span></li>,\n",
       " <li class=\"css-6pfmj0-RowContainer e1fnykti7\"><span>Attack</span></li>,\n",
       " <li class=\"css-6pfmj0-RowContainer e1fnykti7\"><span>Shot accuracy</span><span>0/2 (0%)</span></li>,\n",
       " <li class=\"css-6pfmj0-RowContainer e1fnykti7\"><span>Big chance missed</span><span>1</span></li>,\n",
       " <li class=\"css-6pfmj0-RowContainer e1fnykti7\"><span>Touches</span><span>15</span></li>,\n",
       " <li class=\"css-6pfmj0-RowContainer e1fnykti7\"><span>Successful dribbles</span><span>1/2 (50%)</span></li>,\n",
       " <li class=\"css-6pfmj0-RowContainer e1fnykti7\"><span>Dispossessed</span><span>2</span></li>,\n",
       " <li class=\"css-6pfmj0-RowContainer e1fnykti7\"><span>Defence</span></li>,\n",
       " <li class=\"css-6pfmj0-RowContainer e1fnykti7\"><span>Tackles won</span><span>0</span></li>,\n",
       " <li class=\"css-6pfmj0-RowContainer e1fnykti7\"><span>Duels</span></li>,\n",
       " <li class=\"css-6pfmj0-RowContainer e1fnykti7\"><span>Ground duels won</span><span>1/5 (20%)</span></li>,\n",
       " <li class=\"css-6pfmj0-RowContainer e1fnykti7\"><span>Aerial duels won</span><span>1/1 (100%)</span></li>,\n",
       " <li class=\"css-6pfmj0-RowContainer e1fnykti7\"><span>Was fouled</span><span>0</span></li>,\n",
       " <li class=\"css-6pfmj0-RowContainer e1fnykti7\"><span>Fouls committed</span><span>1</span></li>]"
      ]
     },
     "execution_count": 51,
     "metadata": {},
     "output_type": "execute_result"
    }
   ],
   "source": [
    "name = mc_soup.find(class_=re.compile(\"jalymf-PlayerName\")).get_text()\n",
    "mc_soup.find_all(class_=re.compile(\"RowContainer e1fnykti\"))[2:]"
   ]
  }
 ],
 "metadata": {
  "interpreter": {
   "hash": "431f0c31d5291424e54056d2202ffa34a70a802a6c63efdeb2c873dde14dab2c"
  },
  "kernelspec": {
   "display_name": "Python 3.9.7 ('mmfootball')",
   "language": "python",
   "name": "python3"
  },
  "language_info": {
   "codemirror_mode": {
    "name": "ipython",
    "version": 3
   },
   "file_extension": ".py",
   "mimetype": "text/x-python",
   "name": "python",
   "nbconvert_exporter": "python",
   "pygments_lexer": "ipython3",
   "version": "3.8.12"
  },
  "orig_nbformat": 4
 },
 "nbformat": 4,
 "nbformat_minor": 2
}
