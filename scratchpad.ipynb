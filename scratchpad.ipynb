{
 "cells": [
  {
   "cell_type": "code",
   "execution_count": 1,
   "metadata": {},
   "outputs": [],
   "source": [
    "from bs4 import BeautifulSoup\n",
    "import pandas as pd\n",
    "import re\n",
    "import requests"
   ]
  },
  {
   "cell_type": "code",
   "execution_count": 2,
   "metadata": {},
   "outputs": [],
   "source": [
    "def convert_num_nam(string):\n",
    "    \"Given a string that is a concatenation of a jersey number and the name, return the two substring seperate\"\n",
    "\n",
    "    num = [letter for letter in string if letter.isdigit()]\n",
    "    num = \"\".join(map(str, num))\n",
    "    nam = [letter for letter in string if not letter.isdigit()]\n",
    "    nam = \"\".join(map(str, nam))\n",
    "\n",
    "    return num, nam\n",
    "    \n",
    "def get_field_df(soup):\n",
    "    field_ratings = []\n",
    "    field_players = []\n",
    "    field_numbers = []\n",
    "    for field_player in soup.find_all(class_=re.compile(\"LineupPlayerContainer\")):\n",
    "        rating_element = field_player.find_all(class_=re.compile(\"PlayerRatingStyled\"))\n",
    "        if len(rating_element) == 0:\n",
    "            field_ratings.append(\"nan\")\n",
    "        else:\n",
    "            field_ratings.append(rating_element[0].find_all(\"span\")[0].get_text())\n",
    "        \n",
    "        player_text = field_player.find(class_=re.compile(\"LineupPlayerText\"))\n",
    "        num, name = convert_num_nam(player_text.get_text())\n",
    "        field_players.append(name)\n",
    "        field_numbers.append(num)\n",
    "\n",
    "    return pd.DataFrame({\"number\": field_numbers, \"name\": field_players, \"rating\": field_ratings})\n",
    "    \n",
    "def get_bench_df(soup):\n",
    "    bench_ratings = []\n",
    "    bench_players = []\n",
    "    bench_numbers = []\n",
    "    for subsoup in soup.find_all(class_=re.compile(\"LeftBenchItem \")):  # the space is very important in the regex\n",
    "        if 'PlayerRating' in str(subsoup):\n",
    "            # extract name and number\n",
    "            num, name = convert_num_nam((subsoup.find_all('span')[-2].get_text()))\n",
    "            bench_players.append(name)\n",
    "            bench_numbers.append(num)\n",
    "\n",
    "            # get rating\n",
    "            rating_element = subsoup.find(class_=re.compile(\"PlayerRatingStyled\"))\n",
    "            bench_ratings.append(rating_element.find('span').get_text())\n",
    "\n",
    "    return pd.DataFrame({\"number\": bench_numbers, \"name\": bench_players, \"rating\": bench_ratings})"
   ]
  },
  {
   "cell_type": "code",
   "execution_count": 3,
   "metadata": {},
   "outputs": [],
   "source": [
    "page = requests.get(\"https://www.fotmob.com/match/3602683/matchfacts/fc-utrecht-vs-go-ahead-eagles\")\n",
    "soup = BeautifulSoup(page.content, 'html.parser')\n",
    "\n"
   ]
  },
  {
   "cell_type": "code",
   "execution_count": null,
   "metadata": {},
   "outputs": [],
   "source": [
    "bench_matchcard_urls = []\n",
    "\n",
    "for bench_item in soup.find_all(class_=re.compile(\"LeftBenchItemOuter\")):\n",
    "    if 'PlayerRating' in str(bench_item):\n",
    "        bench_matchcard_urls.append(f\"https://www.fotmob.com{bench_item.find('a')['href']}\")"
   ]
  },
  {
   "cell_type": "code",
   "execution_count": 4,
   "metadata": {},
   "outputs": [
    {
     "data": {
      "text/plain": [
       "['https://www.fotmob.com/match/3602683/matchfacts/player-match-card/594983',\n",
       " 'https://www.fotmob.com/match/3602683/matchfacts/player-match-card/304668',\n",
       " 'https://www.fotmob.com/match/3602683/matchfacts/player-match-card/562846',\n",
       " 'https://www.fotmob.com/match/3602683/matchfacts/player-match-card/902105',\n",
       " 'https://www.fotmob.com/match/3602683/matchfacts/player-match-card/17761',\n",
       " 'https://www.fotmob.com/match/3602683/matchfacts/player-match-card/957556',\n",
       " 'https://www.fotmob.com/match/3602683/matchfacts/player-match-card/467480']"
      ]
     },
     "execution_count": 4,
     "metadata": {},
     "output_type": "execute_result"
    }
   ],
   "source": [
    "bench_matchcard_urls"
   ]
  },
  {
   "cell_type": "code",
   "execution_count": 70,
   "metadata": {},
   "outputs": [],
   "source": [
    "bmu_data = []\n",
    "for bmu in bench_matchcard_urls:\n",
    "    matchcard = requests.get(bmu)\n",
    "    mc_soup = BeautifulSoup(matchcard.content, 'html.parser')\n",
    "    name = mc_soup.find(class_=re.compile(\"jalymf-PlayerName\")).get_text()\n",
    "    bmu_data.append(mc_soup.find_all(class_=re.compile(\"RowContainer e1fnykti\"))[1:])"
   ]
  },
  {
   "cell_type": "code",
   "execution_count": 28,
   "metadata": {},
   "outputs": [],
   "source": [
    "columns = [row.find_all('span')[0].get_text() for row in bmu_data[0]]"
   ]
  },
  {
   "cell_type": "code",
   "execution_count": 75,
   "metadata": {},
   "outputs": [
    {
     "data": {
      "text/plain": [
       "[<span>Minutes played</span>, <span>30</span>]"
      ]
     },
     "execution_count": 75,
     "metadata": {},
     "output_type": "execute_result"
    }
   ],
   "source": [
    "bmu_data[0][1].find_all('span')"
   ]
  },
  {
   "cell_type": "code",
   "execution_count": 69,
   "metadata": {},
   "outputs": [
    {
     "data": {
      "text/plain": [
       "{'tim': [24], 'birgit': [24], 'rob': [25]}"
      ]
     },
     "execution_count": 69,
     "metadata": {},
     "output_type": "execute_result"
    }
   ],
   "source": [
    "test = {'tim': [24], 'birgit': [24]}\n",
    "test['rob'] = [25]\n",
    "test"
   ]
  },
  {
   "cell_type": "code",
   "execution_count": 64,
   "metadata": {},
   "outputs": [
    {
     "name": "stdout",
     "output_type": "stream",
     "text": [
      "0 30\n",
      "1 0\n",
      "2 0\n",
      "3 1\n",
      "4 4/7 (57%)\n",
      "5 0\n",
      "6 0.03\n",
      "7 0.03\n",
      "8 Nan\n",
      "9 1\n",
      "10 12\n",
      "11 0/1 (0%)\n",
      "12 1\n",
      "13 Nan\n",
      "14 0\n",
      "15 1\n",
      "16 Nan\n",
      "17 1/2 (50%)\n",
      "18 3/4 (75%)\n",
      "19 1\n",
      "20 0\n",
      "0 30\n",
      "1 0\n",
      "2 0\n",
      "3 1\n",
      "4 11/19 (58%)\n",
      "5 0\n",
      "6 0.05\n",
      "7 Nan\n",
      "8 1\n",
      "9 32\n",
      "10 1/1 (100%)\n",
      "11 0/2 (0%)\n",
      "12 0/4 (0%)\n",
      "13 0\n",
      "14 Nan\n",
      "15 0\n",
      "16 1\n",
      "17 3\n",
      "18 Nan\n",
      "19 2/4 (50%)\n",
      "20 3/4 (75%)\n",
      "21 1\n"
     ]
    },
    {
     "ename": "IndexError",
     "evalue": "list index out of range",
     "output_type": "error",
     "traceback": [
      "\u001b[1;31m---------------------------------------------------------------------------\u001b[0m",
      "\u001b[1;31mIndexError\u001b[0m                                Traceback (most recent call last)",
      "\u001b[1;32m~\\AppData\\Local\\Temp/ipykernel_15816/4131351368.py\u001b[0m in \u001b[0;36m<module>\u001b[1;34m\u001b[0m\n\u001b[0;32m     16\u001b[0m         \u001b[1;32melse\u001b[0m\u001b[1;33m:\u001b[0m\u001b[1;33m\u001b[0m\u001b[1;33m\u001b[0m\u001b[0m\n\u001b[0;32m     17\u001b[0m             \u001b[0mprint\u001b[0m\u001b[1;33m(\u001b[0m\u001b[0mindex\u001b[0m\u001b[1;33m,\u001b[0m \u001b[0mdata\u001b[0m\u001b[1;33m)\u001b[0m\u001b[1;33m\u001b[0m\u001b[1;33m\u001b[0m\u001b[0m\n\u001b[1;32m---> 18\u001b[1;33m             \u001b[0mmatchcard_data\u001b[0m\u001b[1;33m[\u001b[0m\u001b[0mindex\u001b[0m\u001b[1;33m]\u001b[0m\u001b[1;33m.\u001b[0m\u001b[0mappend\u001b[0m\u001b[1;33m(\u001b[0m\u001b[0mdata\u001b[0m\u001b[1;33m)\u001b[0m\u001b[1;33m\u001b[0m\u001b[1;33m\u001b[0m\u001b[0m\n\u001b[0m\u001b[0;32m     19\u001b[0m \u001b[1;33m\u001b[0m\u001b[0m\n\u001b[0;32m     20\u001b[0m \u001b[1;33m\u001b[0m\u001b[0m\n",
      "\u001b[1;31mIndexError\u001b[0m: list index out of range"
     ]
    }
   ],
   "source": [
    "matchcard_data = []\n",
    "for bmud in bmu_data:\n",
    "    for index, row in enumerate(bmud):\n",
    "        spans = row.find_all('span')\n",
    "        # check if we have data for column i\n",
    "        if len(spans) < 2:\n",
    "            data = 'Nan'\n",
    "        else:\n",
    "            data = spans[1].get_text()\n",
    "\n",
    "        # first iteration, creating the nested list\n",
    "        if len(matchcard_data) < 21:\n",
    "            matchcard_data.append([data])\n",
    "        # 2nd iteration and beyond\n",
    "            \n",
    "        else:\n",
    "            print(index, data)\n",
    "            matchcard_data[index].append(data)\n",
    "\n",
    "    \n",
    "\n",
    "matchcard_data"
   ]
  },
  {
   "cell_type": "code",
   "execution_count": 42,
   "metadata": {},
   "outputs": [
    {
     "name": "stdout",
     "output_type": "stream",
     "text": [
      "Minutes played 30\n",
      "Goals 0\n",
      "Assists 0\n",
      "Total shots 2\n",
      "Accurate passes 6/7 (86%)\n",
      "Key passes 2\n",
      "Expected goals (xG) 0.25\n",
      "Expected assists (xA) 0.05\n",
      "Attack NaN\n",
      "Shot accuracy 0/2 (0%)\n",
      "Big chance missed 1\n",
      "Touches 15\n",
      "Successful dribbles 1/2 (50%)\n",
      "Dispossessed 2\n",
      "Defence NaN\n",
      "Tackles won 0\n",
      "Duels NaN\n",
      "Ground duels won 1/5 (20%)\n",
      "Aerial duels won 1/1 (100%)\n",
      "Was fouled 0\n",
      "Fouls committed 1\n"
     ]
    }
   ],
   "source": [
    "for c, d in zip(columns, matchcard_data):\n",
    "    print(c, d)"
   ]
  }
 ],
 "metadata": {
  "interpreter": {
   "hash": "431f0c31d5291424e54056d2202ffa34a70a802a6c63efdeb2c873dde14dab2c"
  },
  "kernelspec": {
   "display_name": "Python 3.9.7 ('mmfootball')",
   "language": "python",
   "name": "python3"
  },
  "language_info": {
   "codemirror_mode": {
    "name": "ipython",
    "version": 3
   },
   "file_extension": ".py",
   "mimetype": "text/x-python",
   "name": "python",
   "nbconvert_exporter": "python",
   "pygments_lexer": "ipython3",
   "version": "3.9.7"
  },
  "orig_nbformat": 4
 },
 "nbformat": 4,
 "nbformat_minor": 2
}
