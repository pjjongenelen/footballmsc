{
 "cells": [
  {
   "cell_type": "markdown",
   "metadata": {
    "pycharm": {
     "name": "#%% md\n"
    }
   },
   "source": [
    "## What do the distributions of player grades look like?"
   ]
  },
  {
   "cell_type": "code",
   "execution_count": 1,
   "metadata": {
    "pycharm": {
     "name": "#%%\n"
    }
   },
   "outputs": [],
   "source": [
    "import eredivisie_nlp as enlp\n",
    "import numpy as np\n",
    "import matplotlib.pyplot as plt\n",
    "import os\n",
    "import pandas as pd\n",
    "from scipy import stats"
   ]
  },
  {
   "cell_type": "code",
   "execution_count": 2,
   "metadata": {
    "pycharm": {
     "name": "#%%\n"
    }
   },
   "outputs": [],
   "source": [
    "ROOT = os.path.dirname(os.path.dirname(os.getcwd()))"
   ]
  },
  {
   "cell_type": "code",
   "execution_count": 3,
   "metadata": {
    "pycharm": {
     "name": "#%%\n"
    }
   },
   "outputs": [],
   "source": [
    "grades_df = pd.read_csv(enlp.determine_root() + \"/data/grades.csv\", index_col=[0])"
   ]
  },
  {
   "cell_type": "code",
   "execution_count": 4,
   "metadata": {
    "pycharm": {
     "name": "#%%\n"
    }
   },
   "outputs": [
    {
     "name": "stdout",
     "output_type": "stream",
     "text": [
      "Minimum grade given by VI: 3.5\n",
      "Minimum grade given by AD: 3.0\n",
      "Minimum grade given by FM: 2.1\n"
     ]
    }
   ],
   "source": [
    "min_vi = min(grades_df.VI)\n",
    "print(f\"Minimum grade given by VI: {min_vi}\")\n",
    "min_ad = min(grades_df.AD)\n",
    "print(f\"Minimum grade given by AD: {min_ad}\")\n",
    "min_fm = min(grades_df.FM)\n",
    "print(f\"Minimum grade given by FM: {min_fm}\")"
   ]
  },
  {
   "cell_type": "code",
   "execution_count": 5,
   "metadata": {
    "pycharm": {
     "name": "#%%\n"
    }
   },
   "outputs": [
    {
     "name": "stdout",
     "output_type": "stream",
     "text": [
      "Maximum grade given by VI: 8.5\n",
      "Maximum grade given by AD: 8.5\n",
      "Maximum grade given by FM: 9.9\n"
     ]
    }
   ],
   "source": [
    "max_vi = max(grades_df.VI)\n",
    "print(f\"Maximum grade given by VI: {max_vi}\")\n",
    "max_ad = max(grades_df.AD)\n",
    "print(f\"Maximum grade given by AD: {max_ad}\")\n",
    "max_fm = max(grades_df.FM)\n",
    "print(f\"Maximum grade given by FM: {max_fm}\")"
   ]
  },
  {
   "cell_type": "code",
   "execution_count": 6,
   "outputs": [
    {
     "data": {
      "text/plain": "(array([1.000e+00, 1.020e+02, 1.190e+02, 7.670e+02, 6.690e+02, 1.302e+03,\n        8.300e+02, 4.120e+02, 1.060e+02, 5.600e+01]),\n array([3.  , 3.55, 4.1 , 4.65, 5.2 , 5.75, 6.3 , 6.85, 7.4 , 7.95, 8.5 ]),\n <BarContainer object of 10 artists>)"
     },
     "execution_count": 6,
     "metadata": {},
     "output_type": "execute_result"
    },
    {
     "data": {
      "text/plain": "<Figure size 432x288 with 1 Axes>",
      "image/png": "[encoded data removed]"
     },
     "metadata": {
      "needs_background": "light"
     },
     "output_type": "display_data"
    }
   ],
   "source": [
    "plt.hist(grades_df.AD)"
   ],
   "metadata": {
    "collapsed": false,
    "pycharm": {
     "name": "#%%\n"
    }
   }
  },
  {
   "cell_type": "code",
   "execution_count": 7,
   "metadata": {
    "pycharm": {
     "name": "#%%\n"
    }
   },
   "outputs": [
    {
     "data": {
      "text/plain": "<Figure size 720x432 with 1 Axes>",
      "image/png": "[encoded data removed]"
     },
     "metadata": {
      "needs_background": "light"
     },
     "output_type": "display_data"
    }
   ],
   "source": [
    "def plot_grades_density(save = False):\n",
    "    plt.figure(figsize = [10, 6])\n",
    "    grades_df.AD.plot.hist(bins=40, width=.1, fc=(0.95, 0.42, 0.13, 0.7))\n",
    "    grades_df.VI.plot.hist(bins=40, width=.1, fc=(0.99, 0.93, 0.32, 0.7))\n",
    "    grades_df.FM.plot.hist(bins=40, width=.1, fc=(0.13, 0.56, 0.23, 0.7))\n",
    "    plt.legend()\n",
    "    plt.xlabel('Grade')\n",
    "    plt.xticks([n for n in np.arange(1, 10.5, 0.5)])\n",
    "    if save:\n",
    "        plt.savefig(enlp.determine_root() + \"/res/figures/grades_density.png\")\n",
    "    plt.show()\n",
    "\n",
    "plot_grades_density(save=True)"
   ]
  },
  {
   "cell_type": "markdown",
   "metadata": {
    "pycharm": {
     "name": "#%% md\n"
    }
   },
   "source": [
    "Plots seem to be normally distributed, lets check to make sure"
   ]
  },
  {
   "cell_type": "code",
   "execution_count": 8,
   "metadata": {
    "pycharm": {
     "name": "#%%\n"
    }
   },
   "outputs": [
    {
     "name": "stdout",
     "output_type": "stream",
     "text": [
      "P value for normality VI: 2.102360567375891e-06\n",
      "P value for normality AD: 0.7875041508450682\n",
      "P value for normality FM: 4.405710852434027e-18\n"
     ]
    }
   ],
   "source": [
    "print(f\"P value for normality VI: {stats.normaltest(grades_df.VI, nan_policy='omit').pvalue}\")\n",
    "print(f\"P value for normality AD: {stats.normaltest(grades_df.AD, nan_policy='omit').pvalue}\")\n",
    "print(f\"P value for normality FM: {stats.normaltest(grades_df.FM, nan_policy='omit').pvalue}\")"
   ]
  },
  {
   "cell_type": "code",
   "execution_count": 9,
   "metadata": {
    "pycharm": {
     "name": "#%%\n"
    }
   },
   "outputs": [
    {
     "data": {
      "text/plain": "<Figure size 432x504 with 1 Axes>",
      "image/png": "[encoded data removed]"
     },
     "metadata": {
      "needs_background": "light"
     },
     "output_type": "display_data"
    }
   ],
   "source": [
    "plt.figure(figsize=[6, 7])\n",
    "plt.boxplot([grades_df.AD[~np.isnan(grades_df.AD)], grades_df.VI[~np.isnan(grades_df.VI)], grades_df.FM[~np.isnan(grades_df.FM)]])\n",
    "plt.xticks([1, 2, 3], ['AD', 'VI', 'FM'])\n",
    "plt.show()"
   ]
  },
  {
   "cell_type": "code",
   "execution_count": 10,
   "metadata": {
    "pycharm": {
     "name": "#%%\n"
    }
   },
   "outputs": [
    {
     "data": {
      "text/plain": "                       datetime            player   AD   VI       home  \\\n0     2021-12-12 15:45:00+00:00     edson alvarez  5.0  5.0   AFC Ajax   \n1     2021-12-12 15:45:00+00:00            antony  5.5  6.5   AFC Ajax   \n2     2021-12-12 15:45:00+00:00   steven berghuis  5.5  5.5   AFC Ajax   \n3     2021-12-12 15:45:00+00:00       daley blind  5.0  5.0   AFC Ajax   \n4     2021-12-12 15:45:00+00:00  ryan gravenberch  5.0  6.0   AFC Ajax   \n...                         ...               ...  ...  ...        ...   \n4770  2021-11-06 19:00:00+00:00  giannis masouras  6.5  7.0  Willem II   \n4772  2021-11-06 19:00:00+00:00      sven mijnans  6.5  6.0  Willem II   \n4773  2021-11-06 19:00:00+00:00      maduka okoye  6.0  6.5  Willem II   \n4775  2021-11-06 19:00:00+00:00       lennart thy  5.0  6.5  Willem II   \n4776  2021-11-06 19:00:00+00:00      bart vriends  8.0  8.0  Willem II   \n\n                  away   time        date                       id   FM  ...  \\\n0           AZ Alkmaar  16:45  2021-12-12      edson alvarez#ajaaz  6.7  ...   \n1           AZ Alkmaar  16:45  2021-12-12             antony#ajaaz  7.5  ...   \n2           AZ Alkmaar  16:45  2021-12-12    steven berghuis#ajaaz  7.1  ...   \n3           AZ Alkmaar  16:45  2021-12-12        daley blind#ajaaz  7.1  ...   \n4           AZ Alkmaar  16:45  2021-12-12   ryan gravenberch#ajaaz  6.8  ...   \n...                ...    ...         ...                      ...  ...  ...   \n4770  Sparta Rotterdam  20:00  2021-11-06  giannis masouras#wilspa  8.4  ...   \n4772  Sparta Rotterdam  20:00  2021-11-06      sven mijnans#wilspa  7.9  ...   \n4773  Sparta Rotterdam  20:00  2021-11-06      maduka okoye#wilspa  7.0  ...   \n4775  Sparta Rotterdam  20:00  2021-11-06       lennart thy#wilspa  6.9  ...   \n4776  Sparta Rotterdam  20:00  2021-11-06      bart vriends#wilspa  9.2  ...   \n\n      Own goal  Conceded penalty  Error led to goal  Penalties won  \\\n0          NaN               NaN                NaN            NaN   \n1          NaN               NaN                NaN            NaN   \n2          NaN               NaN                NaN            NaN   \n3          NaN               NaN                NaN            NaN   \n4          NaN               NaN                NaN            NaN   \n...        ...               ...                ...            ...   \n4770       NaN               NaN                NaN            NaN   \n4772       NaN               NaN                NaN            NaN   \n4773       NaN               NaN                NaN            NaN   \n4775       NaN               NaN                NaN            NaN   \n4776       NaN               NaN                NaN            NaN   \n\n      Errors led to goal Crosses Penalties miss  hashtag  squad_abbr  \\\n0                    NaN     NaN            NaN   #ajaaz         aja   \n1                    NaN     NaN            NaN   #ajaaz         aja   \n2                    NaN     NaN            NaN   #ajaaz         aja   \n3                    NaN     NaN            NaN   #ajaaz         aja   \n4                    NaN     NaN            NaN   #ajaaz         aja   \n...                  ...     ...            ...      ...         ...   \n4770                 NaN     NaN            NaN  #wilspa         spa   \n4772                 NaN     NaN            NaN  #wilspa         spa   \n4773                 NaN     NaN            NaN  #wilspa         spa   \n4775                 NaN     NaN            NaN  #wilspa         spa   \n4776                 NaN     NaN            NaN  #wilspa         spa   \n\n            player_id  \n0         alvarez_aja  \n1          antony_aja  \n2        berghuis_aja  \n3           blind_aja  \n4     gravenberch_aja  \n...               ...  \n4770     masouras_spa  \n4772      mijnans_spa  \n4773        okoye_spa  \n4775          thy_spa  \n4776      vriends_spa  \n\n[4364 rows x 64 columns]",
      "text/html": "<div>\n<style scoped>\n    .dataframe tbody tr th:only-of-type {\n        vertical-align: middle;\n    }\n\n    .dataframe tbody tr th {\n        vertical-align: top;\n    }\n\n    .dataframe thead th {\n        text-align: right;\n    }\n</style>\n<table border=\"1\" class=\"dataframe\">\n  <thead>\n    <tr style=\"text-align: right;\">\n      <th></th>\n      <th>datetime</th>\n      <th>player</th>\n      <th>AD</th>\n      <th>VI</th>\n      <th>home</th>\n      <th>away</th>\n      <th>time</th>\n      <th>date</th>\n      <th>id</th>\n      <th>FM</th>\n      <th>...</th>\n      <th>Own goal</th>\n      <th>Conceded penalty</th>\n      <th>Error led to goal</th>\n      <th>Penalties won</th>\n      <th>Errors led to goal</th>\n      <th>Crosses</th>\n      <th>Penalties miss</th>\n      <th>hashtag</th>\n      <th>squad_abbr</th>\n      <th>player_id</th>\n    </tr>\n  </thead>\n  <tbody>\n    <tr>\n      <th>0</th>\n      <td>2021-12-12 15:45:00+00:00</td>\n      <td>edson alvarez</td>\n      <td>5.0</td>\n      <td>5.0</td>\n      <td>AFC Ajax</td>\n      <td>AZ Alkmaar</td>\n      <td>16:45</td>\n      <td>2021-12-12</td>\n      <td>edson alvarez#ajaaz</td>\n      <td>6.7</td>\n      <td>...</td>\n      <td>NaN</td>\n      <td>NaN</td>\n      <td>NaN</td>\n      <td>NaN</td>\n      <td>NaN</td>\n      <td>NaN</td>\n      <td>NaN</td>\n      <td>#ajaaz</td>\n      <td>aja</td>\n      <td>alvarez_aja</td>\n    </tr>\n    <tr>\n      <th>1</th>\n      <td>2021-12-12 15:45:00+00:00</td>\n      <td>antony</td>\n      <td>5.5</td>\n      <td>6.5</td>\n      <td>AFC Ajax</td>\n      <td>AZ Alkmaar</td>\n      <td>16:45</td>\n      <td>2021-12-12</td>\n      <td>antony#ajaaz</td>\n      <td>7.5</td>\n      <td>...</td>\n      <td>NaN</td>\n      <td>NaN</td>\n      <td>NaN</td>\n      <td>NaN</td>\n      <td>NaN</td>\n      <td>NaN</td>\n      <td>NaN</td>\n      <td>#ajaaz</td>\n      <td>aja</td>\n      <td>antony_aja</td>\n    </tr>\n    <tr>\n      <th>2</th>\n      <td>2021-12-12 15:45:00+00:00</td>\n      <td>steven berghuis</td>\n      <td>5.5</td>\n      <td>5.5</td>\n      <td>AFC Ajax</td>\n      <td>AZ Alkmaar</td>\n      <td>16:45</td>\n      <td>2021-12-12</td>\n      <td>steven berghuis#ajaaz</td>\n      <td>7.1</td>\n      <td>...</td>\n      <td>NaN</td>\n      <td>NaN</td>\n      <td>NaN</td>\n      <td>NaN</td>\n      <td>NaN</td>\n      <td>NaN</td>\n      <td>NaN</td>\n      <td>#ajaaz</td>\n      <td>aja</td>\n      <td>berghuis_aja</td>\n    </tr>\n    <tr>\n      <th>3</th>\n      <td>2021-12-12 15:45:00+00:00</td>\n      <td>daley blind</td>\n      <td>5.0</td>\n      <td>5.0</td>\n      <td>AFC Ajax</td>\n      <td>AZ Alkmaar</td>\n      <td>16:45</td>\n      <td>2021-12-12</td>\n      <td>daley blind#ajaaz</td>\n      <td>7.1</td>\n      <td>...</td>\n      <td>NaN</td>\n      <td>NaN</td>\n      <td>NaN</td>\n      <td>NaN</td>\n      <td>NaN</td>\n      <td>NaN</td>\n      <td>NaN</td>\n      <td>#ajaaz</td>\n      <td>aja</td>\n      <td>blind_aja</td>\n    </tr>\n    <tr>\n      <th>4</th>\n      <td>2021-12-12 15:45:00+00:00</td>\n      <td>ryan gravenberch</td>\n      <td>5.0</td>\n      <td>6.0</td>\n      <td>AFC Ajax</td>\n      <td>AZ Alkmaar</td>\n      <td>16:45</td>\n      <td>2021-12-12</td>\n      <td>ryan gravenberch#ajaaz</td>\n      <td>6.8</td>\n      <td>...</td>\n      <td>NaN</td>\n      <td>NaN</td>\n      <td>NaN</td>\n      <td>NaN</td>\n      <td>NaN</td>\n      <td>NaN</td>\n      <td>NaN</td>\n      <td>#ajaaz</td>\n      <td>aja</td>\n      <td>gravenberch_aja</td>\n    </tr>\n    <tr>\n      <th>...</th>\n      <td>...</td>\n      <td>...</td>\n      <td>...</td>\n      <td>...</td>\n      <td>...</td>\n      <td>...</td>\n      <td>...</td>\n      <td>...</td>\n      <td>...</td>\n      <td>...</td>\n      <td>...</td>\n      <td>...</td>\n      <td>...</td>\n      <td>...</td>\n      <td>...</td>\n      <td>...</td>\n      <td>...</td>\n      <td>...</td>\n      <td>...</td>\n      <td>...</td>\n      <td>...</td>\n    </tr>\n    <tr>\n      <th>4770</th>\n      <td>2021-11-06 19:00:00+00:00</td>\n      <td>giannis masouras</td>\n      <td>6.5</td>\n      <td>7.0</td>\n      <td>Willem II</td>\n      <td>Sparta Rotterdam</td>\n      <td>20:00</td>\n      <td>2021-11-06</td>\n      <td>giannis masouras#wilspa</td>\n      <td>8.4</td>\n      <td>...</td>\n      <td>NaN</td>\n      <td>NaN</td>\n      <td>NaN</td>\n      <td>NaN</td>\n      <td>NaN</td>\n      <td>NaN</td>\n      <td>NaN</td>\n      <td>#wilspa</td>\n      <td>spa</td>\n      <td>masouras_spa</td>\n    </tr>\n    <tr>\n      <th>4772</th>\n      <td>2021-11-06 19:00:00+00:00</td>\n      <td>sven mijnans</td>\n      <td>6.5</td>\n      <td>6.0</td>\n      <td>Willem II</td>\n      <td>Sparta Rotterdam</td>\n      <td>20:00</td>\n      <td>2021-11-06</td>\n      <td>sven mijnans#wilspa</td>\n      <td>7.9</td>\n      <td>...</td>\n      <td>NaN</td>\n      <td>NaN</td>\n      <td>NaN</td>\n      <td>NaN</td>\n      <td>NaN</td>\n      <td>NaN</td>\n      <td>NaN</td>\n      <td>#wilspa</td>\n      <td>spa</td>\n      <td>mijnans_spa</td>\n    </tr>\n    <tr>\n      <th>4773</th>\n      <td>2021-11-06 19:00:00+00:00</td>\n      <td>maduka okoye</td>\n      <td>6.0</td>\n      <td>6.5</td>\n      <td>Willem II</td>\n      <td>Sparta Rotterdam</td>\n      <td>20:00</td>\n      <td>2021-11-06</td>\n      <td>maduka okoye#wilspa</td>\n      <td>7.0</td>\n      <td>...</td>\n      <td>NaN</td>\n      <td>NaN</td>\n      <td>NaN</td>\n      <td>NaN</td>\n      <td>NaN</td>\n      <td>NaN</td>\n      <td>NaN</td>\n      <td>#wilspa</td>\n      <td>spa</td>\n      <td>okoye_spa</td>\n    </tr>\n    <tr>\n      <th>4775</th>\n      <td>2021-11-06 19:00:00+00:00</td>\n      <td>lennart thy</td>\n      <td>5.0</td>\n      <td>6.5</td>\n      <td>Willem II</td>\n      <td>Sparta Rotterdam</td>\n      <td>20:00</td>\n      <td>2021-11-06</td>\n      <td>lennart thy#wilspa</td>\n      <td>6.9</td>\n      <td>...</td>\n      <td>NaN</td>\n      <td>NaN</td>\n      <td>NaN</td>\n      <td>NaN</td>\n      <td>NaN</td>\n      <td>NaN</td>\n      <td>NaN</td>\n      <td>#wilspa</td>\n      <td>spa</td>\n      <td>thy_spa</td>\n    </tr>\n    <tr>\n      <th>4776</th>\n      <td>2021-11-06 19:00:00+00:00</td>\n      <td>bart vriends</td>\n      <td>8.0</td>\n      <td>8.0</td>\n      <td>Willem II</td>\n      <td>Sparta Rotterdam</td>\n      <td>20:00</td>\n      <td>2021-11-06</td>\n      <td>bart vriends#wilspa</td>\n      <td>9.2</td>\n      <td>...</td>\n      <td>NaN</td>\n      <td>NaN</td>\n      <td>NaN</td>\n      <td>NaN</td>\n      <td>NaN</td>\n      <td>NaN</td>\n      <td>NaN</td>\n      <td>#wilspa</td>\n      <td>spa</td>\n      <td>vriends_spa</td>\n    </tr>\n  </tbody>\n</table>\n<p>4364 rows × 64 columns</p>\n</div>"
     },
     "execution_count": 10,
     "metadata": {},
     "output_type": "execute_result"
    }
   ],
   "source": [
    "grades_df"
   ]
  },
  {
   "cell_type": "markdown",
   "source": [
    "# Determining the relative average scores"
   ],
   "metadata": {
    "collapsed": false,
    "pycharm": {
     "name": "#%% md\n"
    }
   }
  },
  {
   "cell_type": "code",
   "execution_count": 17,
   "outputs": [
    {
     "data": {
      "text/plain": "4364"
     },
     "execution_count": 17,
     "metadata": {},
     "output_type": "execute_result"
    }
   ],
   "source": [
    "grades_df.shape[0]"
   ],
   "metadata": {
    "collapsed": false,
    "pycharm": {
     "name": "#%%\n"
    }
   }
  }
 ],
 "metadata": {
  "interpreter": {
   "hash": "431f0c31d5291424e54056d2202ffa34a70a802a6c63efdeb2c873dde14dab2c"
  },
  "kernelspec": {
   "display_name": "Python 3.8.12 ('mmfootball')",
   "language": "python",
   "name": "python3"
  },
  "language_info": {
   "codemirror_mode": {
    "name": "ipython",
    "version": 3
   },
   "file_extension": ".py",
   "mimetype": "text/x-python",
   "name": "python",
   "nbconvert_exporter": "python",
   "pygments_lexer": "ipython3",
   "version": "3.8.12"
  },
  "orig_nbformat": 4
 },
 "nbformat": 4,
 "nbformat_minor": 2
}