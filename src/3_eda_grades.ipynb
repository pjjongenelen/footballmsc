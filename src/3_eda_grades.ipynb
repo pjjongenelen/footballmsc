{
 "cells": [
  {
   "cell_type": "markdown",
   "metadata": {
    "pycharm": {
     "name": "#%% md\n"
    }
   },
   "source": [
    "## What do the distributions of player grades look like?"
   ]
  },
  {
   "cell_type": "code",
   "execution_count": 1,
   "metadata": {
    "pycharm": {
     "name": "#%%\n"
    }
   },
   "outputs": [],
   "source": [
    "import eredivisie_nlp as enlp\n",
    "import numpy as np\n",
    "import matplotlib.pyplot as plt\n",
    "import pandas as pd\n",
    "from scipy import stats\n",
    "from sklearn.metrics import mean_absolute_error"
   ]
  },
  {
   "cell_type": "code",
   "execution_count": 2,
   "metadata": {
    "pycharm": {
     "name": "#%%\n"
    }
   },
   "outputs": [],
   "source": [
    "grades_df = pd.read_csv(enlp.determine_root() + \"/data/grades.csv\", index_col=[0])"
   ]
  },
  {
   "cell_type": "code",
   "execution_count": 3,
   "metadata": {
    "pycharm": {
     "name": "#%%\n"
    }
   },
   "outputs": [
    {
     "name": "stdout",
     "output_type": "stream",
     "text": [
      "Minimum grade given by VI: 3.5\n",
      "Minimum grade given by AD: 3.0\n",
      "Minimum grade given by FM: 2.1\n"
     ]
    }
   ],
   "source": [
    "min_vi = min(grades_df.VI)\n",
    "print(f\"Minimum grade given by VI: {min_vi}\")\n",
    "min_ad = min(grades_df.AD)\n",
    "print(f\"Minimum grade given by AD: {min_ad}\")\n",
    "min_fm = min(grades_df.FM)\n",
    "print(f\"Minimum grade given by FM: {min_fm}\")"
   ]
  },
  {
   "cell_type": "code",
   "execution_count": 4,
   "metadata": {
    "pycharm": {
     "name": "#%%\n"
    }
   },
   "outputs": [
    {
     "name": "stdout",
     "output_type": "stream",
     "text": [
      "Maximum grade given by VI: 8.5\n",
      "Maximum grade given by AD: 8.5\n",
      "Maximum grade given by FM: 9.9\n"
     ]
    }
   ],
   "source": [
    "max_vi = max(grades_df.VI)\n",
    "print(f\"Maximum grade given by VI: {max_vi}\")\n",
    "max_ad = max(grades_df.AD)\n",
    "print(f\"Maximum grade given by AD: {max_ad}\")\n",
    "max_fm = max(grades_df.FM)\n",
    "print(f\"Maximum grade given by FM: {max_fm}\")"
   ]
  },
  {
   "cell_type": "code",
   "execution_count": 5,
   "outputs": [
    {
     "data": {
      "text/plain": "<Figure size 432x288 with 1 Axes>",
      "image/png": "[encoded data removed]"
     },
     "metadata": {},
     "output_type": "display_data"
    }
   ],
   "source": [
    "plt.hist(grades_df.AD)\n",
    "plt.show()"
   ],
   "metadata": {
    "collapsed": false,
    "pycharm": {
     "name": "#%%\n"
    }
   }
  },
  {
   "cell_type": "code",
   "execution_count": 6,
   "metadata": {
    "pycharm": {
     "name": "#%%\n"
    }
   },
   "outputs": [
    {
     "data": {
      "text/plain": "<Figure size 720x432 with 1 Axes>",
      "image/png": "[encoded data removed]"
     },
     "metadata": {},
     "output_type": "display_data"
    }
   ],
   "source": [
    "grades_df['FM_min1'] = grades_df.FM - 1\n",
    "def plot_grades_density(save = False):\n",
    "    plt.figure(figsize = [10, 6])\n",
    "    grades_df.AD.plot.hist(bins=40, width=.1, fc=(0.95, 0.42, 0.13, 0.7))\n",
    "    grades_df.VI.plot.hist(bins=40, width=.1, fc=(0.99, 0.93, 0.32, 0.7))\n",
    "    grades_df.FM_min1.plot.hist(bins=40, width=.1, fc=(0.13, 0.56, 0.23, 0.7))\n",
    "    plt.legend(['AD', 'VI', 'FM-1'])\n",
    "    plt.xlabel('Grade', size=14)\n",
    "    plt.ylabel('Frequency', size=14)\n",
    "    plt.xticks([n for n in np.arange(1, 10.5, 0.5)])\n",
    "    if save:\n",
    "        plt.savefig(enlp.determine_root() + \"/res/figures/grades_density.png\")\n",
    "    plt.show()\n",
    "\n",
    "plot_grades_density(save=True)"
   ]
  },
  {
   "cell_type": "markdown",
   "metadata": {
    "pycharm": {
     "name": "#%% md\n"
    }
   },
   "source": [
    "Plots seem to be normally distributed, lets check to make sure"
   ]
  },
  {
   "cell_type": "code",
   "execution_count": 7,
   "metadata": {
    "pycharm": {
     "name": "#%%\n"
    }
   },
   "outputs": [
    {
     "name": "stdout",
     "output_type": "stream",
     "text": [
      "P value for normality VI: 2.102360567375891e-06\n",
      "P value for normality AD: 0.7875041508450682\n",
      "P value for normality FM: 4.405710852434027e-18\n"
     ]
    }
   ],
   "source": [
    "print(f\"P value for normality VI: {stats.normaltest(grades_df.VI, nan_policy='omit').pvalue}\")\n",
    "print(f\"P value for normality AD: {stats.normaltest(grades_df.AD, nan_policy='omit').pvalue}\")\n",
    "print(f\"P value for normality FM: {stats.normaltest(grades_df.FM, nan_policy='omit').pvalue}\")"
   ]
  },
  {
   "cell_type": "code",
   "execution_count": 8,
   "metadata": {
    "pycharm": {
     "name": "#%%\n"
    }
   },
   "outputs": [
    {
     "data": {
      "text/plain": "<Figure size 432x504 with 1 Axes>",
      "image/png": "[encoded data removed]"
     },
     "metadata": {},
     "output_type": "display_data"
    }
   ],
   "source": [
    "plt.figure(figsize=[6, 7])\n",
    "plt.boxplot([grades_df.AD[~np.isnan(grades_df.AD)], grades_df.VI[~np.isnan(grades_df.VI)], grades_df.FM[~np.isnan(grades_df.FM)]])\n",
    "plt.xticks([1, 2, 3], ['AD', 'VI', 'FM'])\n",
    "plt.show()"
   ]
  },
  {
   "cell_type": "markdown",
   "source": [
    "# IRR between rating systems"
   ],
   "metadata": {
    "collapsed": false,
    "pycharm": {
     "name": "#%% md\n"
    }
   }
  },
  {
   "cell_type": "code",
   "execution_count": 9,
   "outputs": [],
   "source": [
    "grades_df = grades_df[~np.isnan(grades_df.VI)]\n",
    "grades_df = grades_df[~np.isnan(grades_df.FM)]"
   ],
   "metadata": {
    "collapsed": false,
    "pycharm": {
     "name": "#%%\n"
    }
   }
  },
  {
   "cell_type": "code",
   "execution_count": 10,
   "outputs": [
    {
     "data": {
      "text/plain": "0.5228453229142725"
     },
     "execution_count": 10,
     "metadata": {},
     "output_type": "execute_result"
    }
   ],
   "source": [
    "mean_absolute_error(grades_df.AD, grades_df.VI)"
   ],
   "metadata": {
    "collapsed": false,
    "pycharm": {
     "name": "#%%\n"
    }
   }
  },
  {
   "cell_type": "code",
   "execution_count": 11,
   "outputs": [
    {
     "data": {
      "text/plain": "0.6164789703516433"
     },
     "execution_count": 11,
     "metadata": {},
     "output_type": "execute_result"
    }
   ],
   "source": [
    "mean_absolute_error(grades_df.AD, grades_df.FM_min1)"
   ],
   "metadata": {
    "collapsed": false,
    "pycharm": {
     "name": "#%%\n"
    }
   }
  },
  {
   "cell_type": "code",
   "execution_count": 12,
   "outputs": [
    {
     "data": {
      "text/plain": "0.5108250976786946"
     },
     "execution_count": 12,
     "metadata": {},
     "output_type": "execute_result"
    }
   ],
   "source": [
    "mean_absolute_error(grades_df.VI, grades_df.FM_min1)"
   ],
   "metadata": {
    "collapsed": false,
    "pycharm": {
     "name": "#%%\n"
    }
   }
  },
  {
   "cell_type": "code",
   "execution_count": 13,
   "outputs": [],
   "source": [
    "def to_rel_avg(scores, avg_low, avg_high):\n",
    "    rel_avg = []\n",
    "    for s in scores:\n",
    "        if s > avg_high:\n",
    "            rel_avg.append(1)\n",
    "        elif s < avg_low:\n",
    "            rel_avg.append(-1)\n",
    "        else:\n",
    "            rel_avg.append(0)\n",
    "\n",
    "    return rel_avg\n",
    "\n",
    "grades_df['AD_avg'] = to_rel_avg(grades_df.AD, 6.0, 6.9)\n",
    "grades_df['VI_avg'] = to_rel_avg(grades_df.VI, 6.0, 6.9)\n",
    "grades_df['FM1_avg'] = to_rel_avg(grades_df.FM_min1, 5.5, 6.4)"
   ],
   "metadata": {
    "collapsed": false,
    "pycharm": {
     "name": "#%%\n"
    }
   }
  },
  {
   "cell_type": "code",
   "execution_count": 14,
   "outputs": [
    {
     "data": {
      "text/plain": "0.40749253045276945"
     },
     "execution_count": 14,
     "metadata": {},
     "output_type": "execute_result"
    }
   ],
   "source": [
    "mean_absolute_error(grades_df.AD_avg, grades_df.VI_avg)"
   ],
   "metadata": {
    "collapsed": false,
    "pycharm": {
     "name": "#%%\n"
    }
   }
  },
  {
   "cell_type": "code",
   "execution_count": 15,
   "outputs": [
    {
     "data": {
      "text/plain": "0.5391863939324293"
     },
     "execution_count": 15,
     "metadata": {},
     "output_type": "execute_result"
    }
   ],
   "source": [
    "mean_absolute_error(grades_df.AD_avg, grades_df.FM1_avg)"
   ],
   "metadata": {
    "collapsed": false,
    "pycharm": {
     "name": "#%%\n"
    }
   }
  },
  {
   "cell_type": "code",
   "execution_count": 16,
   "outputs": [
    {
     "data": {
      "text/plain": "0.4254194438060216"
     },
     "execution_count": 16,
     "metadata": {},
     "output_type": "execute_result"
    }
   ],
   "source": [
    "mean_absolute_error(grades_df.FM1_avg, grades_df.VI_avg)"
   ],
   "metadata": {
    "collapsed": false,
    "pycharm": {
     "name": "#%%\n"
    }
   }
  },
  {
   "cell_type": "code",
   "execution_count": 17,
   "outputs": [],
   "source": [
    "import seaborn as sns\n",
    "from sklearn.metrics import confusion_matrix"
   ],
   "metadata": {
    "collapsed": false,
    "pycharm": {
     "name": "#%%\n"
    }
   }
  },
  {
   "cell_type": "code",
   "execution_count": 18,
   "outputs": [
    {
     "data": {
      "text/plain": "array([[1032,  586,   34],\n       [ 464, 1193,  468],\n       [  18,  151,  405]], dtype=int64)"
     },
     "execution_count": 18,
     "metadata": {},
     "output_type": "execute_result"
    }
   ],
   "source": [
    "confusion_matrix(grades_df.AD_avg, grades_df.VI_avg)"
   ],
   "metadata": {
    "collapsed": false,
    "pycharm": {
     "name": "#%%\n"
    }
   }
  },
  {
   "cell_type": "code",
   "execution_count": 19,
   "outputs": [
    {
     "data": {
      "text/plain": "           AD_avg    VI_avg   FM1_avg\nAD_avg   1.000000  0.577106  0.468508\nVI_avg   0.577106  1.000000  0.600538\nFM1_avg  0.468508  0.600538  1.000000",
      "text/html": "<div>\n<style scoped>\n    .dataframe tbody tr th:only-of-type {\n        vertical-align: middle;\n    }\n\n    .dataframe tbody tr th {\n        vertical-align: top;\n    }\n\n    .dataframe thead th {\n        text-align: right;\n    }\n</style>\n<table border=\"1\" class=\"dataframe\">\n  <thead>\n    <tr style=\"text-align: right;\">\n      <th></th>\n      <th>AD_avg</th>\n      <th>VI_avg</th>\n      <th>FM1_avg</th>\n    </tr>\n  </thead>\n  <tbody>\n    <tr>\n      <th>AD_avg</th>\n      <td>1.000000</td>\n      <td>0.577106</td>\n      <td>0.468508</td>\n    </tr>\n    <tr>\n      <th>VI_avg</th>\n      <td>0.577106</td>\n      <td>1.000000</td>\n      <td>0.600538</td>\n    </tr>\n    <tr>\n      <th>FM1_avg</th>\n      <td>0.468508</td>\n      <td>0.600538</td>\n      <td>1.000000</td>\n    </tr>\n  </tbody>\n</table>\n</div>"
     },
     "execution_count": 19,
     "metadata": {},
     "output_type": "execute_result"
    }
   ],
   "source": [
    "grades_df[['AD_avg', 'VI_avg', 'FM1_avg']].corr()"
   ],
   "metadata": {
    "collapsed": false,
    "pycharm": {
     "name": "#%%\n"
    }
   }
  }
 ],
 "metadata": {
  "interpreter": {
   "hash": "431f0c31d5291424e54056d2202ffa34a70a802a6c63efdeb2c873dde14dab2c"
  },
  "kernelspec": {
   "display_name": "Python 3.8.12 ('mmfootball')",
   "language": "python",
   "name": "python3"
  },
  "language_info": {
   "codemirror_mode": {
    "name": "ipython",
    "version": 3
   },
   "file_extension": ".py",
   "mimetype": "text/x-python",
   "name": "python",
   "nbconvert_exporter": "python",
   "pygments_lexer": "ipython3",
   "version": "3.8.12"
  },
  "orig_nbformat": 4
 },
 "nbformat": 4,
 "nbformat_minor": 2
}