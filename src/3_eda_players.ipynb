{
 "cells": [
  {
   "cell_type": "code",
   "execution_count": 1,
   "metadata": {
    "collapsed": true,
    "pycharm": {
     "name": "#%%\n"
    }
   },
   "outputs": [],
   "source": [
    "import eredivisie_nlp as enlp\n",
    "import pandas as pd"
   ]
  },
  {
   "cell_type": "code",
   "execution_count": 4,
   "outputs": [
    {
     "data": {
      "text/plain": "    number                  name        position      birthday  age height  \\\n0       24           Andre Onana      Goalkeeper   Apr 2, 1996   25    190   \n1       16            Jay Gorter      Goalkeeper  May 30, 2000   21    190   \n2        1  Maarten Stekelenburg      Goalkeeper  Sep 22, 1982   39    197   \n3        -      Przemyslaw Tyton      Goalkeeper   Jan 4, 1987   35    195   \n4       32         Remko Pasveer      Goalkeeper   Nov 8, 1983   38    187   \n..     ...                   ...             ...           ...  ...    ...   \n477   11.0          Mats Kohlert     Left Winger   May 2, 1998   23    168   \n478   14.0         Elton Kabangu     Left Winger   Feb 8, 1998   24    178   \n479    7.0           Che Nunnely    Right Winger   Feb 4, 1999   23    170   \n480   10.0     Argyris Kampetsis  Centre-Forward   May 6, 1999   22    186   \n481    9.0         Jizz Hornkamp  Centre-Forward   Mar 7, 1998   24    182   \n\n      foot        joined      contract       value      squad  first_name  \\\n0    right  Jan 14, 2015  Jun 30, 2022  15000000.0       Ajax       Andre   \n1    right   Jul 1, 2021  Jun 30, 2025   1500000.0       Ajax         Jay   \n2    right   Aug 1, 2020  Jun 30, 2022    550000.0       Ajax     Maarten   \n3    right   Mar 7, 2022  Jun 30, 2022    300000.0       Ajax  Przemyslaw   \n4    right   Jul 1, 2021  Jun 30, 2023    250000.0       Ajax       Remko   \n..     ...           ...           ...         ...        ...         ...   \n477   left   Jul 1, 2019  Jun 30, 2022    700000.0  Willem II        Mats   \n478   left  Aug 27, 2019  Jun 30, 2022    350000.0  Willem II       Elton   \n479  right   Jul 1, 2019  Jun 30, 2022    900000.0  Willem II         Che   \n480   both  Aug 31, 2021  Jun 30, 2022    600000.0  Willem II     Argyris   \n481  right  Jan 24, 2022  Jun 30, 2024    400000.0  Willem II        Jizz   \n\n        last_name squad_abbr         player_id           twitter  \n0           Onana        aja         onana_aja      @AndreyOnana  \n1          Gorter        aja        gorter_aja        @gorterjay  \n2    Stekelenburg        aja  stekelenburg_aja    @MStekelenburg  \n3           Tyton        aja         tyton_aja  @PrzemyslawTyton  \n4         Pasveer        aja       pasveer_aja                 -  \n..            ...        ...               ...               ...  \n477       Kohlert        wil       kohlert_wil                 -  \n478       Kabangu        wil       kabangu_wil        @Kabangsss  \n479       Nunnely        wil       nunnely_wil       @CheNunnely  \n480     Kampetsis        wil     kampetsis_wil                 -  \n481      Hornkamp        wil      hornkamp_wil                 -  \n\n[482 rows x 16 columns]",
      "text/html": "<div>\n<style scoped>\n    .dataframe tbody tr th:only-of-type {\n        vertical-align: middle;\n    }\n\n    .dataframe tbody tr th {\n        vertical-align: top;\n    }\n\n    .dataframe thead th {\n        text-align: right;\n    }\n</style>\n<table border=\"1\" class=\"dataframe\">\n  <thead>\n    <tr style=\"text-align: right;\">\n      <th></th>\n      <th>number</th>\n      <th>name</th>\n      <th>position</th>\n      <th>birthday</th>\n      <th>age</th>\n      <th>height</th>\n      <th>foot</th>\n      <th>joined</th>\n      <th>contract</th>\n      <th>value</th>\n      <th>squad</th>\n      <th>first_name</th>\n      <th>last_name</th>\n      <th>squad_abbr</th>\n      <th>player_id</th>\n      <th>twitter</th>\n    </tr>\n  </thead>\n  <tbody>\n    <tr>\n      <th>0</th>\n      <td>24</td>\n      <td>Andre Onana</td>\n      <td>Goalkeeper</td>\n      <td>Apr 2, 1996</td>\n      <td>25</td>\n      <td>190</td>\n      <td>right</td>\n      <td>Jan 14, 2015</td>\n      <td>Jun 30, 2022</td>\n      <td>15000000.0</td>\n      <td>Ajax</td>\n      <td>Andre</td>\n      <td>Onana</td>\n      <td>aja</td>\n      <td>onana_aja</td>\n      <td>@AndreyOnana</td>\n    </tr>\n    <tr>\n      <th>1</th>\n      <td>16</td>\n      <td>Jay Gorter</td>\n      <td>Goalkeeper</td>\n      <td>May 30, 2000</td>\n      <td>21</td>\n      <td>190</td>\n      <td>right</td>\n      <td>Jul 1, 2021</td>\n      <td>Jun 30, 2025</td>\n      <td>1500000.0</td>\n      <td>Ajax</td>\n      <td>Jay</td>\n      <td>Gorter</td>\n      <td>aja</td>\n      <td>gorter_aja</td>\n      <td>@gorterjay</td>\n    </tr>\n    <tr>\n      <th>2</th>\n      <td>1</td>\n      <td>Maarten Stekelenburg</td>\n      <td>Goalkeeper</td>\n      <td>Sep 22, 1982</td>\n      <td>39</td>\n      <td>197</td>\n      <td>right</td>\n      <td>Aug 1, 2020</td>\n      <td>Jun 30, 2022</td>\n      <td>550000.0</td>\n      <td>Ajax</td>\n      <td>Maarten</td>\n      <td>Stekelenburg</td>\n      <td>aja</td>\n      <td>stekelenburg_aja</td>\n      <td>@MStekelenburg</td>\n    </tr>\n    <tr>\n      <th>3</th>\n      <td>-</td>\n      <td>Przemyslaw Tyton</td>\n      <td>Goalkeeper</td>\n      <td>Jan 4, 1987</td>\n      <td>35</td>\n      <td>195</td>\n      <td>right</td>\n      <td>Mar 7, 2022</td>\n      <td>Jun 30, 2022</td>\n      <td>300000.0</td>\n      <td>Ajax</td>\n      <td>Przemyslaw</td>\n      <td>Tyton</td>\n      <td>aja</td>\n      <td>tyton_aja</td>\n      <td>@PrzemyslawTyton</td>\n    </tr>\n    <tr>\n      <th>4</th>\n      <td>32</td>\n      <td>Remko Pasveer</td>\n      <td>Goalkeeper</td>\n      <td>Nov 8, 1983</td>\n      <td>38</td>\n      <td>187</td>\n      <td>right</td>\n      <td>Jul 1, 2021</td>\n      <td>Jun 30, 2023</td>\n      <td>250000.0</td>\n      <td>Ajax</td>\n      <td>Remko</td>\n      <td>Pasveer</td>\n      <td>aja</td>\n      <td>pasveer_aja</td>\n      <td>-</td>\n    </tr>\n    <tr>\n      <th>...</th>\n      <td>...</td>\n      <td>...</td>\n      <td>...</td>\n      <td>...</td>\n      <td>...</td>\n      <td>...</td>\n      <td>...</td>\n      <td>...</td>\n      <td>...</td>\n      <td>...</td>\n      <td>...</td>\n      <td>...</td>\n      <td>...</td>\n      <td>...</td>\n      <td>...</td>\n      <td>...</td>\n    </tr>\n    <tr>\n      <th>477</th>\n      <td>11.0</td>\n      <td>Mats Kohlert</td>\n      <td>Left Winger</td>\n      <td>May 2, 1998</td>\n      <td>23</td>\n      <td>168</td>\n      <td>left</td>\n      <td>Jul 1, 2019</td>\n      <td>Jun 30, 2022</td>\n      <td>700000.0</td>\n      <td>Willem II</td>\n      <td>Mats</td>\n      <td>Kohlert</td>\n      <td>wil</td>\n      <td>kohlert_wil</td>\n      <td>-</td>\n    </tr>\n    <tr>\n      <th>478</th>\n      <td>14.0</td>\n      <td>Elton Kabangu</td>\n      <td>Left Winger</td>\n      <td>Feb 8, 1998</td>\n      <td>24</td>\n      <td>178</td>\n      <td>left</td>\n      <td>Aug 27, 2019</td>\n      <td>Jun 30, 2022</td>\n      <td>350000.0</td>\n      <td>Willem II</td>\n      <td>Elton</td>\n      <td>Kabangu</td>\n      <td>wil</td>\n      <td>kabangu_wil</td>\n      <td>@Kabangsss</td>\n    </tr>\n    <tr>\n      <th>479</th>\n      <td>7.0</td>\n      <td>Che Nunnely</td>\n      <td>Right Winger</td>\n      <td>Feb 4, 1999</td>\n      <td>23</td>\n      <td>170</td>\n      <td>right</td>\n      <td>Jul 1, 2019</td>\n      <td>Jun 30, 2022</td>\n      <td>900000.0</td>\n      <td>Willem II</td>\n      <td>Che</td>\n      <td>Nunnely</td>\n      <td>wil</td>\n      <td>nunnely_wil</td>\n      <td>@CheNunnely</td>\n    </tr>\n    <tr>\n      <th>480</th>\n      <td>10.0</td>\n      <td>Argyris Kampetsis</td>\n      <td>Centre-Forward</td>\n      <td>May 6, 1999</td>\n      <td>22</td>\n      <td>186</td>\n      <td>both</td>\n      <td>Aug 31, 2021</td>\n      <td>Jun 30, 2022</td>\n      <td>600000.0</td>\n      <td>Willem II</td>\n      <td>Argyris</td>\n      <td>Kampetsis</td>\n      <td>wil</td>\n      <td>kampetsis_wil</td>\n      <td>-</td>\n    </tr>\n    <tr>\n      <th>481</th>\n      <td>9.0</td>\n      <td>Jizz Hornkamp</td>\n      <td>Centre-Forward</td>\n      <td>Mar 7, 1998</td>\n      <td>24</td>\n      <td>182</td>\n      <td>right</td>\n      <td>Jan 24, 2022</td>\n      <td>Jun 30, 2024</td>\n      <td>400000.0</td>\n      <td>Willem II</td>\n      <td>Jizz</td>\n      <td>Hornkamp</td>\n      <td>wil</td>\n      <td>hornkamp_wil</td>\n      <td>-</td>\n    </tr>\n  </tbody>\n</table>\n<p>482 rows × 16 columns</p>\n</div>"
     },
     "execution_count": 4,
     "metadata": {},
     "output_type": "execute_result"
    }
   ],
   "source": [
    "players = pd.read_csv(enlp.determine_root() + \"/data/players.csv\", index_col=[0])\n",
    "players"
   ],
   "metadata": {
    "collapsed": false,
    "pycharm": {
     "name": "#%%\n"
    }
   }
  }
 ],
 "metadata": {
  "kernelspec": {
   "display_name": "Python 3",
   "language": "python",
   "name": "python3"
  },
  "language_info": {
   "codemirror_mode": {
    "name": "ipython",
    "version": 2
   },
   "file_extension": ".py",
   "mimetype": "text/x-python",
   "name": "python",
   "nbconvert_exporter": "python",
   "pygments_lexer": "ipython2",
   "version": "2.7.6"
  }
 },
 "nbformat": 4,
 "nbformat_minor": 0
}