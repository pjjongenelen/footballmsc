{
 "cells": [
  {
   "cell_type": "markdown",
   "metadata": {
    "pycharm": {
     "name": "#%% md\n"
    }
   },
   "source": [
    "The goal of this code is to adapt grades.csv and master_annotations.pkl in such a way that they can also yield information about the teams in general. Many tweets do not specifically pertain to an individual player, and will otherwise not be taken into account. \n",
    "The code 5_3_assign_scores has already been written to iterate over the set of players per hashtag, and it is easier to create a new 'player' for each team, rather than adjusting the (slightly complex) code for 5_3_...\n",
    "\n",
    "Therefore, this file will add the match as a player to each of their appearances in grades.csv, as well as assign each of the tweets that mentions no player to these new rows. The match IDs will look like this: match_ajapsv, to eliminate any possible confusion with player IDs."
   ]
  },
  {
   "cell_type": "markdown",
   "metadata": {
    "pycharm": {
     "name": "#%% md\n"
    }
   },
   "source": [
    "# Add teams as players to grades.csv"
   ]
  },
  {
   "cell_type": "code",
   "execution_count": 1,
   "metadata": {
    "pycharm": {
     "name": "#%%\n"
    }
   },
   "outputs": [],
   "source": [
    "import eredivisie_nlp as enlp\n",
    "import numpy as np\n",
    "import pandas as pd"
   ]
  },
  {
   "cell_type": "code",
   "execution_count": 22,
   "outputs": [],
   "source": [
    "# load grades data\n",
    "grades = pd.read_csv(enlp.determine_root() + \"/data/grades.csv\", index_col=[0])\n",
    "grades.FM = grades.FM - 1\n",
    "grades = grades[np.isnan(grades.AD) == False]\n",
    "grades = grades[np.isnan(grades.VI) == False]\n",
    "grades = grades[np.isnan(grades.FM) == False]\n",
    "grades = grades[['datetime', 'player_id', 'AD', 'VI', 'FM', 'hashtag', 'home', 'away', 'squad_abbr']]"
   ],
   "metadata": {
    "collapsed": false,
    "pycharm": {
     "name": "#%%\n"
    }
   }
  },
  {
   "cell_type": "code",
   "execution_count": 24,
   "outputs": [],
   "source": [
    "abbr = abbreviations = {'AFC Ajax': 'aja', 'AZ Alkmaar': 'az', 'FC Groningen': 'gro', 'FC Twente': 'twe', 'FC Utrecht': 'utr', 'Feyenoord': 'fey', 'Fortuna Sittard': 'for', 'Go Ahead Eagles': 'gae', 'Heracles Almelo': 'her', 'NEC Nijmegen': 'nec', 'PEC Zwolle': 'pec', 'PSV': 'psv', 'RKC Waalwijk': 'rkc', 'SC Cambuur': 'cam', 'Sparta Rotterdam': 'spa', 'Vitesse': 'vit', 'Willem II': 'wil', 'sc Heerenveen': 'hee'}\n",
    "abbr_flipped = dict((v, k) for k, v in abbr.items())"
   ],
   "metadata": {
    "collapsed": false,
    "pycharm": {
     "name": "#%%\n"
    }
   }
  },
  {
   "cell_type": "code",
   "execution_count": 10,
   "metadata": {
    "pycharm": {
     "name": "#%%\n"
    }
   },
   "outputs": [],
   "source": [
    "# create lists of team data\n",
    "datetimes = []\n",
    "players = []\n",
    "algdag = []\n",
    "vtbint = []\n",
    "fotmob = []\n",
    "hashtags = []\n",
    "home = []\n",
    "away = []\n",
    "squad_abbr = []\n",
    "\n",
    "tags = list(set([ht if '#' in ht else \"#\" + ht for ht in grades.hashtag]))\n",
    "for hashtag in tags:\n",
    "    datetimes.append(grades.datetime[grades.hashtag == hashtag].reset_index(drop=True)[0])\n",
    "    players.append(f\"match_{hashtag[1:]}\")\n",
    "    algdag.append(sum(grades.AD[grades.hashtag == hashtag]) / len(grades.AD[grades.hashtag == hashtag]))\n",
    "    vtbint.append(sum(grades.VI[grades.hashtag == hashtag]) / len(grades.VI[grades.hashtag == hashtag]))\n",
    "    fotmob.append(sum(grades.FM[grades.hashtag == hashtag]) / len(grades.FM[grades.hashtag == hashtag]))\n",
    "    hashtags.append(hashtag)\n",
    "    home.append(grades.home[grades.hashtag == hashtag].reset_index(drop=True)[0])\n",
    "    away.append(grades.away[grades.hashtag == hashtag].reset_index(drop=True)[0])\n",
    "    squad_abbr.append([grades.home[grades.hashtag == hashtag].reset_index(drop=True)[0], grades.away[grades.hashtag == hashtag].reset_index(drop=True)[0]])\n",
    "\n",
    "# create dataframe of lists with same columns as grades.csv\n",
    "additional_rows = pd.DataFrame({'datetime': datetimes, 'player_id': players, 'AD': algdag, 'VI': vtbint, 'FM': fotmob, 'hashtag': hashtags, 'home': home, 'away': away, 'squad_abbr': squad_abbr})\n",
    "\n",
    "# append dataframe to original grades data\n",
    "grades_new = pd.concat([grades, additional_rows]).reset_index(drop=True)"
   ]
  },
  {
   "cell_type": "code",
   "execution_count": null,
   "outputs": [],
   "source": [
    "# save as grades_with_teams.csv\n",
    "grades_new.to_csv(enlp.determine_root() + \"/data/grades_with_teams.csv\")"
   ],
   "metadata": {
    "collapsed": false,
    "pycharm": {
     "name": "#%%\n"
    }
   }
  },
  {
   "cell_type": "markdown",
   "metadata": {
    "pycharm": {
     "name": "#%% md\n"
    }
   },
   "source": [
    "#  Add teams to twitter data (master_annotations.pkl)"
   ]
  },
  {
   "cell_type": "code",
   "execution_count": 3,
   "metadata": {
    "pycharm": {
     "name": "#%%\n"
    }
   },
   "outputs": [],
   "source": [
    "twitter = pd.read_pickle(enlp.determine_root() + \"/data/master_annotations.pkl\")\n",
    "# add players column to twitter dataframe containing all player mentions\n",
    "players = []\n",
    "for text in twitter.text:\n",
    "    tokenized = text.split()\n",
    "    token_players = []\n",
    "    for token in tokenized:\n",
    "        if \"_\" in token and \":\" not in token:\n",
    "            # resolve small preprocessing bug with if statement\n",
    "            if token[-1] in [\".\", \"!\", \"?\", \",\"]:\n",
    "                token_players.append(token[:-1])\n",
    "            else:\n",
    "                token_players.append(token)\n",
    "    players.append(token_players)\n",
    "twitter['players'] = players"
   ]
  },
  {
   "cell_type": "code",
   "execution_count": 4,
   "metadata": {
    "pycharm": {
     "name": "#%%\n"
    }
   },
   "outputs": [],
   "source": [
    "new_players = []\n",
    "for _, row in twitter.iterrows():\n",
    "    if len(row.players) == 0:\n",
    "        new_players.append([f\"match_{row.hashtag[1:]}\"])\n",
    "    else:\n",
    "        new_players.append(row.players)"
   ]
  },
  {
   "cell_type": "code",
   "execution_count": 14,
   "metadata": {
    "pycharm": {
     "name": "#%%\n"
    }
   },
   "outputs": [],
   "source": [
    "twitter['players'] = new_players\n",
    "twitter.to_pickle(enlp.determine_root() + \"/data/master_annotations_with_teams.pkl\")"
   ]
  }
 ],
 "metadata": {
  "kernelspec": {
   "display_name": "Python 3.9.7 ('mmfootball')",
   "language": "python",
   "name": "python3"
  },
  "language_info": {
   "codemirror_mode": {
    "name": "ipython",
    "version": 3
   },
   "file_extension": ".py",
   "mimetype": "text/x-python",
   "name": "python",
   "nbconvert_exporter": "python",
   "pygments_lexer": "ipython3",
   "version": "3.9.7"
  },
  "orig_nbformat": 4,
  "vscode": {
   "interpreter": {
    "hash": "73e7760d942df26125c448c4c146a78c518a54daecaaedb7a06c21e09104f81c"
   }
  }
 },
 "nbformat": 4,
 "nbformat_minor": 2
}