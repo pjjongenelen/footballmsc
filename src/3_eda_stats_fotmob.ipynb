{
 "cells": [
  {
   "cell_type": "code",
   "execution_count": 3,
   "metadata": {
    "collapsed": true,
    "pycharm": {
     "name": "#%%\n"
    }
   },
   "outputs": [],
   "source": [
    "import eredivisie_nlp as enlp\n",
    "import os\n",
    "import pandas as pd"
   ]
  },
  {
   "cell_type": "code",
   "execution_count": 13,
   "outputs": [],
   "source": [
    "# load data\n",
    "df = pd.read_pickle(f\"{enlp.determine_root()}/data/raw/grades/fotmob.pkl\")"
   ],
   "metadata": {
    "collapsed": false,
    "pycharm": {
     "name": "#%%\n"
    }
   }
  },
  {
   "cell_type": "markdown",
   "source": [
    "## Player stats"
   ],
   "metadata": {
    "collapsed": false,
    "pycharm": {
     "name": "#%% md\n"
    }
   }
  },
  {
   "cell_type": "code",
   "execution_count": 14,
   "outputs": [
    {
     "name": "stdout",
     "output_type": "stream",
     "text": [
      "44.69806202497617% of the dataframe is data.\n",
      "That means we have on average, 22.79598 fields per player.\n"
     ]
    }
   ],
   "source": [
    "# summary numbers on the player stats\n",
    "df_stats = df.drop(['hashtag', 'name', ' FotMob rating'], axis=1)\n",
    "\n",
    "perc_non_na = (1 - (df_stats.isna().sum().sum() / (df_stats.shape[0] * df_stats.shape[1]))) * 100\n",
    "print(f\"{perc_non_na}% of the dataframe is data.\")\n",
    "print(f\"That means we have on average, {len(df_stats.columns) * 0.44698} fields per player.\")\n",
    "del(df_stats)"
   ],
   "metadata": {
    "collapsed": false,
    "pycharm": {
     "name": "#%%\n"
    }
   }
  }
 ],
 "metadata": {
  "kernelspec": {
   "display_name": "Python 3",
   "language": "python",
   "name": "python3"
  },
  "language_info": {
   "codemirror_mode": {
    "name": "ipython",
    "version": 2
   },
   "file_extension": ".py",
   "mimetype": "text/x-python",
   "name": "python",
   "nbconvert_exporter": "python",
   "pygments_lexer": "ipython2",
   "version": "2.7.6"
  }
 },
 "nbformat": 4,
 "nbformat_minor": 0
}