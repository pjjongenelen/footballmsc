{
 "cells": [
  {
   "cell_type": "markdown",
   "metadata": {},
   "source": [
    "### Imports"
   ]
  },
  {
   "cell_type": "code",
   "execution_count": 51,
   "metadata": {},
   "outputs": [],
   "source": [
    "import pandas as pd\n",
    "from pandas_profiling import ProfileReport"
   ]
  },
  {
   "cell_type": "markdown",
   "metadata": {},
   "source": [
    "### Constants"
   ]
  },
  {
   "cell_type": "code",
   "execution_count": 46,
   "metadata": {},
   "outputs": [],
   "source": [
    "ROOT = \"C:/Users/timjo/python_projects/footballmsc\""
   ]
  },
  {
   "cell_type": "code",
   "execution_count": 47,
   "metadata": {},
   "outputs": [],
   "source": [
    "tweets = pd.read_pickle(f\"{ROOT}/data/tweets.pkl\")"
   ]
  },
  {
   "cell_type": "markdown",
   "metadata": {},
   "source": [
    "### Some further preprocessing resulting from data exploration"
   ]
  },
  {
   "cell_type": "markdown",
   "metadata": {},
   "source": [
    "The users column contains a dictionary with 23 fields for each user. It's probably better to just expand this column into 23 ones with the prefix 'user_'"
   ]
  },
  {
   "cell_type": "code",
   "execution_count": 48,
   "metadata": {},
   "outputs": [],
   "source": [
    "exp_tweets = pd.concat([tweets, tweets.user.apply(pd.Series).add_prefix(\"user_\")], axis=1)\n",
    "exp_tweets = exp_tweets.drop(columns = 'user')"
   ]
  },
  {
   "cell_type": "markdown",
   "metadata": {},
   "source": [
    "Let's see if there are any columns that we can drop"
   ]
  },
  {
   "cell_type": "code",
   "execution_count": 49,
   "metadata": {},
   "outputs": [
    {
     "data": {
      "text/plain": [
       "Index(['_type', 'url', 'date', 'content', 'renderedContent', 'id',\n",
       "       'replyCount', 'retweetCount', 'likeCount', 'quoteCount',\n",
       "       'conversationId', 'lang', 'source', 'sourceUrl', 'sourceLabel',\n",
       "       'outlinks', 'tcooutlinks', 'media', 'retweetedTweet', 'quotedTweet',\n",
       "       'inReplyToTweetId', 'inReplyToUser', 'mentionedUsers', 'coordinates',\n",
       "       'place', 'hashtags', 'cashtags', 'hashtag', 'user__type',\n",
       "       'user_username', 'user_id', 'user_displayname', 'user_description',\n",
       "       'user_rawDescription', 'user_descriptionUrls', 'user_verified',\n",
       "       'user_created', 'user_followersCount', 'user_friendsCount',\n",
       "       'user_statusesCount', 'user_favouritesCount', 'user_listedCount',\n",
       "       'user_mediaCount', 'user_location', 'user_protected', 'user_linkUrl',\n",
       "       'user_linkTcourl', 'user_profileImageUrl', 'user_profileBannerUrl',\n",
       "       'user_label', 'user_url'],\n",
       "      dtype='object')"
      ]
     },
     "execution_count": 49,
     "metadata": {},
     "output_type": "execute_result"
    }
   ],
   "source": [
    "exp_tweets.columns"
   ]
  },
  {
   "cell_type": "code",
   "execution_count": 50,
   "metadata": {},
   "outputs": [
    {
     "name": "stdout",
     "output_type": "stream",
     "text": [
      "snscrape.modules.twitter.Tweet    211362\n",
      "Name: _type, dtype: int64\n",
      "snscrape.modules.twitter.User    211362\n",
      "Name: user__type, dtype: int64\n"
     ]
    }
   ],
   "source": [
    "# the type columns only contains single values for both the tweets and the users\n",
    "print(exp_tweets._type.value_counts())\n",
    "print(exp_tweets.user__type.value_counts())\n",
    "# so let's just drop them to save resources\n",
    "exp_tweets = exp_tweets.drop(columns = ['_type', 'user__type'])"
   ]
  },
  {
   "cell_type": "markdown",
   "metadata": {},
   "source": [
    "Now it's time for a pandas profiling report - only run when necessary (takes 15 mins)"
   ]
  },
  {
   "cell_type": "code",
   "execution_count": 53,
   "metadata": {},
   "outputs": [
    {
     "name": "stderr",
     "output_type": "stream",
     "text": [
      "Summarize dataset: 100%|██████████| 56/56 [13:54<00:00, 14.90s/it, Completed]                              \n",
      "Generate report structure: 100%|██████████| 1/1 [00:04<00:00,  4.11s/it]\n",
      "Render HTML: 100%|██████████| 1/1 [00:00<00:00,  1.17it/s]\n",
      "Export report to file: 100%|██████████| 1/1 [00:00<00:00, 167.06it/s]\n"
     ]
    }
   ],
   "source": [
    "# prof = ProfileReport(exp_tweets, minimal=True)\n",
    "# prof.to_file(output_file='profiling_report_raw.html')"
   ]
  }
 ],
 "metadata": {
  "interpreter": {
   "hash": "431f0c31d5291424e54056d2202ffa34a70a802a6c63efdeb2c873dde14dab2c"
  },
  "kernelspec": {
   "display_name": "Python 3.9.7 ('mmfootball')",
   "language": "python",
   "name": "python3"
  },
  "language_info": {
   "codemirror_mode": {
    "name": "ipython",
    "version": 3
   },
   "file_extension": ".py",
   "mimetype": "text/x-python",
   "name": "python",
   "nbconvert_exporter": "python",
   "pygments_lexer": "ipython3",
   "version": "3.8.12"
  },
  "orig_nbformat": 4
 },
 "nbformat": 4,
 "nbformat_minor": 2
}
