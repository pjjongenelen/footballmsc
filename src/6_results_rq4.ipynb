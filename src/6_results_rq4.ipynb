{
 "cells": [
  {
   "cell_type": "code",
   "execution_count": 41,
   "metadata": {
    "collapsed": false,
    "pycharm": {
     "name": "#%%\n"
    }
   },
   "outputs": [],
   "source": [
    "import eredivisie_nlp as enlp\n",
    "import matplotlib.pyplot as plt\n",
    "import numpy as np\n",
    "import pandas as pd\n",
    "import seaborn as sns\n",
    "from sklearn.linear_model import LinearRegression\n",
    "from sklearn.metrics import confusion_matrix, mean_absolute_error, accuracy_score\n",
    "from sklearn.model_selection import train_test_split\n",
    "from statsmodels.api import OLS"
   ]
  },
  {
   "cell_type": "code",
   "execution_count": 2,
   "metadata": {
    "collapsed": false,
    "pycharm": {
     "name": "#%%\n"
    }
   },
   "outputs": [],
   "source": [
    "df_total = pd.read_pickle(enlp.determine_root() + \"/data/grades+twitter.pkl\")\n",
    "# normalize the fotmob scores, to have the same average as AD and VI\n",
    "df_total.FM = df_total.FM - 1\n",
    "df_total.reset_index(inplace=True, drop=True)"
   ]
  },
  {
   "cell_type": "code",
   "execution_count": 3,
   "outputs": [],
   "source": [
    "df_players = df_total[df_total.player_id.str.contains(\"match_\") == False]\n",
    "players = pd.read_csv(enlp.determine_root() + \"/data/players.csv\", index_col=[0])\n",
    "df_players = df_players.merge(players[['position', 'player_id']], on='player_id')"
   ],
   "metadata": {
    "collapsed": false,
    "pycharm": {
     "name": "#%%\n"
    }
   }
  },
  {
   "cell_type": "markdown",
   "source": [
    "# Plot dataset size dependent on criterium of num_tweets"
   ],
   "metadata": {
    "collapsed": false,
    "pycharm": {
     "name": "#%% md\n"
    }
   }
  },
  {
   "cell_type": "code",
   "execution_count": 4,
   "outputs": [
    {
     "data": {
      "text/plain": "<Figure size 720x432 with 1 Axes>",
      "image/png": "[encoded data removed]"
     },
     "metadata": {},
     "output_type": "display_data"
    }
   ],
   "source": [
    "sizes = [df_players[df_players.num_tweets > x].shape[0] for x in range(0, 242)]\n",
    "fig = plt.figure(figsize=[10,6])\n",
    "plt.plot(sizes, color = '#fbb040', linewidth=3)\n",
    "plt.xlim([0, 250])\n",
    "plt.ylim(0, 3600)\n",
    "plt.xticks(size=12)\n",
    "plt.yticks(size=12)\n",
    "plt.xlabel('Minimum number of mentions required per match', size=14)\n",
    "plt.ylabel('Number of samples', size=14)\n",
    "plt.vlines(12, ymin=0, ymax=3600, color='#208b3a')\n",
    "plt.show()"
   ],
   "metadata": {
    "collapsed": false,
    "pycharm": {
     "name": "#%%\n"
    }
   }
  },
  {
   "cell_type": "code",
   "execution_count": 40,
   "outputs": [],
   "source": [
    "working_df = df_players[df_players.num_tweets > 12].reset_index(drop=True)"
   ],
   "metadata": {
    "collapsed": false,
    "pycharm": {
     "name": "#%%\n"
    }
   }
  },
  {
   "cell_type": "markdown",
   "source": [
    "# Plot heatmaps"
   ],
   "metadata": {
    "collapsed": false,
    "pycharm": {
     "name": "#%% md\n"
    }
   }
  },
  {
   "cell_type": "code",
   "execution_count": 47,
   "metadata": {
    "collapsed": false,
    "pycharm": {
     "name": "#%%\n"
    }
   },
   "outputs": [],
   "source": [
    "def get_heatmap(media_source, twitter_source, df, acc=False):\n",
    "    # get necessary data\n",
    "    media = np.zeros(df.shape[0])\n",
    "    if media_source == 'AD':\n",
    "        above = df[media_source] > 6.9\n",
    "        below = df[media_source] < 6\n",
    "    elif media_source == 'VI':\n",
    "        above = df[media_source] > 6.9\n",
    "        below = df[media_source] < 5.6\n",
    "    elif media_source == 'FM':\n",
    "        above = df[media_source] > 6.5\n",
    "        below = df[media_source] < 5.5\n",
    "\n",
    "    # set media grades\n",
    "    for x in range(len(media)):\n",
    "        if above[x]:\n",
    "            media[x] = 2\n",
    "        elif below[x]:\n",
    "            media[x] = 0\n",
    "        else:\n",
    "            media[x] = 1\n",
    "\n",
    "\n",
    "    twitter = np.zeros(df.shape[0])\n",
    "    column2 = f'score_{twitter_source.lower()}'\n",
    "    above = df[column2] > 0\n",
    "    below = df[column2] < 0\n",
    "\n",
    "    # set twitter grades\n",
    "    for x in range(len(twitter)):\n",
    "        if above[x]:\n",
    "            twitter[x] = 2\n",
    "        elif below[x]:\n",
    "            twitter[x] = 0\n",
    "        else:\n",
    "            twitter[x] = 1\n",
    "\n",
    "    if acc:\n",
    "        return accuracy_score(media, twitter)\n",
    "    else:\n",
    "        return confusion_matrix(media, twitter, labels=[0, 1, 2])"
   ]
  },
  {
   "cell_type": "code",
   "execution_count": 60,
   "outputs": [],
   "source": [
    "media = ['AD', 'AD', 'VI', 'VI', 'FM', 'FM']\n",
    "twitter = ['RobBERT', 'pattern', 'RobBERT', 'pattern', 'RobBERT', 'pattern']\n",
    "accs = [get_heatmap(m, t, df=working_df, acc=True) for m, t in zip(media, twitter)]\n",
    "robbert_acc = sum([accs[0], accs[2], accs[4]]) / 3\n",
    "pattern_acc = sum([accs[1], accs[3], accs[5]]) / 3"
   ],
   "metadata": {
    "collapsed": false,
    "pycharm": {
     "name": "#%%\n"
    }
   }
  },
  {
   "cell_type": "code",
   "execution_count": 62,
   "outputs": [
    {
     "data": {
      "text/plain": "(0.5150631681243926, 0.4164237123420797)"
     },
     "execution_count": 62,
     "metadata": {},
     "output_type": "execute_result"
    }
   ],
   "source": [
    "robbert_acc, pattern_acc"
   ],
   "metadata": {
    "collapsed": false,
    "pycharm": {
     "name": "#%%\n"
    }
   }
  },
  {
   "cell_type": "code",
   "execution_count": 44,
   "outputs": [
    {
     "data": {
      "text/plain": "<Figure size 720x1080 with 6 Axes>",
      "image/png": "[encoded data removed]"
     },
     "metadata": {},
     "output_type": "display_data"
    }
   ],
   "source": [
    "axis_labels = ['below', 'average', 'above']\n",
    "\n",
    "_, axs = plt.subplots(nrows = 3, ncols = 2, figsize=[10,15])\n",
    "cf = get_heatmap('AD', 'RobBERT', working_df)\n",
    "sns.heatmap(cf/np.sum(cf), annot=True, xticklabels=False, yticklabels=axis_labels, cmap=sns.color_palette(\"viridis\", as_cmap=True), cbar=False, ax=axs[0,0])\n",
    "cf = get_heatmap('AD', 'pattern', working_df)\n",
    "sns.heatmap(cf/np.sum(cf), annot=True, xticklabels=False, yticklabels=False, cmap=sns.color_palette(\"viridis\", as_cmap=True), cbar=False, ax=axs[0,1])\n",
    "cf = get_heatmap('VI', 'RobBERT', working_df)\n",
    "sns.heatmap(cf/np.sum(cf), annot=True, xticklabels=False, yticklabels=axis_labels, cmap=sns.color_palette(\"viridis\", as_cmap=True), cbar=False, ax=axs[1,0])\n",
    "cf = get_heatmap('VI', 'pattern', working_df)\n",
    "sns.heatmap(cf/np.sum(cf), annot=True, xticklabels=False, yticklabels=False, cmap=sns.color_palette(\"viridis\", as_cmap=True), cbar=False, ax=axs[1,1])\n",
    "cf = get_heatmap('FM', 'RobBERT', working_df)\n",
    "sns.heatmap(cf/np.sum(cf), annot=True, xticklabels=axis_labels, yticklabels=axis_labels, cmap=sns.color_palette(\"viridis\", as_cmap=True), cbar=False, ax=axs[2,0])\n",
    "cf = get_heatmap('FM', 'pattern', working_df)\n",
    "sns.heatmap(cf/np.sum(cf), annot=True, xticklabels=axis_labels, yticklabels=False, cmap=sns.color_palette(\"viridis\", as_cmap=True), cbar=False, ax=axs[2,1])\n",
    "\n",
    "axs[0,0].set_ylabel('AD', size=15)\n",
    "axs[1,0].set_ylabel('VI', size=15)\n",
    "axs[2,0].set_ylabel('FM', size=15)\n",
    "axs[2,0].set_xlabel('RobBERT', size=15)\n",
    "axs[2,1].set_xlabel('pattern', size=15)\n",
    "\n",
    "plt.subplots_adjust(wspace=0.02, hspace=0.02)\n",
    "\n",
    "plt.savefig(enlp.determine_root() + \"/res/figures/general_heatmaps_players.png\", dpi=600)\n",
    "\n",
    "plt.show()"
   ],
   "metadata": {
    "collapsed": false,
    "pycharm": {
     "name": "#%%\n"
    }
   }
  },
  {
   "cell_type": "markdown",
   "source": [
    "# Figure 2, predictive power of Twitter scores for Media grades"
   ],
   "metadata": {
    "collapsed": false,
    "pycharm": {
     "name": "#%% md\n"
    }
   }
  },
  {
   "cell_type": "code",
   "execution_count": 22,
   "outputs": [
    {
     "data": {
      "text/plain": "                     AD        VI        FM  score_pattern  score_robbert\nAD             1.000000  0.757034  0.672835       0.444205       0.539899\nVI             0.757034  1.000000  0.777701       0.411706       0.548634\nFM             0.672835  0.777701  1.000000       0.292728       0.401940\nscore_pattern  0.444205  0.411706  0.292728       1.000000       0.607614\nscore_robbert  0.539899  0.548634  0.401940       0.607614       1.000000",
      "text/html": "<div>\n<style scoped>\n    .dataframe tbody tr th:only-of-type {\n        vertical-align: middle;\n    }\n\n    .dataframe tbody tr th {\n        vertical-align: top;\n    }\n\n    .dataframe thead th {\n        text-align: right;\n    }\n</style>\n<table border=\"1\" class=\"dataframe\">\n  <thead>\n    <tr style=\"text-align: right;\">\n      <th></th>\n      <th>AD</th>\n      <th>VI</th>\n      <th>FM</th>\n      <th>score_pattern</th>\n      <th>score_robbert</th>\n    </tr>\n  </thead>\n  <tbody>\n    <tr>\n      <th>AD</th>\n      <td>1.000000</td>\n      <td>0.757034</td>\n      <td>0.672835</td>\n      <td>0.444205</td>\n      <td>0.539899</td>\n    </tr>\n    <tr>\n      <th>VI</th>\n      <td>0.757034</td>\n      <td>1.000000</td>\n      <td>0.777701</td>\n      <td>0.411706</td>\n      <td>0.548634</td>\n    </tr>\n    <tr>\n      <th>FM</th>\n      <td>0.672835</td>\n      <td>0.777701</td>\n      <td>1.000000</td>\n      <td>0.292728</td>\n      <td>0.401940</td>\n    </tr>\n    <tr>\n      <th>score_pattern</th>\n      <td>0.444205</td>\n      <td>0.411706</td>\n      <td>0.292728</td>\n      <td>1.000000</td>\n      <td>0.607614</td>\n    </tr>\n    <tr>\n      <th>score_robbert</th>\n      <td>0.539899</td>\n      <td>0.548634</td>\n      <td>0.401940</td>\n      <td>0.607614</td>\n      <td>1.000000</td>\n    </tr>\n  </tbody>\n</table>\n</div>"
     },
     "execution_count": 22,
     "metadata": {},
     "output_type": "execute_result"
    }
   ],
   "source": [
    "working_df[['AD', 'VI', 'FM', 'score_pattern', 'score_robbert']].corr()"
   ],
   "metadata": {
    "collapsed": false,
    "pycharm": {
     "name": "#%%\n"
    }
   }
  },
  {
   "cell_type": "code",
   "execution_count": 30,
   "outputs": [
    {
     "name": "stdout",
     "output_type": "stream",
     "text": [
      "Values for: AD\n",
      "                                 OLS Regression Results                                \n",
      "=======================================================================================\n",
      "Dep. Variable:                      y   R-squared (uncentered):                   0.003\n",
      "Model:                            OLS   Adj. R-squared (uncentered):              0.001\n",
      "Method:                 Least Squares   F-statistic:                              1.737\n",
      "Date:                Fri, 24 Jun 2022   Prob (F-statistic):                       0.188\n",
      "Time:                        17:30:24   Log-Likelihood:                         -1789.5\n",
      "No. Observations:                 548   AIC:                                      3581.\n",
      "Df Residuals:                     547   BIC:                                      3585.\n",
      "Df Model:                           1                                                  \n",
      "Covariance Type:            nonrobust                                                  \n",
      "==============================================================================\n",
      "                 coef    std err          t      P>|t|      [0.025      0.975]\n",
      "------------------------------------------------------------------------------\n",
      "x1             1.9636      1.490      1.318      0.188      -0.963       4.890\n",
      "==============================================================================\n",
      "Omnibus:                        7.841   Durbin-Watson:                   0.034\n",
      "Prob(Omnibus):                  0.020   Jarque-Bera (JB):                7.725\n",
      "Skew:                          -0.278   Prob(JB):                       0.0210\n",
      "Kurtosis:                       3.171   Cond. No.                         1.00\n",
      "==============================================================================\n",
      "\n",
      "Notes:\n",
      "[1] R² is computed without centering (uncentered) since the model does not contain a constant.\n",
      "[2] Standard Errors assume that the covariance matrix of the errors is correctly specified.\n",
      "Intercept: 6.29\n",
      "Coefficient: 2.83\n",
      "MAE: 0.6\n"
     ]
    }
   ],
   "source": [
    "def lin_reg(media, df):\n",
    "    print(f\"Values for: {media}\")\n",
    "    X = df.score_robbert.values.reshape(-1, 1)\n",
    "    y = df[media].values.reshape(-1, 1)\n",
    "\n",
    "    X_train, X_test, y_train, y_test = train_test_split(X, y, test_size=0.2, random_state=42)\n",
    "\n",
    "    regressor = LinearRegression()\n",
    "\n",
    "    regressor.fit(X_train, y_train)\n",
    "\n",
    "    print(OLS(y_train,X_train).fit().summary())\n",
    "\n",
    "    print(f\"Intercept: {round(regressor.intercept_[0], 2)}\")\n",
    "    print(f\"Coefficient: {round(regressor.coef_[0][0], 2)}\")\n",
    "\n",
    "    y_pred = regressor.predict(X_test)\n",
    "\n",
    "    print(f\"MAE: {round(mean_absolute_error(y_test, y_pred), 2)}\")\n",
    "\n",
    "lin_reg('AD', working_df[np.isnan(working_df.score_robbert) == False])"
   ],
   "metadata": {
    "collapsed": false,
    "pycharm": {
     "name": "#%%\n"
    }
   }
  },
  {
   "cell_type": "markdown",
   "source": [
    "# Additional analyses for different sections"
   ],
   "metadata": {
    "collapsed": false,
    "pycharm": {
     "name": "#%% md\n"
    }
   }
  },
  {
   "cell_type": "code",
   "execution_count": 10,
   "outputs": [
    {
     "name": "stdout",
     "output_type": "stream",
     "text": [
      "No data for 830 out of 4351 player appearances.\n"
     ]
    }
   ],
   "source": [
    "# section 4.1\n",
    "no_data = df_players.num_tweets[df_players.num_tweets == 0].shape[0]\n",
    "print(f\"No data for {no_data} out of {df_players.shape[0]} player appearances.\")"
   ],
   "metadata": {
    "collapsed": false,
    "pycharm": {
     "name": "#%%\n"
    }
   }
  },
  {
   "cell_type": "code",
   "execution_count": 11,
   "outputs": [
    {
     "data": {
      "text/plain": "<Figure size 432x288 with 1 Axes>",
      "image/png": "[encoded data removed]"
     },
     "metadata": {},
     "output_type": "display_data"
    }
   ],
   "source": [
    "# section 4.1\n",
    "plt.hist(df_players.num_tweets, color='#fbb040')\n",
    "plt.yscale('log')\n",
    "plt.xlabel('Number of mentions', size=12)\n",
    "plt.ylabel('Player appearances', size=12)\n",
    "plt.savefig(enlp.determine_root() + \"/res/figures/num_tweets.png\", dpi=600)\n",
    "plt.xlim([0, 250])\n",
    "plt.show()"
   ],
   "metadata": {
    "collapsed": false,
    "pycharm": {
     "name": "#%%\n"
    }
   }
  },
  {
   "cell_type": "code",
   "execution_count": 12,
   "outputs": [],
   "source": [
    "roles_recode = {\n",
    "    'Centre-Back': 'back',\n",
    "    'Centre-Forward': 'forward',\n",
    "    'Right-Back': 'back',\n",
    "    'Attacking Midfield': 'midfield',\n",
    "    'Central Midfield': 'midfield',\n",
    "    'Defensive Midfield': 'midfield',\n",
    "    'Left-Back': 'back',\n",
    "    'Goalkeeper': 'goalkeeper',\n",
    "    'Right Winger': 'forward',\n",
    "    'Left Winger': 'forward',\n",
    "    'Right Midfield': 'midfield',\n",
    "    'Left Midfield': 'midfield'\n",
    "}\n",
    "df_players['position_std'] = df_players.position.map(roles_recode)\n",
    "goalies = df_players[df_players.position_std == 'goalkeeper'].num_tweets\n",
    "back = df_players[df_players.position_std == 'back'].num_tweets\n",
    "midfield = df_players[df_players.position_std == 'midfield'].num_tweets\n",
    "forward = df_players[df_players.position_std == 'forward'].num_tweets"
   ],
   "metadata": {
    "collapsed": false,
    "pycharm": {
     "name": "#%%\n"
    }
   }
  },
  {
   "cell_type": "code",
   "execution_count": 13,
   "outputs": [
    {
     "name": "stdout",
     "output_type": "stream",
     "text": [
      "11.554878048780488\n",
      "4.329946204423192\n",
      "6.876377952755906\n",
      "11.262037037037038\n"
     ]
    }
   ],
   "source": [
    "print(sum(goalies) / len(goalies))\n",
    "print(sum(back) / len(back))\n",
    "print(sum(midfield) / len(midfield))\n",
    "print(sum(forward) / len(forward))"
   ],
   "metadata": {
    "collapsed": false,
    "pycharm": {
     "name": "#%%\n"
    }
   }
  }
 ],
 "metadata": {
  "kernelspec": {
   "display_name": "Python 3.9.7 ('mmfootball')",
   "language": "python",
   "name": "python3"
  },
  "language_info": {
   "codemirror_mode": {
    "name": "ipython",
    "version": 3
   },
   "file_extension": ".py",
   "mimetype": "text/x-python",
   "name": "python",
   "nbconvert_exporter": "python",
   "pygments_lexer": "ipython3",
   "version": "3.9.7"
  },
  "vscode": {
   "interpreter": {
    "hash": "73e7760d942df26125c448c4c146a78c518a54daecaaedb7a06c21e09104f81c"
   }
  }
 },
 "nbformat": 4,
 "nbformat_minor": 0
}