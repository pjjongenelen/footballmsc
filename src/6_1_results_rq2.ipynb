{
 "cells": [
  {
   "cell_type": "code",
   "execution_count": 21,
   "metadata": {
    "collapsed": true,
    "pycharm": {
     "name": "#%%\n"
    }
   },
   "outputs": [],
   "source": [
    "import eredivisie_nlp as enlp\n",
    "import numpy as np\n",
    "import pandas as pd\n",
    "from pattern.nl import sentiment\n",
    "from random import randrange\n",
    "from sklearn.metrics import mean_absolute_error, cohen_kappa_score\n",
    "from tqdm import tqdm\n",
    "from transformers import RobertaTokenizer, RobertaForSequenceClassification"
   ]
  },
  {
   "cell_type": "markdown",
   "source": [
    "# Pattern"
   ],
   "metadata": {
    "collapsed": false,
    "pycharm": {
     "name": "#%% md\n"
    }
   }
  },
  {
   "cell_type": "code",
   "execution_count": 22,
   "outputs": [],
   "source": [
    "test = pd.read_csv(enlp.determine_root() + \"/data/test_set.csv\", index_col=[0])"
   ],
   "metadata": {
    "collapsed": false,
    "pycharm": {
     "name": "#%%\n"
    }
   }
  },
  {
   "cell_type": "markdown",
   "source": [
    "Pattern <> manual annotations"
   ],
   "metadata": {
    "collapsed": false,
    "pycharm": {
     "name": "#%% md\n"
    }
   }
  },
  {
   "cell_type": "code",
   "execution_count": 23,
   "outputs": [
    {
     "data": {
      "text/plain": "                                                 text  hashtag  annotation  \\\n0   ajaaz benieuwd of ten hag nu een laat zien dat...   #ajaaz        -0.3   \n1                               ik ben er klaar voor.  #pecspa         0.3   \n2   ten hag zwaar teleurgesteld in zijn spelers, m...   #ajaaz        -0.6   \n3   typisch dat ajax deze dan weer laat liggen nat...   #ajaaz        -0.3   \n4   genoeg kansen gecreëerd hoor vandaag. maar wat...  #feyrkc        -0.3   \n..                                                ...      ...         ...   \n95                                 ook weer geregeld.   #ajaaz         0.3   \n96  antony_aja is 21 en ziyech was al 24/25 die wa...   #ajaaz         0.0   \n97  veronicainside espn ajautr maher_utr beging ee...  #ajautr        -0.3   \n98  69. kramer, elbouchataoui_rkc en bakari eraf, ...  #feyrkc         0.0   \n99  ajax was niet goed, maar 1-2 geeft totaal niet...   #ajaaz        -0.3   \n\n    annotation_std  sent_pattern  \n0                2     -0.175000  \n1                4      0.366667  \n2                1      0.138333  \n3                2     -0.008333  \n4                2      0.000000  \n..             ...           ...  \n95               4      0.150000  \n96               3      0.000000  \n97               2      0.050000  \n98               3      0.000000  \n99               2     -0.087500  \n\n[100 rows x 5 columns]",
      "text/html": "<div>\n<style scoped>\n    .dataframe tbody tr th:only-of-type {\n        vertical-align: middle;\n    }\n\n    .dataframe tbody tr th {\n        vertical-align: top;\n    }\n\n    .dataframe thead th {\n        text-align: right;\n    }\n</style>\n<table border=\"1\" class=\"dataframe\">\n  <thead>\n    <tr style=\"text-align: right;\">\n      <th></th>\n      <th>text</th>\n      <th>hashtag</th>\n      <th>annotation</th>\n      <th>annotation_std</th>\n      <th>sent_pattern</th>\n    </tr>\n  </thead>\n  <tbody>\n    <tr>\n      <th>0</th>\n      <td>ajaaz benieuwd of ten hag nu een laat zien dat...</td>\n      <td>#ajaaz</td>\n      <td>-0.3</td>\n      <td>2</td>\n      <td>-0.175000</td>\n    </tr>\n    <tr>\n      <th>1</th>\n      <td>ik ben er klaar voor.</td>\n      <td>#pecspa</td>\n      <td>0.3</td>\n      <td>4</td>\n      <td>0.366667</td>\n    </tr>\n    <tr>\n      <th>2</th>\n      <td>ten hag zwaar teleurgesteld in zijn spelers, m...</td>\n      <td>#ajaaz</td>\n      <td>-0.6</td>\n      <td>1</td>\n      <td>0.138333</td>\n    </tr>\n    <tr>\n      <th>3</th>\n      <td>typisch dat ajax deze dan weer laat liggen nat...</td>\n      <td>#ajaaz</td>\n      <td>-0.3</td>\n      <td>2</td>\n      <td>-0.008333</td>\n    </tr>\n    <tr>\n      <th>4</th>\n      <td>genoeg kansen gecreëerd hoor vandaag. maar wat...</td>\n      <td>#feyrkc</td>\n      <td>-0.3</td>\n      <td>2</td>\n      <td>0.000000</td>\n    </tr>\n    <tr>\n      <th>...</th>\n      <td>...</td>\n      <td>...</td>\n      <td>...</td>\n      <td>...</td>\n      <td>...</td>\n    </tr>\n    <tr>\n      <th>95</th>\n      <td>ook weer geregeld.</td>\n      <td>#ajaaz</td>\n      <td>0.3</td>\n      <td>4</td>\n      <td>0.150000</td>\n    </tr>\n    <tr>\n      <th>96</th>\n      <td>antony_aja is 21 en ziyech was al 24/25 die wa...</td>\n      <td>#ajaaz</td>\n      <td>0.0</td>\n      <td>3</td>\n      <td>0.000000</td>\n    </tr>\n    <tr>\n      <th>97</th>\n      <td>veronicainside espn ajautr maher_utr beging ee...</td>\n      <td>#ajautr</td>\n      <td>-0.3</td>\n      <td>2</td>\n      <td>0.050000</td>\n    </tr>\n    <tr>\n      <th>98</th>\n      <td>69. kramer, elbouchataoui_rkc en bakari eraf, ...</td>\n      <td>#feyrkc</td>\n      <td>0.0</td>\n      <td>3</td>\n      <td>0.000000</td>\n    </tr>\n    <tr>\n      <th>99</th>\n      <td>ajax was niet goed, maar 1-2 geeft totaal niet...</td>\n      <td>#ajaaz</td>\n      <td>-0.3</td>\n      <td>2</td>\n      <td>-0.087500</td>\n    </tr>\n  </tbody>\n</table>\n<p>100 rows × 5 columns</p>\n</div>"
     },
     "execution_count": 23,
     "metadata": {},
     "output_type": "execute_result"
    }
   ],
   "source": [
    "test['sent_pattern'] = [sentiment(text)[0] for text in test.text]\n",
    "test"
   ],
   "metadata": {
    "collapsed": false,
    "pycharm": {
     "name": "#%%\n"
    }
   }
  },
  {
   "cell_type": "code",
   "execution_count": 24,
   "outputs": [
    {
     "data": {
      "text/plain": "0.3869361111111111"
     },
     "execution_count": 24,
     "metadata": {},
     "output_type": "execute_result"
    }
   ],
   "source": [
    "mean_absolute_error(test.annotation, test.sent_pattern)"
   ],
   "metadata": {
    "collapsed": false,
    "pycharm": {
     "name": "#%%\n"
    }
   }
  },
  {
   "cell_type": "markdown",
   "source": [
    "Let's compare this with a naive approach"
   ],
   "metadata": {
    "collapsed": false,
    "pycharm": {
     "name": "#%% md\n"
    }
   }
  },
  {
   "cell_type": "code",
   "execution_count": 25,
   "outputs": [],
   "source": [
    "test['naive_6d'] = [randrange(1000000)/1000000 for p in range(test.shape[0])]  # pattern gives 6 decimals\n",
    "test['naive_1d'] = [randrange(21) / 10 - 1 for x in range(test.shape[0])]  # standard SA is 1 decimal"
   ],
   "metadata": {
    "collapsed": false,
    "pycharm": {
     "name": "#%%\n"
    }
   }
  },
  {
   "cell_type": "code",
   "execution_count": 26,
   "outputs": [
    {
     "data": {
      "text/plain": "0.66276762"
     },
     "execution_count": 26,
     "metadata": {},
     "output_type": "execute_result"
    }
   ],
   "source": [
    "mean_absolute_error(test.annotation, test.naive_6d)"
   ],
   "metadata": {
    "collapsed": false,
    "pycharm": {
     "name": "#%%\n"
    }
   }
  },
  {
   "cell_type": "code",
   "execution_count": 27,
   "outputs": [
    {
     "data": {
      "text/plain": "0.677"
     },
     "execution_count": 27,
     "metadata": {},
     "output_type": "execute_result"
    }
   ],
   "source": [
    "mean_absolute_error(test.annotation, test.naive_1d)"
   ],
   "metadata": {
    "collapsed": false,
    "pycharm": {
     "name": "#%%\n"
    }
   }
  },
  {
   "cell_type": "markdown",
   "source": [
    "The number of digits does not have an influence on the performance of a naive classifier\n",
    "Errors of 0.3 vs 0.6 are less bad than -0.3 vs 0.3. Let's see how often pattern gets the polarity wrong."
   ],
   "metadata": {
    "collapsed": false,
    "pycharm": {
     "name": "#%% md\n"
    }
   }
  },
  {
   "cell_type": "code",
   "execution_count": 28,
   "outputs": [
    {
     "data": {
      "text/plain": "0.51"
     },
     "execution_count": 28,
     "metadata": {},
     "output_type": "execute_result"
    }
   ],
   "source": [
    "# percentage agreement manual <> pattern\n",
    "agreement = [1 if enlp.is_positive(p) == enlp.is_positive(m) else 0 for p, m in zip(test.sent_pattern, test.annotation)]\n",
    "sum(agreement) / test.shape[0]"
   ],
   "metadata": {
    "collapsed": false,
    "pycharm": {
     "name": "#%%\n"
    }
   }
  },
  {
   "cell_type": "code",
   "execution_count": 29,
   "outputs": [
    {
     "data": {
      "text/plain": "0.2665768597515342"
     },
     "execution_count": 29,
     "metadata": {},
     "output_type": "execute_result"
    }
   ],
   "source": [
    "# cohens kappa manual <> pattern\n",
    "pd.Series([enlp.is_positive(m) for m in test.annotation]).value_counts()\n",
    "cohen_kappa_score([enlp.is_positive(a) for a in test.annotation], [enlp.is_positive(p) for p in test.sent_pattern])"
   ],
   "metadata": {
    "collapsed": false,
    "pycharm": {
     "name": "#%%\n"
    }
   }
  },
  {
   "cell_type": "markdown",
   "source": [
    "Now when transforming pattern.nl annotations to the same format as the manual ones."
   ],
   "metadata": {
    "collapsed": false,
    "pycharm": {
     "name": "#%% md\n"
    }
   }
  },
  {
   "cell_type": "code",
   "execution_count": 30,
   "outputs": [],
   "source": [
    "test['pattern_round'] = [enlp.round_score(p) for p in test.sent_pattern]"
   ],
   "metadata": {
    "collapsed": false,
    "pycharm": {
     "name": "#%%\n"
    }
   }
  },
  {
   "cell_type": "code",
   "execution_count": 31,
   "outputs": [
    {
     "data": {
      "text/plain": "0.36899999999999994"
     },
     "execution_count": 31,
     "metadata": {},
     "output_type": "execute_result"
    }
   ],
   "source": [
    "mean_absolute_error(test.annotation, test.pattern_round)"
   ],
   "metadata": {
    "collapsed": false,
    "pycharm": {
     "name": "#%%\n"
    }
   }
  },
  {
   "cell_type": "code",
   "execution_count": 32,
   "outputs": [
    {
     "data": {
      "text/plain": "0.69"
     },
     "execution_count": 32,
     "metadata": {},
     "output_type": "execute_result"
    }
   ],
   "source": [
    "test['annotation_pol'] = [enlp.is_positive(a) for a in test.annotation]\n",
    "test['pattern_pol'] = [enlp.is_positive(p) for p in test.sent_pattern]\n",
    "mean_absolute_error(test.annotation_pol, test.pattern_pol)"
   ],
   "metadata": {
    "collapsed": false,
    "pycharm": {
     "name": "#%%\n"
    }
   }
  },
  {
   "cell_type": "markdown",
   "source": [
    "# RobBERT"
   ],
   "metadata": {
    "collapsed": false,
    "pycharm": {
     "name": "#%% md\n"
    }
   }
  },
  {
   "cell_type": "code",
   "execution_count": 33,
   "outputs": [
    {
     "name": "stderr",
     "output_type": "stream",
     "text": [
      "Some weights of the model checkpoint at pdelobelle/robbert-v2-dutch-base were not used when initializing RobertaForSequenceClassification: ['lm_head.dense.bias', 'lm_head.layer_norm.bias', 'lm_head.decoder.weight', 'lm_head.dense.weight', 'lm_head.decoder.bias', 'lm_head.bias', 'lm_head.layer_norm.weight']\n",
      "- This IS expected if you are initializing RobertaForSequenceClassification from the checkpoint of a model trained on another task or with another architecture (e.g. initializing a BertForSequenceClassification model from a BertForPreTraining model).\n",
      "- This IS NOT expected if you are initializing RobertaForSequenceClassification from the checkpoint of a model that you expect to be exactly identical (initializing a BertForSequenceClassification model from a BertForSequenceClassification model).\n",
      "Some weights of RobertaForSequenceClassification were not initialized from the model checkpoint at pdelobelle/robbert-v2-dutch-base and are newly initialized: ['classifier.out_proj.bias', 'classifier.dense.weight', 'classifier.out_proj.weight', 'classifier.dense.bias']\n",
      "You should probably TRAIN this model on a down-stream task to be able to use it for predictions and inference.\n"
     ]
    }
   ],
   "source": [
    "# load models and tokenizer\n",
    "models = {\n",
    "    'oneshot': RobertaForSequenceClassification.from_pretrained(\"pdelobelle/robbert-v2-dutch-base\"),\n",
    "    '150': RobertaForSequenceClassification.from_pretrained(\"./robbert_150\"),\n",
    "    '300': RobertaForSequenceClassification.from_pretrained(\"./robbert_300\"),\n",
    "    '600': RobertaForSequenceClassification.from_pretrained(\"./robbert_600\")\n",
    "}\n",
    "tokenizer = RobertaTokenizer.from_pretrained(\"pdelobelle/robbert-v2-dutch-base\")"
   ],
   "metadata": {
    "collapsed": false,
    "pycharm": {
     "name": "#%%\n"
    }
   }
  },
  {
   "cell_type": "code",
   "execution_count": 37,
   "outputs": [
    {
     "name": "stderr",
     "output_type": "stream",
     "text": [
      "100%|██████████| 100/100 [00:03<00:00, 25.70it/s]\n"
     ]
    }
   ],
   "source": [
    "# SA process\n",
    "model_choice = '600'\n",
    "model = models[model_choice]\n",
    "\n",
    "encoded_tweets = [tokenizer(tweet, return_tensors='pt') for tweet in test.text]\n",
    "outputs = [model(**et)[0].detach().numpy() for et in tqdm(encoded_tweets)]\n",
    "sentiments = []\n",
    "for output in outputs:\n",
    "    robbert_score = np.where(output[0] == max(output[0]))[0].item()\n",
    "    sentiments.append(enlp.transform_score(robbert_score))\n",
    "test[f'robbert_{model_choice}'] = sentiments"
   ],
   "metadata": {
    "collapsed": false,
    "pycharm": {
     "name": "#%%\n"
    }
   }
  },
  {
   "cell_type": "code",
   "execution_count": 35,
   "outputs": [
    {
     "data": {
      "text/plain": "0.312"
     },
     "execution_count": 35,
     "metadata": {},
     "output_type": "execute_result"
    }
   ],
   "source": [
    "mean_absolute_error(test.annotation, test[model_choice])"
   ],
   "metadata": {
    "collapsed": false,
    "pycharm": {
     "name": "#%%\n"
    }
   }
  },
  {
   "cell_type": "code",
   "execution_count": 39,
   "outputs": [],
   "source": [
    "robbert_pol = []\n",
    "for rp in test['robbert_600']:\n",
    "    if rp > 0:\n",
    "        robbert_pol.append(1)\n",
    "    elif rp < 0:\n",
    "        robbert_pol.append(-1)\n",
    "    else:\n",
    "        robbert_pol.append(0)\n",
    "\n",
    "test['robbert_pol'] = robbert_pol"
   ],
   "metadata": {
    "collapsed": false,
    "pycharm": {
     "name": "#%%\n"
    }
   }
  },
  {
   "cell_type": "code",
   "execution_count": 45,
   "outputs": [
    {
     "data": {
      "text/plain": "51"
     },
     "execution_count": 45,
     "metadata": {},
     "output_type": "execute_result"
    }
   ],
   "source": [
    "pattern_agree = [1 if pp == ap else 0 for pp, ap in zip(test.pattern_pol, test.annotation_pol)]\n",
    "sum(pattern_agree)"
   ],
   "metadata": {
    "collapsed": false,
    "pycharm": {
     "name": "#%%\n"
    }
   }
  },
  {
   "cell_type": "code",
   "execution_count": 43,
   "outputs": [
    {
     "data": {
      "text/plain": "68"
     },
     "execution_count": 43,
     "metadata": {},
     "output_type": "execute_result"
    }
   ],
   "source": [
    "robbert_agree = [1 if rp == ap else 0 for rp, ap in zip(test.robbert_pol, test.annotation_pol)]\n",
    "sum(robbert_agree)"
   ],
   "metadata": {
    "collapsed": false,
    "pycharm": {
     "name": "#%%\n"
    }
   }
  }
 ],
 "metadata": {
  "kernelspec": {
   "display_name": "Python 3",
   "language": "python",
   "name": "python3"
  },
  "language_info": {
   "codemirror_mode": {
    "name": "ipython",
    "version": 2
   },
   "file_extension": ".py",
   "mimetype": "text/x-python",
   "name": "python",
   "nbconvert_exporter": "python",
   "pygments_lexer": "ipython2",
   "version": "2.7.6"
  }
 },
 "nbformat": 4,
 "nbformat_minor": 0
}