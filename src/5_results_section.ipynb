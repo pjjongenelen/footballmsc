{
 "cells": [
  {
   "cell_type": "code",
   "execution_count": 1,
   "metadata": {
    "collapsed": true,
    "pycharm": {
     "name": "#%%\n"
    }
   },
   "outputs": [],
   "source": [
    "import eredivisie_nlp as enlp\n",
    "import pandas as pd\n",
    "from pattern.nl import sentiment\n",
    "from random import randrange\n",
    "from sklearn.metrics import mean_absolute_error, cohen_kappa_score\n",
    "from sklearn.model_selection import train_test_split"
   ]
  },
  {
   "cell_type": "markdown",
   "source": [
    "# Pattern"
   ],
   "metadata": {
    "collapsed": false,
    "pycharm": {
     "name": "#%% md\n"
    }
   }
  },
  {
   "cell_type": "code",
   "execution_count": 2,
   "outputs": [],
   "source": [
    "df = pd.read_excel(enlp.determine_root() + \"/data/sentiment_annotations_manual_no_leakage.xlsx\")\n",
    "df = df[df.annotation != 100]\n",
    "train, test = train_test_split(df, test_size=100, random_state=237)"
   ],
   "metadata": {
    "collapsed": false,
    "pycharm": {
     "name": "#%%\n"
    }
   }
  },
  {
   "cell_type": "markdown",
   "source": [
    "Pattern <> manual annotations"
   ],
   "metadata": {
    "collapsed": false,
    "pycharm": {
     "name": "#%% md\n"
    }
   }
  },
  {
   "cell_type": "code",
   "execution_count": 3,
   "outputs": [
    {
     "data": {
      "text/plain": "                                                     text  hashtag  \\\n137     ajaaz benieuwd of ten hag nu een laat zien dat...   #ajaaz   \n101342                              ik ben er klaar voor.  #pecspa   \n76      ten hag zwaar teleurgesteld in zijn spelers, m...   #ajaaz   \n269     typisch dat ajax deze dan weer laat liggen nat...   #ajaaz   \n54512   genoeg kansen gecreëerd hoor vandaag. maar wat...  #feyrkc   \n...                                                   ...      ...   \n27                                     ook weer geregeld.   #ajaaz   \n71      antony_aja is 21 en ziyech was al 24/25 die wa...   #ajaaz   \n20369   veronicainside espn ajautr maher_utr beging ee...  #ajautr   \n54497   69. kramer, elbouchataoui_rkc en bakari eraf, ...  #feyrkc   \n290     ajax was niet goed, maar 1-2 geeft totaal niet...   #ajaaz   \n\n        annotation  annotation_std  sent_pattern  \n137           -0.3               2     -0.175000  \n101342         0.3               4      0.366667  \n76            -0.6               1      0.138333  \n269           -0.3               2     -0.008333  \n54512         -0.3               2      0.000000  \n...            ...             ...           ...  \n27             0.3               4      0.150000  \n71             0.0               3      0.000000  \n20369         -0.3               2      0.050000  \n54497          0.0               3      0.000000  \n290           -0.3               2     -0.087500  \n\n[100 rows x 5 columns]",
      "text/html": "<div>\n<style scoped>\n    .dataframe tbody tr th:only-of-type {\n        vertical-align: middle;\n    }\n\n    .dataframe tbody tr th {\n        vertical-align: top;\n    }\n\n    .dataframe thead th {\n        text-align: right;\n    }\n</style>\n<table border=\"1\" class=\"dataframe\">\n  <thead>\n    <tr style=\"text-align: right;\">\n      <th></th>\n      <th>text</th>\n      <th>hashtag</th>\n      <th>annotation</th>\n      <th>annotation_std</th>\n      <th>sent_pattern</th>\n    </tr>\n  </thead>\n  <tbody>\n    <tr>\n      <th>137</th>\n      <td>ajaaz benieuwd of ten hag nu een laat zien dat...</td>\n      <td>#ajaaz</td>\n      <td>-0.3</td>\n      <td>2</td>\n      <td>-0.175000</td>\n    </tr>\n    <tr>\n      <th>101342</th>\n      <td>ik ben er klaar voor.</td>\n      <td>#pecspa</td>\n      <td>0.3</td>\n      <td>4</td>\n      <td>0.366667</td>\n    </tr>\n    <tr>\n      <th>76</th>\n      <td>ten hag zwaar teleurgesteld in zijn spelers, m...</td>\n      <td>#ajaaz</td>\n      <td>-0.6</td>\n      <td>1</td>\n      <td>0.138333</td>\n    </tr>\n    <tr>\n      <th>269</th>\n      <td>typisch dat ajax deze dan weer laat liggen nat...</td>\n      <td>#ajaaz</td>\n      <td>-0.3</td>\n      <td>2</td>\n      <td>-0.008333</td>\n    </tr>\n    <tr>\n      <th>54512</th>\n      <td>genoeg kansen gecreëerd hoor vandaag. maar wat...</td>\n      <td>#feyrkc</td>\n      <td>-0.3</td>\n      <td>2</td>\n      <td>0.000000</td>\n    </tr>\n    <tr>\n      <th>...</th>\n      <td>...</td>\n      <td>...</td>\n      <td>...</td>\n      <td>...</td>\n      <td>...</td>\n    </tr>\n    <tr>\n      <th>27</th>\n      <td>ook weer geregeld.</td>\n      <td>#ajaaz</td>\n      <td>0.3</td>\n      <td>4</td>\n      <td>0.150000</td>\n    </tr>\n    <tr>\n      <th>71</th>\n      <td>antony_aja is 21 en ziyech was al 24/25 die wa...</td>\n      <td>#ajaaz</td>\n      <td>0.0</td>\n      <td>3</td>\n      <td>0.000000</td>\n    </tr>\n    <tr>\n      <th>20369</th>\n      <td>veronicainside espn ajautr maher_utr beging ee...</td>\n      <td>#ajautr</td>\n      <td>-0.3</td>\n      <td>2</td>\n      <td>0.050000</td>\n    </tr>\n    <tr>\n      <th>54497</th>\n      <td>69. kramer, elbouchataoui_rkc en bakari eraf, ...</td>\n      <td>#feyrkc</td>\n      <td>0.0</td>\n      <td>3</td>\n      <td>0.000000</td>\n    </tr>\n    <tr>\n      <th>290</th>\n      <td>ajax was niet goed, maar 1-2 geeft totaal niet...</td>\n      <td>#ajaaz</td>\n      <td>-0.3</td>\n      <td>2</td>\n      <td>-0.087500</td>\n    </tr>\n  </tbody>\n</table>\n<p>100 rows × 5 columns</p>\n</div>"
     },
     "execution_count": 3,
     "metadata": {},
     "output_type": "execute_result"
    }
   ],
   "source": [
    "test['sent_pattern'] = [sentiment(text)[0] for text in test.text]\n",
    "test"
   ],
   "metadata": {
    "collapsed": false,
    "pycharm": {
     "name": "#%%\n"
    }
   }
  },
  {
   "cell_type": "code",
   "execution_count": 4,
   "outputs": [
    {
     "data": {
      "text/plain": "0.3869361111111111"
     },
     "execution_count": 4,
     "metadata": {},
     "output_type": "execute_result"
    }
   ],
   "source": [
    "mean_absolute_error(test.annotation, test.sent_pattern)"
   ],
   "metadata": {
    "collapsed": false,
    "pycharm": {
     "name": "#%%\n"
    }
   }
  },
  {
   "cell_type": "markdown",
   "source": [
    "Let's compare this with a naive approach"
   ],
   "metadata": {
    "collapsed": false,
    "pycharm": {
     "name": "#%% md\n"
    }
   }
  },
  {
   "cell_type": "code",
   "execution_count": 5,
   "outputs": [],
   "source": [
    "test['naive_6d'] = [randrange(1000000)/1000000 for p in range(test.shape[0])]  # pattern gives 6 decimals\n",
    "test['naive_1d'] = [randrange(21) / 10 - 1 for x in range(test.shape[0])]  # standard SA is 1 decimal"
   ],
   "metadata": {
    "collapsed": false,
    "pycharm": {
     "name": "#%%\n"
    }
   }
  },
  {
   "cell_type": "code",
   "execution_count": 6,
   "outputs": [
    {
     "data": {
      "text/plain": "0.63826296"
     },
     "execution_count": 6,
     "metadata": {},
     "output_type": "execute_result"
    }
   ],
   "source": [
    "mean_absolute_error(test.annotation, test.naive_6d)"
   ],
   "metadata": {
    "collapsed": false,
    "pycharm": {
     "name": "#%%\n"
    }
   }
  },
  {
   "cell_type": "code",
   "execution_count": 7,
   "outputs": [
    {
     "data": {
      "text/plain": "0.564"
     },
     "execution_count": 7,
     "metadata": {},
     "output_type": "execute_result"
    }
   ],
   "source": [
    "mean_absolute_error(test.annotation, test.naive_1d)"
   ],
   "metadata": {
    "collapsed": false,
    "pycharm": {
     "name": "#%%\n"
    }
   }
  },
  {
   "cell_type": "markdown",
   "source": [
    "The number of digits does not have an influence on the performance of a naive classifier\n",
    "Errors of 0.3 vs 0.6 are less bad than -0.3 vs 0.3. Let's see how often pattern gets the polarity wrong."
   ],
   "metadata": {
    "collapsed": false,
    "pycharm": {
     "name": "#%% md\n"
    }
   }
  },
  {
   "cell_type": "code",
   "execution_count": 8,
   "outputs": [
    {
     "data": {
      "text/plain": "0.51"
     },
     "execution_count": 8,
     "metadata": {},
     "output_type": "execute_result"
    }
   ],
   "source": [
    "# percentage agreement manual <> pattern\n",
    "agreement = [1 if enlp.is_positive(p) == enlp.is_positive(m) else 0 for p, m in zip(test.sent_pattern, test.annotation)]\n",
    "sum(agreement) / test.shape[0]"
   ],
   "metadata": {
    "collapsed": false,
    "pycharm": {
     "name": "#%%\n"
    }
   }
  },
  {
   "cell_type": "code",
   "execution_count": 9,
   "outputs": [
    {
     "data": {
      "text/plain": "0.2665768597515342"
     },
     "execution_count": 9,
     "metadata": {},
     "output_type": "execute_result"
    }
   ],
   "source": [
    "# cohens kappa manual <> pattern\n",
    "pd.Series([enlp.is_positive(m) for m in test.annotation]).value_counts()\n",
    "cohen_kappa_score([enlp.is_positive(a) for a in test.annotation], [enlp.is_positive(p) for p in test.sent_pattern])"
   ],
   "metadata": {
    "collapsed": false,
    "pycharm": {
     "name": "#%%\n"
    }
   }
  },
  {
   "cell_type": "markdown",
   "source": [
    "Now when transforming pattern.nl annotations to the same format as the manual ones."
   ],
   "metadata": {
    "collapsed": false,
    "pycharm": {
     "name": "#%% md\n"
    }
   }
  },
  {
   "cell_type": "code",
   "execution_count": 17,
   "outputs": [],
   "source": [
    "test['pattern_round'] = [enlp.round_score(p) for p in test.sent_pattern]"
   ],
   "metadata": {
    "collapsed": false,
    "pycharm": {
     "name": "#%%\n"
    }
   }
  },
  {
   "cell_type": "code",
   "execution_count": 18,
   "outputs": [
    {
     "data": {
      "text/plain": "0.36899999999999994"
     },
     "execution_count": 18,
     "metadata": {},
     "output_type": "execute_result"
    }
   ],
   "source": [
    "mean_absolute_error(test.annotation, test.pattern_round)"
   ],
   "metadata": {
    "collapsed": false,
    "pycharm": {
     "name": "#%%\n"
    }
   }
  },
  {
   "cell_type": "code",
   "execution_count": 23,
   "outputs": [
    {
     "data": {
      "text/plain": "0.69"
     },
     "execution_count": 23,
     "metadata": {},
     "output_type": "execute_result"
    }
   ],
   "source": [
    "test['annotation_pol'] = [enlp.is_positive(a) for a in test.annotation]\n",
    "test['pattern_pol'] = [enlp.is_positive(p) for p in test.sent_pattern]\n",
    "mean_absolute_error(test.annotation_pol, test.pattern_pol)"
   ],
   "metadata": {
    "collapsed": false,
    "pycharm": {
     "name": "#%%\n"
    }
   }
  },
  {
   "cell_type": "markdown",
   "source": [
    "# RobBERT"
   ],
   "metadata": {
    "collapsed": false,
    "pycharm": {
     "name": "#%% md\n"
    }
   }
  }
 ],
 "metadata": {
  "kernelspec": {
   "display_name": "Python 3",
   "language": "python",
   "name": "python3"
  },
  "language_info": {
   "codemirror_mode": {
    "name": "ipython",
    "version": 2
   },
   "file_extension": ".py",
   "mimetype": "text/x-python",
   "name": "python",
   "nbconvert_exporter": "python",
   "pygments_lexer": "ipython2",
   "version": "2.7.6"
  }
 },
 "nbformat": 4,
 "nbformat_minor": 0
}