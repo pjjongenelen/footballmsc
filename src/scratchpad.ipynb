{
 "cells": [
  {
   "cell_type": "code",
   "execution_count": 64,
   "outputs": [],
   "source": [
    "import eredivisie_nlp as enlp\n",
    "import matplotlib.pyplot as plt\n",
    "import numpy as np\n",
    "import pandas as pd\n",
    "import seaborn as sns\n",
    "from sklearn.metrics import confusion_matrix"
   ],
   "metadata": {
    "collapsed": false,
    "pycharm": {
     "name": "#%%\n"
    }
   }
  },
  {
   "cell_type": "code",
   "execution_count": 58,
   "outputs": [],
   "source": [
    "df = pd.read_pickle(enlp.determine_root() + \"/data/grades+twitter.pkl\")\n",
    "# there's a handful of rows where we do not have all the data, let's drop these for now\n",
    "df = df[df['FM'].notna()]\n",
    "df = df[df['AD'].notna()]\n",
    "# normalize the fotmob scores, to have the same average as AD and VI\n",
    "df.FM = df.FM - 1\n",
    "df.reset_index(inplace=True)"
   ],
   "metadata": {
    "collapsed": false,
    "pycharm": {
     "name": "#%%\n"
    }
   }
  },
  {
   "cell_type": "code",
   "execution_count": 59,
   "outputs": [],
   "source": [
    "def make_confusion_matrix(column: str):\n",
    "    \"\"\"\n",
    "    DOCSTRING\n",
    "    :param column: AD / VI / FOTMOB\n",
    "    \"\"\"\n"
   ],
   "metadata": {
    "collapsed": false,
    "pycharm": {
     "name": "#%%\n"
    }
   }
  },
  {
   "cell_type": "code",
   "execution_count": 76,
   "outputs": [
    {
     "data": {
      "text/plain": "<Figure size 432x288 with 1 Axes>",
      "image/png": "[encoded data removed]"
     },
     "metadata": {
      "needs_background": "light"
     },
     "output_type": "display_data"
    }
   ],
   "source": [
    "# get necessary data\n",
    "media = np.zeros(df.shape[0])\n",
    "column = 'AD'\n",
    "above = df[column] > 6\n",
    "below = df[column] < 6\n",
    "# set media grades\n",
    "for x in range(len(media)):\n",
    "    if above[x]:\n",
    "        media[x] = 1\n",
    "    elif below[x]:\n",
    "        media[x] = -1\n",
    "    else:\n",
    "        pass  # average score\n",
    "\n",
    "\n",
    "twitter = np.zeros(df.shape[0])\n",
    "above = df['score_p_no_s'] > 0\n",
    "below = df['score_p_no_s'] < 0\n",
    "# set twitter grades\n",
    "for x in range(len(twitter)):\n",
    "    if above[x]:\n",
    "        twitter[x] = 1\n",
    "    elif below[x]:\n",
    "        twitter[x] = -1\n",
    "    else:\n",
    "        pass  # average score\n",
    "\n",
    "cf = confusion_matrix(media, twitter)\n",
    "sns.heatmap(cf/np.sum(cf), annot=True, cmap='Reds', cbar=False, xticklabels=['-avg', 'avg', '+avg'], yticklabels=['-avg', 'avg', '+avg'])\n",
    "plt.show()\n",
    "# x-axis is tweets (little negatives), y-axis is media outlet"
   ],
   "metadata": {
    "collapsed": false,
    "pycharm": {
     "name": "#%%\n"
    }
   }
  },
  {
   "cell_type": "code",
   "execution_count": 81,
   "outputs": [
    {
     "data": {
      "text/plain": "1658"
     },
     "execution_count": 81,
     "metadata": {},
     "output_type": "execute_result"
    }
   ],
   "source": [
    "sum(df.AD < 6)"
   ],
   "metadata": {
    "collapsed": false,
    "pycharm": {
     "name": "#%%\n"
    }
   }
  },
  {
   "cell_type": "code",
   "execution_count": 95,
   "outputs": [
    {
     "name": "stdout",
     "output_type": "stream",
     "text": [
      "Positive tweets: 1794\n",
      "Neutral tweets: 2066\n",
      "Negative tweets: 502\n"
     ]
    }
   ],
   "source": [
    "print(f\"Positive tweets: {len([t for t in twitter if t > 0])}\")\n",
    "print(f\"Neutral tweets: {len([t for t in twitter if t == 0])}\")\n",
    "print(f\"Negative tweets: {len([t for t in twitter if t < 0])}\")"
   ],
   "metadata": {
    "collapsed": false,
    "pycharm": {
     "name": "#%%\n"
    }
   }
  },
  {
   "cell_type": "code",
   "execution_count": 93,
   "outputs": [
    {
     "data": {
      "text/plain": "1404"
     },
     "execution_count": 93,
     "metadata": {},
     "output_type": "execute_result"
    }
   ],
   "source": [
    "print(f\"Positive tweets: {len([t for t in media if t > 0])}\")\n",
    "print(f\"Neutral tweets: {len([t for t in media if t == 0])}\")\n",
    "print(f\"Negative tweets: {len([t for t in twitter if t < 0])}\")"
   ],
   "metadata": {
    "collapsed": false,
    "pycharm": {
     "name": "#%%\n"
    }
   }
  },
  {
   "cell_type": "code",
   "execution_count": 87,
   "outputs": [
    {
     "data": {
      "text/plain": "0.3218707015130674"
     },
     "execution_count": 87,
     "metadata": {},
     "output_type": "execute_result"
    }
   ],
   "source": [
    "1404/4362"
   ],
   "metadata": {
    "collapsed": false,
    "pycharm": {
     "name": "#%%\n"
    }
   }
  },
  {
   "cell_type": "code",
   "execution_count": 86,
   "outputs": [
    {
     "data": {
      "text/plain": "4362"
     },
     "execution_count": 86,
     "metadata": {},
     "output_type": "execute_result"
    }
   ],
   "source": [
    "len(media)"
   ],
   "metadata": {
    "collapsed": false,
    "pycharm": {
     "name": "#%%\n"
    }
   }
  },
  {
   "cell_type": "code",
   "execution_count": 85,
   "outputs": [
    {
     "data": {
      "text/plain": "1404"
     },
     "execution_count": 85,
     "metadata": {},
     "output_type": "execute_result"
    }
   ],
   "source": [
    "len([m for m in media if m > 0])"
   ],
   "metadata": {
    "collapsed": false,
    "pycharm": {
     "name": "#%%\n"
    }
   }
  }
 ],
 "metadata": {
  "kernelspec": {
   "display_name": "Python 3",
   "language": "python",
   "name": "python3"
  },
  "language_info": {
   "codemirror_mode": {
    "name": "ipython",
    "version": 2
   },
   "file_extension": ".py",
   "mimetype": "text/x-python",
   "name": "python",
   "nbconvert_exporter": "python",
   "pygments_lexer": "ipython2",
   "version": "2.7.6"
  }
 },
 "nbformat": 4,
 "nbformat_minor": 0
}