{
 "cells": [
  {
   "cell_type": "code",
   "execution_count": 12,
   "metadata": {
    "collapsed": true,
    "pycharm": {
     "name": "#%%\n"
    }
   },
   "outputs": [],
   "source": [
    "from datetime import timedelta\n",
    "import eredivisie_nlp as enlp\n",
    "import pandas as pd"
   ]
  },
  {
   "cell_type": "code",
   "execution_count": 13,
   "outputs": [],
   "source": [
    "# load data files\n",
    "df = pd.read_pickle(f\"{enlp.determine_root()}/data/master_annotations.pkl\")\n",
    "grades = pd.read_csv(enlp.determine_root() + \"/data/grades.csv\", index_col=[0])"
   ],
   "metadata": {
    "collapsed": false,
    "pycharm": {
     "name": "#%%\n"
    }
   }
  },
  {
   "cell_type": "code",
   "execution_count": 25,
   "outputs": [],
   "source": [
    "# add players column\n",
    "players = []\n",
    "for text in df.text_no_s:\n",
    "    tokenized = text.split()\n",
    "    token_players = []\n",
    "    for token in tokenized:\n",
    "        if \"_\" in token and \":\" not in token:\n",
    "            # resolve small preprocessing bug with if statement\n",
    "            if token[-1] in [\".\", \"!\", \"?\"]:\n",
    "                token_players.append(token[:-1])\n",
    "            else:\n",
    "                token_players.append(token)\n",
    "    players.append(token_players)\n",
    "df['players'] = players"
   ],
   "metadata": {
    "collapsed": false,
    "pycharm": {
     "name": "#%%\n"
    }
   }
  },
  {
   "cell_type": "code",
   "execution_count": 26,
   "outputs": [],
   "source": [
    "# get set of hashtags to iterate over\n",
    "#TESTING LINE\n",
    "hashtags = ['#ajaaz']\n",
    "#hashtags = list(set(df.hashtag))\n",
    "\n",
    "for hashtag in hashtags:\n",
    "    # get playing times\n",
    "    start_time = pd.to_datetime(grades[grades.hashtag == hashtag].datetime[0])\n",
    "    end_time = start_time + pd.DateOffset(hours=1, minutes=50)  # we assume 5 minutes extra time\n",
    "\n",
    "    # slice the dataframe on the start and end timestamps\n",
    "    before = df.loc[(df.hashtag == hashtag) & (df.date < start_time)]\n",
    "    during = df.loc[(df.hashtag == hashtag) & (df.date > start_time) & (df.date < end_time)]\n",
    "    after = df.loc[(df.hashtag == hashtag) & (df.date > end_time)]\n",
    "    # for this first version we'll only use the tweets from during the match\n",
    "    df_slices = [during]\n",
    "\n",
    "    # assign scores to players or to the match in general\n",
    "    for subset in df_slices:\n",
    "        # get set of player mentions\n",
    "        pass"
   ],
   "metadata": {
    "collapsed": false,
    "pycharm": {
     "name": "#%%\n"
    }
   }
  },
  {
   "cell_type": "code",
   "execution_count": 27,
   "outputs": [
    {
     "data": {
      "text/plain": "{'aboukhlal_az',\n 'alvarez_aja',\n 'antony_aja',\n 'berghuis_aja',\n 'beukema_az',\n 'blind_aja',\n 'clasie_az',\n 'dewit_az',\n 'gravenberch_aja',\n 'haller_aja',\n 'karlsson_az',\n 'klaassen_aja',\n 'koopmeiners_az',\n 'martinez_aja',\n 'martinsindi_az',\n 'mazraoui_aja',\n 'pasveer_aja',\n 'pavlidis_az',\n 'pereira_aja',\n 'rensch_aja',\n 'schuurs_aja',\n 'sugawara_az',\n 'tadic_aja',\n 'tagliafico_aja',\n 'taylor_aja',\n 'vindahl_az',\n 'wijndal_az'}"
     },
     "execution_count": 27,
     "metadata": {},
     "output_type": "execute_result"
    }
   ],
   "source": [
    "set([p for player in during.players for p in player])"
   ],
   "metadata": {
    "collapsed": false,
    "pycharm": {
     "name": "#%%\n"
    }
   }
  }
 ],
 "metadata": {
  "kernelspec": {
   "display_name": "Python 3",
   "language": "python",
   "name": "python3"
  },
  "language_info": {
   "codemirror_mode": {
    "name": "ipython",
    "version": 2
   },
   "file_extension": ".py",
   "mimetype": "text/x-python",
   "name": "python",
   "nbconvert_exporter": "python",
   "pygments_lexer": "ipython2",
   "version": "2.7.6"
  }
 },
 "nbformat": 4,
 "nbformat_minor": 0
}