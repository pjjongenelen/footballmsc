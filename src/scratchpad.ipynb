{
 "cells": [
  {
   "cell_type": "code",
   "execution_count": 93,
   "outputs": [
    {
     "name": "stderr",
     "output_type": "stream",
     "text": [
      "100%|██████████| 204/204 [02:07<00:00,  1.60it/s]\n"
     ]
    }
   ],
   "source": [
    "import numpy as np\n",
    "import eredivisie_nlp as enlp\n",
    "from tqdm import tqdm\n",
    "import pandas as pd\n",
    "\n",
    "# load data files\n",
    "df = pd.read_pickle(f\"{enlp.determine_root()}/data/master_annotations.pkl\")\n",
    "grades = pd.read_csv(enlp.determine_root() + \"/data/grades.csv\", index_col=[0])\n",
    "\n",
    "# some further preprocessing specific to this code\n",
    "# 1) add players column to twitter dataframe containing all player mentions\n",
    "players = []\n",
    "for text in df.text_no_s:\n",
    "    tokenized = text.split()\n",
    "    token_players = []\n",
    "    for token in tokenized:\n",
    "        if \"_\" in token and \":\" not in token:\n",
    "            # resolve small preprocessing bug with if statement\n",
    "            if token[-1] in [\".\", \"!\", \"?\"]:\n",
    "                token_players.append(token[:-1])\n",
    "            else:\n",
    "                token_players.append(token)\n",
    "    players.append(token_players)\n",
    "df['players'] = players\n",
    "# 2) lowercase gae\n",
    "df['hashtag'] = df['hashtag'].str.lower()\n",
    "# 3) add twitter columns to grades dataframe\n",
    "grades['score_m'] = np.NAN\n",
    "grades['score_p_s'] = np.NAN\n",
    "grades['score_p_no_s'] = np.NAN\n",
    "grades['num_tweets'] = np.NAN\n",
    "\n",
    "# get set of hashtags to iterate over\n",
    "hashtags = [tag for tag in list(set(df.hashtag)) if tag in list(set(grades.hashtag))]\n",
    "\n",
    "for hashtag in tqdm(hashtags):\n",
    "    # get playing times\n",
    "    start_time = pd.to_datetime(grades[grades.hashtag == hashtag].datetime.tolist()[0])\n",
    "    end_time = start_time + pd.DateOffset(hours=1, minutes=50)  # we assume 5 minutes extra time\n",
    "\n",
    "    # slice the dataframe on the start and end timestamps\n",
    "    before = df.loc[(df.hashtag == hashtag) & (df.date < start_time)]\n",
    "    during = df.loc[(df.hashtag == hashtag) & (df.date > start_time) & (df.date < end_time)]\n",
    "    after = df.loc[(df.hashtag == hashtag) & (df.date > end_time)]\n",
    "    # for this first version we'll only use the tweets from during the match\n",
    "    df_slices = [during]\n",
    "\n",
    "    # assign scores to players or to the match in general\n",
    "    for subset in df_slices:\n",
    "        # get set of player mentions\n",
    "        mentions = set([p for player in during.players for p in player])\n",
    "\n",
    "        # for each player\n",
    "        for mention in mentions:\n",
    "            # check if this player is in the grades dataframes\n",
    "            grades_df_mention = grades.loc[(grades.hashtag == hashtag) & (grades.player_id == mention)]\n",
    "            if grades_df_mention.shape[0] == 1:\n",
    "                # add the two pattern-based scores\n",
    "                for score in ['score_p_s', 'score_p_no_s']:\n",
    "                    # get the list of sentiment scores\n",
    "                    mention_scores = [row[score] for i, row in subset.iterrows() if mention in row.players]\n",
    "                    # calculate the average score and the number of mentions\n",
    "                    avg_score = round(sum(mention_scores)/len(mention_scores), 1)\n",
    "                    num_scores = len(mention_scores)\n",
    "                    # add to the grades dataframe\n",
    "                    grades.loc[(grades.hashtag == hashtag) & (grades.player_id == mention), score] = avg_score\n",
    "                    grades.loc[(grades.hashtag == hashtag) & (grades.player_id == mention), 'num_tweets'] = num_scores\n",
    "\n",
    "grades.to_pickle(enlp.determine_root() + \"/data/grades+twitter.pkl\")"
   ],
   "metadata": {
    "collapsed": false,
    "pycharm": {
     "name": "#%%\n"
    }
   }
  }
 ],
 "metadata": {
  "kernelspec": {
   "display_name": "Python 3",
   "language": "python",
   "name": "python3"
  },
  "language_info": {
   "codemirror_mode": {
    "name": "ipython",
    "version": 2
   },
   "file_extension": ".py",
   "mimetype": "text/x-python",
   "name": "python",
   "nbconvert_exporter": "python",
   "pygments_lexer": "ipython2",
   "version": "2.7.6"
  }
 },
 "nbformat": 4,
 "nbformat_minor": 0
}