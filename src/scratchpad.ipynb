{
 "cells": [
  {
   "cell_type": "code",
   "execution_count": 1,
   "metadata": {
    "collapsed": true,
    "pycharm": {
     "name": "#%%\n"
    }
   },
   "outputs": [],
   "source": [
    "from datetime import timedelta\n",
    "import eredivisie_nlp as enlp\n",
    "import pandas as pd"
   ]
  },
  {
   "cell_type": "code",
   "execution_count": 2,
   "outputs": [],
   "source": [
    "# load master file\n",
    "df = pd.read_pickle(f\"{enlp.determine_root()}/data/master_annotations.pkl\")"
   ],
   "metadata": {
    "collapsed": false,
    "pycharm": {
     "name": "#%%\n"
    }
   }
  },
  {
   "cell_type": "code",
   "execution_count": 3,
   "outputs": [],
   "source": [
    "# add metadata from original pickle file to master df\n",
    "tweets = pd.read_pickle(f\"{enlp.determine_root()}/data/tweets.pkl\")\n",
    "df['date'] = tweets.date\n",
    "df['home'] = tweets.home\n",
    "df['away'] = tweets.away"
   ],
   "metadata": {
    "collapsed": false,
    "pycharm": {
     "name": "#%%\n"
    }
   }
  },
  {
   "cell_type": "code",
   "execution_count": 4,
   "outputs": [],
   "source": [
    "# add column with player names\n",
    "players = []\n",
    "for tweet in df.text_no_s:\n",
    "    tokenized = tweet.split()\n",
    "    tweet_players = []\n",
    "    for token in tokenized:\n",
    "        if \"_\" in token and \":\" not in token:\n",
    "            tweet_players.append(token)\n",
    "    players.append(tweet_players)\n",
    "\n",
    "df['players'] = players"
   ],
   "metadata": {
    "collapsed": false,
    "pycharm": {
     "name": "#%%\n"
    }
   }
  },
  {
   "cell_type": "code",
   "execution_count": 5,
   "outputs": [
    {
     "data": {
      "text/plain": "                                                     text  \\\n0       hahahahahah ik ga hier zo goed op. wat is dit ...   \n1       het is bijna maandag, kan ik eindelijk bijkome...   \n2       vindahl_az, die een uitstekende wedstrijd keep...   \n3       ik zit net de samenvatting terug te kijken van...   \n4                             ik vond vandaag ook wel ok.   \n...                                                   ...   \n172592  van 't schip staat open voor terugkeer naar de...   \n172593  video: zerrouki_twe breekt in tranen uit na ui...   \n172594  crisis bij willem ii: supporters en sponsoren ...   \n172595  grolsch veste sluit de deuren als priklocatie ...   \n172596  spelersgroep steunt jans: 'wij willen door met...   \n\n                                                text_no_s  score_p_s  \\\n0       hahahahahah ga goed op. genieten. lekker faceb...        0.5   \n1        maandag, eindelijk bijkomen sportgeweld weekend!        0.0   \n2       vindahl_az, uitstekende wedstrijd keepte amste...        0.5   \n3       zit samenvatting terug kijken ajax zie langzaa...        0.1   \n4                                        vond vandaag ok.        0.0   \n...                                                   ...        ...   \n172592          't schip staat open terugkeer eredivisie.       -0.2   \n172593  video: zerrouki_twe breekt tranen uitschakelin...        0.0   \n172594  crisis willem ii: supporters sponsoren roeren ...        0.0   \n172595        grolsch veste sluit deuren priklocatie ggd.        0.0   \n172596           spelersgroep steunt jans: 'wij trainer'.        0.0   \n\n        score_p_no_s  score_m                      date home away  \\\n0                0.6      0.9 2021-12-12 23:03:37+00:00  aja   az   \n1                0.0      0.6 2021-12-12 22:51:01+00:00  aja   az   \n2                0.9      0.6 2021-12-12 22:44:24+00:00  aja   az   \n3               -0.1     -0.3 2021-12-12 22:28:30+00:00  aja   az   \n4                0.0      0.3 2021-12-12 22:27:01+00:00  aja   az   \n...              ...      ...                       ...  ...  ...   \n172592           0.2      NaN 2022-01-21 09:30:51+00:00  wil  twe   \n172593           0.0      NaN 2022-01-21 09:05:53+00:00  wil  twe   \n172594           0.0      NaN 2022-01-21 08:45:19+00:00  wil  twe   \n172595           0.0      NaN 2022-01-21 08:10:21+00:00  wil  twe   \n172596           0.0      NaN 2022-01-21 07:35:05+00:00  wil  twe   \n\n                           players  \n0                               []  \n1                               []  \n2       [vindahl_az,, pereira_aja]  \n3                               []  \n4                               []  \n...                            ...  \n172592                          []  \n172593              [zerrouki_twe]  \n172594                          []  \n172595                          []  \n172596                          []  \n\n[172597 rows x 9 columns]",
      "text/html": "<div>\n<style scoped>\n    .dataframe tbody tr th:only-of-type {\n        vertical-align: middle;\n    }\n\n    .dataframe tbody tr th {\n        vertical-align: top;\n    }\n\n    .dataframe thead th {\n        text-align: right;\n    }\n</style>\n<table border=\"1\" class=\"dataframe\">\n  <thead>\n    <tr style=\"text-align: right;\">\n      <th></th>\n      <th>text</th>\n      <th>text_no_s</th>\n      <th>score_p_s</th>\n      <th>score_p_no_s</th>\n      <th>score_m</th>\n      <th>date</th>\n      <th>home</th>\n      <th>away</th>\n      <th>players</th>\n    </tr>\n  </thead>\n  <tbody>\n    <tr>\n      <th>0</th>\n      <td>hahahahahah ik ga hier zo goed op. wat is dit ...</td>\n      <td>hahahahahah ga goed op. genieten. lekker faceb...</td>\n      <td>0.5</td>\n      <td>0.6</td>\n      <td>0.9</td>\n      <td>2021-12-12 23:03:37+00:00</td>\n      <td>aja</td>\n      <td>az</td>\n      <td>[]</td>\n    </tr>\n    <tr>\n      <th>1</th>\n      <td>het is bijna maandag, kan ik eindelijk bijkome...</td>\n      <td>maandag, eindelijk bijkomen sportgeweld weekend!</td>\n      <td>0.0</td>\n      <td>0.0</td>\n      <td>0.6</td>\n      <td>2021-12-12 22:51:01+00:00</td>\n      <td>aja</td>\n      <td>az</td>\n      <td>[]</td>\n    </tr>\n    <tr>\n      <th>2</th>\n      <td>vindahl_az, die een uitstekende wedstrijd keep...</td>\n      <td>vindahl_az, uitstekende wedstrijd keepte amste...</td>\n      <td>0.5</td>\n      <td>0.9</td>\n      <td>0.6</td>\n      <td>2021-12-12 22:44:24+00:00</td>\n      <td>aja</td>\n      <td>az</td>\n      <td>[vindahl_az,, pereira_aja]</td>\n    </tr>\n    <tr>\n      <th>3</th>\n      <td>ik zit net de samenvatting terug te kijken van...</td>\n      <td>zit samenvatting terug kijken ajax zie langzaa...</td>\n      <td>0.1</td>\n      <td>-0.1</td>\n      <td>-0.3</td>\n      <td>2021-12-12 22:28:30+00:00</td>\n      <td>aja</td>\n      <td>az</td>\n      <td>[]</td>\n    </tr>\n    <tr>\n      <th>4</th>\n      <td>ik vond vandaag ook wel ok.</td>\n      <td>vond vandaag ok.</td>\n      <td>0.0</td>\n      <td>0.0</td>\n      <td>0.3</td>\n      <td>2021-12-12 22:27:01+00:00</td>\n      <td>aja</td>\n      <td>az</td>\n      <td>[]</td>\n    </tr>\n    <tr>\n      <th>...</th>\n      <td>...</td>\n      <td>...</td>\n      <td>...</td>\n      <td>...</td>\n      <td>...</td>\n      <td>...</td>\n      <td>...</td>\n      <td>...</td>\n      <td>...</td>\n    </tr>\n    <tr>\n      <th>172592</th>\n      <td>van 't schip staat open voor terugkeer naar de...</td>\n      <td>'t schip staat open terugkeer eredivisie.</td>\n      <td>-0.2</td>\n      <td>0.2</td>\n      <td>NaN</td>\n      <td>2022-01-21 09:30:51+00:00</td>\n      <td>wil</td>\n      <td>twe</td>\n      <td>[]</td>\n    </tr>\n    <tr>\n      <th>172593</th>\n      <td>video: zerrouki_twe breekt in tranen uit na ui...</td>\n      <td>video: zerrouki_twe breekt tranen uitschakelin...</td>\n      <td>0.0</td>\n      <td>0.0</td>\n      <td>NaN</td>\n      <td>2022-01-21 09:05:53+00:00</td>\n      <td>wil</td>\n      <td>twe</td>\n      <td>[zerrouki_twe]</td>\n    </tr>\n    <tr>\n      <th>172594</th>\n      <td>crisis bij willem ii: supporters en sponsoren ...</td>\n      <td>crisis willem ii: supporters sponsoren roeren ...</td>\n      <td>0.0</td>\n      <td>0.0</td>\n      <td>NaN</td>\n      <td>2022-01-21 08:45:19+00:00</td>\n      <td>wil</td>\n      <td>twe</td>\n      <td>[]</td>\n    </tr>\n    <tr>\n      <th>172595</th>\n      <td>grolsch veste sluit de deuren als priklocatie ...</td>\n      <td>grolsch veste sluit deuren priklocatie ggd.</td>\n      <td>0.0</td>\n      <td>0.0</td>\n      <td>NaN</td>\n      <td>2022-01-21 08:10:21+00:00</td>\n      <td>wil</td>\n      <td>twe</td>\n      <td>[]</td>\n    </tr>\n    <tr>\n      <th>172596</th>\n      <td>spelersgroep steunt jans: 'wij willen door met...</td>\n      <td>spelersgroep steunt jans: 'wij trainer'.</td>\n      <td>0.0</td>\n      <td>0.0</td>\n      <td>NaN</td>\n      <td>2022-01-21 07:35:05+00:00</td>\n      <td>wil</td>\n      <td>twe</td>\n      <td>[]</td>\n    </tr>\n  </tbody>\n</table>\n<p>172597 rows × 9 columns</p>\n</div>"
     },
     "execution_count": 5,
     "metadata": {},
     "output_type": "execute_result"
    }
   ],
   "source": [
    "df"
   ],
   "metadata": {
    "collapsed": false,
    "pycharm": {
     "name": "#%%\n"
    }
   }
  },
  {
   "cell_type": "code",
   "execution_count": 72,
   "outputs": [
    {
     "data": {
      "text/plain": "                       datetime            player   AD   VI       home  \\\n0     2021-12-12 15:45:00+00:00     edson alvarez  5.0  5.0   AFC Ajax   \n1     2021-12-12 15:45:00+00:00            antony  5.5  6.5   AFC Ajax   \n2     2021-12-12 15:45:00+00:00   steven berghuis  5.5  5.5   AFC Ajax   \n3     2021-12-12 15:45:00+00:00       daley blind  5.0  5.0   AFC Ajax   \n4     2021-12-12 15:45:00+00:00  ryan gravenberch  5.0  6.0   AFC Ajax   \n...                         ...               ...  ...  ...        ...   \n4770  2021-11-06 19:00:00+00:00  giannis masouras  6.5  7.0  Willem II   \n4772  2021-11-06 19:00:00+00:00      sven mijnans  6.5  6.0  Willem II   \n4773  2021-11-06 19:00:00+00:00      maduka okoye  6.0  6.5  Willem II   \n4775  2021-11-06 19:00:00+00:00       lennart thy  5.0  6.5  Willem II   \n4776  2021-11-06 19:00:00+00:00      bart vriends  8.0  8.0  Willem II   \n\n                  away   time        date                       id   FM  ...  \\\n0           AZ Alkmaar  16:45  2021-12-12      edson alvarez#ajaaz  6.7  ...   \n1           AZ Alkmaar  16:45  2021-12-12             antony#ajaaz  7.5  ...   \n2           AZ Alkmaar  16:45  2021-12-12    steven berghuis#ajaaz  7.1  ...   \n3           AZ Alkmaar  16:45  2021-12-12        daley blind#ajaaz  7.1  ...   \n4           AZ Alkmaar  16:45  2021-12-12   ryan gravenberch#ajaaz  6.8  ...   \n...                ...    ...         ...                      ...  ...  ...   \n4770  Sparta Rotterdam  20:00  2021-11-06  giannis masouras#wilspa  8.4  ...   \n4772  Sparta Rotterdam  20:00  2021-11-06      sven mijnans#wilspa  7.9  ...   \n4773  Sparta Rotterdam  20:00  2021-11-06      maduka okoye#wilspa  7.0  ...   \n4775  Sparta Rotterdam  20:00  2021-11-06       lennart thy#wilspa  6.9  ...   \n4776  Sparta Rotterdam  20:00  2021-11-06      bart vriends#wilspa  9.2  ...   \n\n      Own goal  Conceded penalty  Error led to goal  Penalties won  \\\n0          NaN               NaN                NaN            NaN   \n1          NaN               NaN                NaN            NaN   \n2          NaN               NaN                NaN            NaN   \n3          NaN               NaN                NaN            NaN   \n4          NaN               NaN                NaN            NaN   \n...        ...               ...                ...            ...   \n4770       NaN               NaN                NaN            NaN   \n4772       NaN               NaN                NaN            NaN   \n4773       NaN               NaN                NaN            NaN   \n4775       NaN               NaN                NaN            NaN   \n4776       NaN               NaN                NaN            NaN   \n\n      Errors led to goal Crosses Penalties miss  hashtag  squad_abbr  \\\n0                    NaN     NaN            NaN   #ajaaz         aja   \n1                    NaN     NaN            NaN   #ajaaz         aja   \n2                    NaN     NaN            NaN   #ajaaz         aja   \n3                    NaN     NaN            NaN   #ajaaz         aja   \n4                    NaN     NaN            NaN   #ajaaz         aja   \n...                  ...     ...            ...      ...         ...   \n4770                 NaN     NaN            NaN  #wilspa         spa   \n4772                 NaN     NaN            NaN  #wilspa         spa   \n4773                 NaN     NaN            NaN  #wilspa         spa   \n4775                 NaN     NaN            NaN  #wilspa         spa   \n4776                 NaN     NaN            NaN  #wilspa         spa   \n\n            player_id  \n0         alvarez_aja  \n1          antony_aja  \n2        berghuis_aja  \n3           blind_aja  \n4     gravenberch_aja  \n...               ...  \n4770     masouras_spa  \n4772      mijnans_spa  \n4773        okoye_spa  \n4775          thy_spa  \n4776      vriends_spa  \n\n[4364 rows x 64 columns]",
      "text/html": "<div>\n<style scoped>\n    .dataframe tbody tr th:only-of-type {\n        vertical-align: middle;\n    }\n\n    .dataframe tbody tr th {\n        vertical-align: top;\n    }\n\n    .dataframe thead th {\n        text-align: right;\n    }\n</style>\n<table border=\"1\" class=\"dataframe\">\n  <thead>\n    <tr style=\"text-align: right;\">\n      <th></th>\n      <th>datetime</th>\n      <th>player</th>\n      <th>AD</th>\n      <th>VI</th>\n      <th>home</th>\n      <th>away</th>\n      <th>time</th>\n      <th>date</th>\n      <th>id</th>\n      <th>FM</th>\n      <th>...</th>\n      <th>Own goal</th>\n      <th>Conceded penalty</th>\n      <th>Error led to goal</th>\n      <th>Penalties won</th>\n      <th>Errors led to goal</th>\n      <th>Crosses</th>\n      <th>Penalties miss</th>\n      <th>hashtag</th>\n      <th>squad_abbr</th>\n      <th>player_id</th>\n    </tr>\n  </thead>\n  <tbody>\n    <tr>\n      <th>0</th>\n      <td>2021-12-12 15:45:00+00:00</td>\n      <td>edson alvarez</td>\n      <td>5.0</td>\n      <td>5.0</td>\n      <td>AFC Ajax</td>\n      <td>AZ Alkmaar</td>\n      <td>16:45</td>\n      <td>2021-12-12</td>\n      <td>edson alvarez#ajaaz</td>\n      <td>6.7</td>\n      <td>...</td>\n      <td>NaN</td>\n      <td>NaN</td>\n      <td>NaN</td>\n      <td>NaN</td>\n      <td>NaN</td>\n      <td>NaN</td>\n      <td>NaN</td>\n      <td>#ajaaz</td>\n      <td>aja</td>\n      <td>alvarez_aja</td>\n    </tr>\n    <tr>\n      <th>1</th>\n      <td>2021-12-12 15:45:00+00:00</td>\n      <td>antony</td>\n      <td>5.5</td>\n      <td>6.5</td>\n      <td>AFC Ajax</td>\n      <td>AZ Alkmaar</td>\n      <td>16:45</td>\n      <td>2021-12-12</td>\n      <td>antony#ajaaz</td>\n      <td>7.5</td>\n      <td>...</td>\n      <td>NaN</td>\n      <td>NaN</td>\n      <td>NaN</td>\n      <td>NaN</td>\n      <td>NaN</td>\n      <td>NaN</td>\n      <td>NaN</td>\n      <td>#ajaaz</td>\n      <td>aja</td>\n      <td>antony_aja</td>\n    </tr>\n    <tr>\n      <th>2</th>\n      <td>2021-12-12 15:45:00+00:00</td>\n      <td>steven berghuis</td>\n      <td>5.5</td>\n      <td>5.5</td>\n      <td>AFC Ajax</td>\n      <td>AZ Alkmaar</td>\n      <td>16:45</td>\n      <td>2021-12-12</td>\n      <td>steven berghuis#ajaaz</td>\n      <td>7.1</td>\n      <td>...</td>\n      <td>NaN</td>\n      <td>NaN</td>\n      <td>NaN</td>\n      <td>NaN</td>\n      <td>NaN</td>\n      <td>NaN</td>\n      <td>NaN</td>\n      <td>#ajaaz</td>\n      <td>aja</td>\n      <td>berghuis_aja</td>\n    </tr>\n    <tr>\n      <th>3</th>\n      <td>2021-12-12 15:45:00+00:00</td>\n      <td>daley blind</td>\n      <td>5.0</td>\n      <td>5.0</td>\n      <td>AFC Ajax</td>\n      <td>AZ Alkmaar</td>\n      <td>16:45</td>\n      <td>2021-12-12</td>\n      <td>daley blind#ajaaz</td>\n      <td>7.1</td>\n      <td>...</td>\n      <td>NaN</td>\n      <td>NaN</td>\n      <td>NaN</td>\n      <td>NaN</td>\n      <td>NaN</td>\n      <td>NaN</td>\n      <td>NaN</td>\n      <td>#ajaaz</td>\n      <td>aja</td>\n      <td>blind_aja</td>\n    </tr>\n    <tr>\n      <th>4</th>\n      <td>2021-12-12 15:45:00+00:00</td>\n      <td>ryan gravenberch</td>\n      <td>5.0</td>\n      <td>6.0</td>\n      <td>AFC Ajax</td>\n      <td>AZ Alkmaar</td>\n      <td>16:45</td>\n      <td>2021-12-12</td>\n      <td>ryan gravenberch#ajaaz</td>\n      <td>6.8</td>\n      <td>...</td>\n      <td>NaN</td>\n      <td>NaN</td>\n      <td>NaN</td>\n      <td>NaN</td>\n      <td>NaN</td>\n      <td>NaN</td>\n      <td>NaN</td>\n      <td>#ajaaz</td>\n      <td>aja</td>\n      <td>gravenberch_aja</td>\n    </tr>\n    <tr>\n      <th>...</th>\n      <td>...</td>\n      <td>...</td>\n      <td>...</td>\n      <td>...</td>\n      <td>...</td>\n      <td>...</td>\n      <td>...</td>\n      <td>...</td>\n      <td>...</td>\n      <td>...</td>\n      <td>...</td>\n      <td>...</td>\n      <td>...</td>\n      <td>...</td>\n      <td>...</td>\n      <td>...</td>\n      <td>...</td>\n      <td>...</td>\n      <td>...</td>\n      <td>...</td>\n      <td>...</td>\n    </tr>\n    <tr>\n      <th>4770</th>\n      <td>2021-11-06 19:00:00+00:00</td>\n      <td>giannis masouras</td>\n      <td>6.5</td>\n      <td>7.0</td>\n      <td>Willem II</td>\n      <td>Sparta Rotterdam</td>\n      <td>20:00</td>\n      <td>2021-11-06</td>\n      <td>giannis masouras#wilspa</td>\n      <td>8.4</td>\n      <td>...</td>\n      <td>NaN</td>\n      <td>NaN</td>\n      <td>NaN</td>\n      <td>NaN</td>\n      <td>NaN</td>\n      <td>NaN</td>\n      <td>NaN</td>\n      <td>#wilspa</td>\n      <td>spa</td>\n      <td>masouras_spa</td>\n    </tr>\n    <tr>\n      <th>4772</th>\n      <td>2021-11-06 19:00:00+00:00</td>\n      <td>sven mijnans</td>\n      <td>6.5</td>\n      <td>6.0</td>\n      <td>Willem II</td>\n      <td>Sparta Rotterdam</td>\n      <td>20:00</td>\n      <td>2021-11-06</td>\n      <td>sven mijnans#wilspa</td>\n      <td>7.9</td>\n      <td>...</td>\n      <td>NaN</td>\n      <td>NaN</td>\n      <td>NaN</td>\n      <td>NaN</td>\n      <td>NaN</td>\n      <td>NaN</td>\n      <td>NaN</td>\n      <td>#wilspa</td>\n      <td>spa</td>\n      <td>mijnans_spa</td>\n    </tr>\n    <tr>\n      <th>4773</th>\n      <td>2021-11-06 19:00:00+00:00</td>\n      <td>maduka okoye</td>\n      <td>6.0</td>\n      <td>6.5</td>\n      <td>Willem II</td>\n      <td>Sparta Rotterdam</td>\n      <td>20:00</td>\n      <td>2021-11-06</td>\n      <td>maduka okoye#wilspa</td>\n      <td>7.0</td>\n      <td>...</td>\n      <td>NaN</td>\n      <td>NaN</td>\n      <td>NaN</td>\n      <td>NaN</td>\n      <td>NaN</td>\n      <td>NaN</td>\n      <td>NaN</td>\n      <td>#wilspa</td>\n      <td>spa</td>\n      <td>okoye_spa</td>\n    </tr>\n    <tr>\n      <th>4775</th>\n      <td>2021-11-06 19:00:00+00:00</td>\n      <td>lennart thy</td>\n      <td>5.0</td>\n      <td>6.5</td>\n      <td>Willem II</td>\n      <td>Sparta Rotterdam</td>\n      <td>20:00</td>\n      <td>2021-11-06</td>\n      <td>lennart thy#wilspa</td>\n      <td>6.9</td>\n      <td>...</td>\n      <td>NaN</td>\n      <td>NaN</td>\n      <td>NaN</td>\n      <td>NaN</td>\n      <td>NaN</td>\n      <td>NaN</td>\n      <td>NaN</td>\n      <td>#wilspa</td>\n      <td>spa</td>\n      <td>thy_spa</td>\n    </tr>\n    <tr>\n      <th>4776</th>\n      <td>2021-11-06 19:00:00+00:00</td>\n      <td>bart vriends</td>\n      <td>8.0</td>\n      <td>8.0</td>\n      <td>Willem II</td>\n      <td>Sparta Rotterdam</td>\n      <td>20:00</td>\n      <td>2021-11-06</td>\n      <td>bart vriends#wilspa</td>\n      <td>9.2</td>\n      <td>...</td>\n      <td>NaN</td>\n      <td>NaN</td>\n      <td>NaN</td>\n      <td>NaN</td>\n      <td>NaN</td>\n      <td>NaN</td>\n      <td>NaN</td>\n      <td>#wilspa</td>\n      <td>spa</td>\n      <td>vriends_spa</td>\n    </tr>\n  </tbody>\n</table>\n<p>4364 rows × 64 columns</p>\n</div>"
     },
     "execution_count": 72,
     "metadata": {},
     "output_type": "execute_result"
    }
   ],
   "source": [
    "grades = pd.read_csv(enlp.determine_root() + \"/data/grades.csv\", index_col=[0])\n",
    "grades"
   ],
   "metadata": {
    "collapsed": false,
    "pycharm": {
     "name": "#%%\n"
    }
   }
  }
 ],
 "metadata": {
  "kernelspec": {
   "display_name": "Python 3",
   "language": "python",
   "name": "python3"
  },
  "language_info": {
   "codemirror_mode": {
    "name": "ipython",
    "version": 2
   },
   "file_extension": ".py",
   "mimetype": "text/x-python",
   "name": "python",
   "nbconvert_exporter": "python",
   "pygments_lexer": "ipython2",
   "version": "2.7.6"
  }
 },
 "nbformat": 4,
 "nbformat_minor": 0
}